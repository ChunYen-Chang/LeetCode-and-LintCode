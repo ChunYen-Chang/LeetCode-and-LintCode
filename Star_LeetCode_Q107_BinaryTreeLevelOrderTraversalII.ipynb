{
 "cells": [
  {
   "cell_type": "code",
   "execution_count": 9,
   "metadata": {},
   "outputs": [],
   "source": [
    "# Definition for a binary tree node.\n",
    "class TreeNode(object):\n",
    "    def __init__(self, x):\n",
    "        self.val = x\n",
    "        self.left = None\n",
    "        self.right = None"
   ]
  },
  {
   "cell_type": "code",
   "execution_count": 10,
   "metadata": {},
   "outputs": [],
   "source": [
    "# ----------make a tree----------\n",
    "# create nodes\n",
    "node1 = TreeNode(3)\n",
    "node2 = TreeNode(9)\n",
    "node3 = TreeNode(20)\n",
    "node4 = TreeNode(15)\n",
    "node5 = TreeNode(7)\n",
    "\n",
    "# create a tree\n",
    "node1.left = node2\n",
    "node1.right = node3\n",
    "node3.left = node4\n",
    "node3.right = node5"
   ]
  },
  {
   "cell_type": "code",
   "execution_count": 33,
   "metadata": {},
   "outputs": [],
   "source": [
    "# ----------Answer---------\n",
    "from collections import deque\n",
    "def levelOrderBottom(root):\n",
    "    \"\"\"\n",
    "    :type root: TreeNode\n",
    "    :rtype: List[List[int]]\n",
    "    \"\"\"\n",
    "    result, data = [], []\n",
    "    working_queue = deque([root])\n",
    "    \n",
    "    n_count = 1\n",
    "    \n",
    "    while working_queue:\n",
    "        current_node = working_queue.popleft()\n",
    "        \n",
    "        data.append(current_node.val)\n",
    "        n_count = n_count-1\n",
    "        \n",
    "        if current_node.left:\n",
    "            working_queue.append(current_node.left)\n",
    "            \n",
    "        if current_node.right:\n",
    "            working_queue.append(current_node.right)\n",
    "\n",
    "        if n_count == 0:\n",
    "            result = [data] + result\n",
    "            data = []\n",
    "            n_count = len(working_queue)\n",
    "        \n",
    "    return result"
   ]
  },
  {
   "cell_type": "code",
   "execution_count": 34,
   "metadata": {},
   "outputs": [
    {
     "data": {
      "text/plain": [
       "[[15, 7], [9, 20], [3]]"
      ]
     },
     "execution_count": 34,
     "metadata": {},
     "output_type": "execute_result"
    }
   ],
   "source": [
    "levelOrderBottom(node1)"
   ]
  },
  {
   "cell_type": "code",
   "execution_count": 35,
   "metadata": {},
   "outputs": [],
   "source": [
    "# things need to consider\n",
    "# the key point in this question is \"n_count\""
   ]
  },
  {
   "cell_type": "code",
   "execution_count": null,
   "metadata": {},
   "outputs": [],
   "source": []
  }
 ],
 "metadata": {
  "kernelspec": {
   "display_name": "Python 3",
   "language": "python",
   "name": "python3"
  },
  "language_info": {
   "codemirror_mode": {
    "name": "ipython",
    "version": 3
   },
   "file_extension": ".py",
   "mimetype": "text/x-python",
   "name": "python",
   "nbconvert_exporter": "python",
   "pygments_lexer": "ipython3",
   "version": "3.7.0"
  }
 },
 "nbformat": 4,
 "nbformat_minor": 2
}
