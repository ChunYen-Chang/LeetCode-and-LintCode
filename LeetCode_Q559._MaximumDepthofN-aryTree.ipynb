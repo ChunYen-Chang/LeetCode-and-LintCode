{
 "cells": [
  {
   "cell_type": "code",
   "execution_count": 6,
   "metadata": {},
   "outputs": [],
   "source": [
    "# Definition for a Node.\n",
    "class TreeNode(object):\n",
    "    def __init__(self, val=None, children=None):\n",
    "        self.val = val\n",
    "        self.children = children"
   ]
  },
  {
   "cell_type": "code",
   "execution_count": 7,
   "metadata": {},
   "outputs": [],
   "source": [
    "# make a tree\n",
    "node1 = TreeNode(1, [])\n",
    "node2 = TreeNode(3, [])\n",
    "node3 = TreeNode(2)\n",
    "node4 = TreeNode(4)\n",
    "node5 = TreeNode(5)\n",
    "node6 = TreeNode(6)\n",
    "\n",
    "node1.children.append(node2)\n",
    "node1.children.append(node3)\n",
    "node1.children.append(node4)\n",
    "node2.children.append(node5)\n",
    "node2.children.append(node6)"
   ]
  },
  {
   "cell_type": "markdown",
   "metadata": {},
   "source": [
    "# ANSWER"
   ]
  },
  {
   "cell_type": "code",
   "execution_count": 12,
   "metadata": {},
   "outputs": [],
   "source": [
    "from collections import deque\n",
    "def maxDepth(root):\n",
    "    \"\"\"\n",
    "    :type root: Node\n",
    "    :rtype: int\n",
    "    \"\"\"\n",
    "    if not root:\n",
    "        return 0\n",
    "    \n",
    "    container = deque([root])\n",
    "    depth = 0\n",
    "    \n",
    "    while container:\n",
    "        for level in range(len(container)):\n",
    "            current_root = container.popleft()\n",
    "            \n",
    "            if current_root.children:\n",
    "                for each_child in current_root.children:\n",
    "                    container.append(each_child)\n",
    "        \n",
    "        depth = depth +1\n",
    "    \n",
    "    return depth\n",
    "      "
   ]
  },
  {
   "cell_type": "code",
   "execution_count": 13,
   "metadata": {},
   "outputs": [
    {
     "data": {
      "text/plain": [
       "3"
      ]
     },
     "execution_count": 13,
     "metadata": {},
     "output_type": "execute_result"
    }
   ],
   "source": [
    "maxDepth(node1)"
   ]
  },
  {
   "cell_type": "code",
   "execution_count": 14,
   "metadata": {},
   "outputs": [],
   "source": [
    "from collections import deque\n",
    "def minDepth(root):\n",
    "    \"\"\"\n",
    "    :type root: Node\n",
    "    :rtype: int\n",
    "    \"\"\"\n",
    "    if not root:\n",
    "        return 0\n",
    "    \n",
    "    container = deque([root])\n",
    "    depth = 1\n",
    "    while container:\n",
    "        for level in range(len(container)):\n",
    "            current_root = container.popleft()\n",
    "            \n",
    "            if not current_root.children:\n",
    "                return depth\n",
    "            \n",
    "            if current_root.children:\n",
    "                for each_child in current_root.children:\n",
    "                    container.append(each_child)\n",
    "                    \n",
    "        depth = depth +1\n",
    "    return depth\n",
    "      "
   ]
  },
  {
   "cell_type": "code",
   "execution_count": 15,
   "metadata": {},
   "outputs": [
    {
     "data": {
      "text/plain": [
       "2"
      ]
     },
     "execution_count": 15,
     "metadata": {},
     "output_type": "execute_result"
    }
   ],
   "source": [
    "minDepth(node1)"
   ]
  },
  {
   "cell_type": "code",
   "execution_count": null,
   "metadata": {},
   "outputs": [],
   "source": []
  }
 ],
 "metadata": {
  "kernelspec": {
   "display_name": "Python 3",
   "language": "python",
   "name": "python3"
  },
  "language_info": {
   "codemirror_mode": {
    "name": "ipython",
    "version": 3
   },
   "file_extension": ".py",
   "mimetype": "text/x-python",
   "name": "python",
   "nbconvert_exporter": "python",
   "pygments_lexer": "ipython3",
   "version": "3.7.0"
  }
 },
 "nbformat": 4,
 "nbformat_minor": 2
}
