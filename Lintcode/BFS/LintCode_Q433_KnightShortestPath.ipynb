{
 "cells": [
  {
   "cell_type": "code",
   "execution_count": 1,
   "metadata": {},
   "outputs": [],
   "source": [
    "from collections import deque\n",
    "\n",
    "def shortestPath(grid, source, destination):\n",
    "    directions = [(2,1),(1,2),(2,-1),(1,-2),(-1,-2),(-2,-1),(-1,2),(-2,1)]\n",
    "    \n",
    "    queue = deque([source])\n",
    "    visited = {}\n",
    "    visited[current_position] = 0\n",
    "    \n",
    "    while queue:\n",
    "        current_position = queue.popleft()\n",
    "        \n",
    "        if current_position == destination:\n",
    "            return visited[current_position]\n",
    "        \n",
    "        for i in directions:\n",
    "            new_row_index = current_position[0] + i[0]\n",
    "            new_column_index = current_position[1] + i[1]\n",
    "            \n",
    "            if is_valid(new_row_index, new_column_index):\n",
    "                queue.append((new_row_index, new_column_index))\n",
    "                visited[(new_row_index, new_column_index)] = visited[current_position] + 1\n",
    "    return -1\n",
    "    "
   ]
  },
  {
   "cell_type": "code",
   "execution_count": 2,
   "metadata": {},
   "outputs": [],
   "source": [
    "def is_valid(row_index, column_index, grid, visited):\n",
    "    length_row = len(grid)\n",
    "    length_column = len(grid[0])\n",
    "    \n",
    "    if not (0 <= row_index < length_row and 0 <= column_index < length_column):\n",
    "        return False\n",
    "    \n",
    "    if (row_index, column_index) in visited:\n",
    "        return False\n",
    "    \n",
    "    return grid[row_index][column_index]"
   ]
  },
  {
   "cell_type": "code",
   "execution_count": null,
   "metadata": {},
   "outputs": [],
   "source": []
  }
 ],
 "metadata": {
  "kernelspec": {
   "display_name": "Python 3",
   "language": "python",
   "name": "python3"
  },
  "language_info": {
   "codemirror_mode": {
    "name": "ipython",
    "version": 3
   },
   "file_extension": ".py",
   "mimetype": "text/x-python",
   "name": "python",
   "nbconvert_exporter": "python",
   "pygments_lexer": "ipython3",
   "version": "3.7.0"
  }
 },
 "nbformat": 4,
 "nbformat_minor": 2
}
