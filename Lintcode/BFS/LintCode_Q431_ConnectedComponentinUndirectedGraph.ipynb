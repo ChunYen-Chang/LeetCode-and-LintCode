{
 "cells": [
  {
   "cell_type": "code",
   "execution_count": 1,
   "metadata": {},
   "outputs": [],
   "source": [
    "\"\"\"\n",
    "Definition for a undirected graph node\n",
    "class UndirectedGraphNode:\n",
    "    def __init__(self, x):\n",
    "        self.label = x\n",
    "        self.neighbors = []\n",
    "\"\"\"\n",
    "\n",
    "\n",
    "class Solution:\n",
    "    \"\"\"\n",
    "    @param {UndirectedGraphNode[]} nodes a array of undirected graph node\n",
    "    @return {int[][]} a connected set of a undirected graph\n",
    "    \"\"\"\n",
    "    def bfs(self, node, node_dic):\n",
    "        queue = [node]\n",
    "        temp_result = []\n",
    "        temp_result.append(node.label)\n",
    "        \n",
    "        while queue:\n",
    "            current_node = queue.pop(0)\n",
    "            node_dic[current_node] = True\n",
    "\n",
    "            for neighbor in current_node.neighbors:\n",
    "                if not node_dic[neighbor]:\n",
    "                    node_dic[neighbor] = True\n",
    "                    temp_result.append(neighbor.label)\n",
    "                    queue.append(neighbor)\n",
    "                    \n",
    "        return temp_result\n",
    "    \n",
    "    \n",
    "    def connectedSet(self, nodes):\n",
    "        # make a dictionart to show whether this node is seen or not\n",
    "        node_dic = {}\n",
    "        for node in nodes:\n",
    "            node_dic[node] = False\n",
    "            \n",
    "        # for storing the subgraph result\n",
    "        final_result = []\n",
    "        \n",
    "        # do bfs    \n",
    "        for node in nodes:\n",
    "            if not node_dic[node]:\n",
    "                temp_result = self.bfs(node, node_dic)\n",
    "                final_result.append(sorted(temp_result))\n",
    "        \n",
    "        return final_result\n",
    "            "
   ]
  },
  {
   "cell_type": "code",
   "execution_count": null,
   "metadata": {},
   "outputs": [],
   "source": []
  }
 ],
 "metadata": {
  "kernelspec": {
   "display_name": "Python 3",
   "language": "python",
   "name": "python3"
  },
  "language_info": {
   "codemirror_mode": {
    "name": "ipython",
    "version": 3
   },
   "file_extension": ".py",
   "mimetype": "text/x-python",
   "name": "python",
   "nbconvert_exporter": "python",
   "pygments_lexer": "ipython3",
   "version": "3.7.0"
  }
 },
 "nbformat": 4,
 "nbformat_minor": 2
}
