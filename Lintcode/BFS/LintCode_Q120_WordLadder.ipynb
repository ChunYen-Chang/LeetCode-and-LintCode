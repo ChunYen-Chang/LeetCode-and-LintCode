{
 "cells": [
  {
   "cell_type": "code",
   "execution_count": null,
   "metadata": {},
   "outputs": [],
   "source": [
    "class Solution:\n",
    "    \"\"\"\n",
    "    @param: start: a string\n",
    "    @param: end: a string\n",
    "    @param: dic: a set of string\n",
    "    @return: An integer\n",
    "    \"\"\"\n",
    "    def get_new_word_list(selfㄝwordstring):\n",
    "        wordlist = []\n",
    "    \n",
    "        for i in range(len(wordstring)):\n",
    "            left_part = wordstring[:i]\n",
    "            right_part = wordstring[i+1:]\n",
    "        \n",
    "            for char in \"abcdefghijklmnopqrstuvwxyz\":\n",
    "                new_word = left_part + char + right_part\n",
    "            \n",
    "                if new_word != wordstring:\n",
    "                    wordlist.append(new_word)\n",
    "                    \n",
    "        return wordlist\n",
    "\n",
    "\n",
    "    def ladderLength(self, start, end, dic):\n",
    "        dic.add(end)\n",
    "        queue = deque([start])\n",
    "        visited = set([start])\n",
    "        steps = 0\n",
    "    \n",
    "        while queue:\n",
    "            steps += 1\n",
    "            current_word = queue.popleft()\n",
    "            if current_word == end:\n",
    "                return steps\n",
    "        \n",
    "            current_word_newlist = get_new_word_list(current_word)\n",
    "            for new_word in current_word_newlist:\n",
    "                if (new_word not in dic) or (new_word in visited):\n",
    "                    continue\n",
    "                queue.append(new_word)\n",
    "                visited.add(new_word)\n",
    "        return 0\n",
    "                \n"
   ]
  },
  {
   "cell_type": "code",
   "execution_count": 1,
   "metadata": {},
   "outputs": [],
   "source": [
    "# note for this problem: the key point here is that we have to treat this problem as a graph problem!\n",
    "# each time, the character in a word can be replaced by other 25 characters and form bew words. We \n",
    "# use the get_new_word_list function to get these new words and check whether they exist in the dictionary\n",
    "# or not"
   ]
  },
  {
   "cell_type": "code",
   "execution_count": null,
   "metadata": {},
   "outputs": [],
   "source": []
  }
 ],
 "metadata": {
  "kernelspec": {
   "display_name": "Python 3",
   "language": "python",
   "name": "python3"
  },
  "language_info": {
   "codemirror_mode": {
    "name": "ipython",
    "version": 3
   },
   "file_extension": ".py",
   "mimetype": "text/x-python",
   "name": "python",
   "nbconvert_exporter": "python",
   "pygments_lexer": "ipython3",
   "version": "3.7.0"
  }
 },
 "nbformat": 4,
 "nbformat_minor": 2
}
