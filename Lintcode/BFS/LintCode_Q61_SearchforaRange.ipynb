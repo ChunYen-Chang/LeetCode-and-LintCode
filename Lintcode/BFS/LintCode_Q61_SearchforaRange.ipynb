{
 "cells": [
  {
   "cell_type": "code",
   "execution_count": 14,
   "metadata": {},
   "outputs": [],
   "source": [
    "class Solution:\n",
    "    \"\"\"\n",
    "    @param A: an integer sorted array\n",
    "    @param target: an integer to be inserted\n",
    "    @return: a list of length 2, [index1, index2]\n",
    "    \"\"\"\n",
    "    def binary_search_front(self, A, target):\n",
    "        if A == []:\n",
    "            return -1\n",
    "            \n",
    "        start = 0\n",
    "        end = len(A)-1\n",
    "        \n",
    "        while start+1 < end:\n",
    "            mid = (start+end) // 2\n",
    "            \n",
    "            if A[mid] >= target:\n",
    "                end = mid\n",
    "            elif A[mid] < target:\n",
    "                start = mid\n",
    "            \n",
    "        if A[start] == target:\n",
    "            return start\n",
    "        if A[end] == target:\n",
    "            return end\n",
    "        return -1\n",
    "\n",
    "\n",
    "    def binary_search_end(self, A, target):\n",
    "        if A == []:\n",
    "            return -1\n",
    "            \n",
    "        start = 0\n",
    "        end = len(A)-1\n",
    "        \n",
    "        while start+1 < end:\n",
    "            mid = (start+end) // 2\n",
    "            \n",
    "            if A[mid] > target:\n",
    "                end = mid\n",
    "            elif A[mid] <= target:\n",
    "                start = mid\n",
    "                \n",
    "        if A[end] == target:\n",
    "            return end            \n",
    "        if A[start] == target:\n",
    "            return start\n",
    "\n",
    "        return -1\n",
    "        \n",
    "        \n",
    "    def searchRange(self, A, target):\n",
    "        front_position = self.binary_search_front(A, target)\n",
    "        end_position = self.binary_search_end(A, target)\n",
    "        return [front_position, end_position]\n"
   ]
  },
  {
   "cell_type": "code",
   "execution_count": null,
   "metadata": {},
   "outputs": [],
   "source": [
    "# note: conduct a binary search for two times. The first time is for finding the starting position of the given target. The \n",
    "# second time is for find the ending positon of the given target. Please pay attention to the \">, <, =\" part when you write \n",
    "# the binary search function. And, the order of the last part!"
   ]
  }
 ],
 "metadata": {
  "kernelspec": {
   "display_name": "Python 3",
   "language": "python",
   "name": "python3"
  },
  "language_info": {
   "codemirror_mode": {
    "name": "ipython",
    "version": 3
   },
   "file_extension": ".py",
   "mimetype": "text/x-python",
   "name": "python",
   "nbconvert_exporter": "python",
   "pygments_lexer": "ipython3",
   "version": "3.7.0"
  }
 },
 "nbformat": 4,
 "nbformat_minor": 2
}
