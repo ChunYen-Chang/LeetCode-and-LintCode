{
 "cells": [
  {
   "cell_type": "code",
   "execution_count": 6,
   "metadata": {},
   "outputs": [],
   "source": [
    "\"\"\"\n",
    "Definition for a Directed graph node\n",
    "class DirectedGraphNode:\n",
    "    def __init__(self, x):\n",
    "        self.label = x\n",
    "        self.neighbors = []\n",
    "\"\"\"\n",
    "\n",
    "from collections import deque\n",
    "\n",
    "\n",
    "class Solution:\n",
    "    \"\"\"\n",
    "    @param: graph: A list of Directed graph node\n",
    "    @return: Any topological order for the given graph.\n",
    "    \"\"\"\n",
    "    def get_degree(self, graph):\n",
    "        node_dic = {x: 0 for x in graph}\n",
    "    \n",
    "        for node in graph:\n",
    "            for neighbor in node.neighbors:\n",
    "                node_dic[neighbor] += 1\n",
    "        \n",
    "        return node_dic\n",
    "    \n",
    "\n",
    "    def topSort(self, graph):\n",
    "        order = []\n",
    "    \n",
    "        node_to_degree = self.get_degree(graph)\n",
    "        start_node = [i for i in graph if node_to_degree[i] == 0]\n",
    "        queue = deque(start_node)\n",
    "    \n",
    "        while queue:\n",
    "            current_node = queue.popleft()\n",
    "            order.append(current_node)\n",
    "        \n",
    "            for neighbor in current_node.neighbors:\n",
    "                node_to_degree[neighbor] -= 1\n",
    "            \n",
    "                if node_to_degree[neighbor] == 0:\n",
    "                    queue.append(neighbor)\n",
    "                    \n",
    "        return order"
   ]
  },
  {
   "cell_type": "code",
   "execution_count": null,
   "metadata": {},
   "outputs": [],
   "source": []
  }
 ],
 "metadata": {
  "kernelspec": {
   "display_name": "Python 3",
   "language": "python",
   "name": "python3"
  },
  "language_info": {
   "codemirror_mode": {
    "name": "ipython",
    "version": 3
   },
   "file_extension": ".py",
   "mimetype": "text/x-python",
   "name": "python",
   "nbconvert_exporter": "python",
   "pygments_lexer": "ipython3",
   "version": "3.7.0"
  }
 },
 "nbformat": 4,
 "nbformat_minor": 2
}
