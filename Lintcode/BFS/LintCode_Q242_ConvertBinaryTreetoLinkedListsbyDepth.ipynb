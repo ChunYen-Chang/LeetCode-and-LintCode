{
 "cells": [
  {
   "cell_type": "code",
   "execution_count": null,
   "metadata": {},
   "outputs": [],
   "source": [
    "\"\"\"\n",
    "Definition of TreeNode:\n",
    "class TreeNode:\n",
    "    def __init__(self, val):\n",
    "        this.val = val\n",
    "        this.left, this.right = None, None\n",
    "Definition for singly-linked list.\n",
    "class ListNode:\n",
    "    def __init__(self, x):\n",
    "        self.val = x\n",
    "        self.next = None\n",
    "\"\"\"\n",
    "class Solution:\n",
    "    # @param {TreeNode} root the root of binary tree\n",
    "    # @return {ListNode[]} a lists of linked list\n",
    "    def binaryTreeToLists(self, root):\n",
    "        if not root:\n",
    "            return []\n",
    "        \n",
    "        res, queue = [], []\n",
    "        queue.append(root)\n",
    "        \n",
    "        while queue:\n",
    "            level = []\n",
    "            for i in range(len(queue)):\n",
    "                current_node = queue.pop(0)\n",
    "                \n",
    "                if current_node.left:\n",
    "                    queue.append(current_node.left)\n",
    "                if current_node.right:\n",
    "                    queue.append(current_node.right)\n",
    "                \n",
    "                if len(level) == 0:    \n",
    "                    new_list_node = ListNode(current_node.val)\n",
    "                    level.append(new_list_node)\n",
    "                else:\n",
    "                    new_list_node = ListNode(current_node.val)\n",
    "                    pre_list_node = level[-1]\n",
    "                    pre_list_node.next = new_list_node\n",
    "                    \n",
    "                    level.append(new_list_node)\n",
    "                    \n",
    "            res.append(level[0])\n",
    "        return res"
   ]
  }
 ],
 "metadata": {
  "kernelspec": {
   "display_name": "Python 3",
   "language": "python",
   "name": "python3"
  },
  "language_info": {
   "codemirror_mode": {
    "name": "ipython",
    "version": 3
   },
   "file_extension": ".py",
   "mimetype": "text/x-python",
   "name": "python",
   "nbconvert_exporter": "python",
   "pygments_lexer": "ipython3",
   "version": "3.7.0"
  }
 },
 "nbformat": 4,
 "nbformat_minor": 2
}
