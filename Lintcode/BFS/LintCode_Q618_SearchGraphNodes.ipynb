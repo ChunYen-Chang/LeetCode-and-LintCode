{
 "cells": [
  {
   "cell_type": "markdown",
   "metadata": {},
   "source": [
    "# ANSWER ONE - usiong the value dictionry to prevent from putting \"visited node\" in queue again "
   ]
  },
  {
   "cell_type": "code",
   "execution_count": null,
   "metadata": {},
   "outputs": [],
   "source": [
    "\"\"\"\n",
    "Definition for a undirected graph node\n",
    "class UndirectedGraphNode:\n",
    "    def __init__(self, x):\n",
    "        self.label = x\n",
    "        self.neighbors = []\n",
    "\"\"\"\n",
    "class Solution:\n",
    "    \"\"\"\n",
    "    @param: graph: a list of Undirected graph node\n",
    "    @param: values: a hash mapping, <UndirectedGraphNode, (int)value>\n",
    "    @param: node: an Undirected graph node\n",
    "    @param: target: An integer\n",
    "    @return: a node\n",
    "    \"\"\"\n",
    "    def searchNode(self, graph, values, node, target):\n",
    "        if values[node] == target:\n",
    "            return node\n",
    "        \n",
    "        \n",
    "        queue = [node]\n",
    "        del values[node]\n",
    "        \n",
    "        while queue:\n",
    "            current_node = queue.pop(0)\n",
    "            for neighbor in current_node.neighbors:\n",
    "                if neighbor in values:\n",
    "                    if values[neighbor] == target:\n",
    "                        return neighbor\n",
    "                    queue.append(neighbor)\n",
    "                    del values[neighbor]\n",
    "        return None\n",
    "                "
   ]
  },
  {
   "cell_type": "markdown",
   "metadata": {},
   "source": [
    "# ANSWER TWO - usiong a set to prevent from putting \"visited node\" in queue again "
   ]
  },
  {
   "cell_type": "code",
   "execution_count": null,
   "metadata": {},
   "outputs": [],
   "source": [
    "\"\"\"\n",
    "Definition for a undirected graph node\n",
    "class UndirectedGraphNode:\n",
    "    def __init__(self, x):\n",
    "        self.label = x\n",
    "        self.neighbors = []\n",
    "\"\"\"\n",
    "class Solution:\n",
    "    \"\"\"\n",
    "    @param: graph: a list of Undirected graph node\n",
    "    @param: values: a hash mapping, <UndirectedGraphNode, (int)value>\n",
    "    @param: node: an Undirected graph node\n",
    "    @param: target: An integer\n",
    "    @return: a node\n",
    "    \"\"\"\n",
    "    def searchNode(self, graph, values, node, target):\n",
    "        if values[node] == target:\n",
    "            return node\n",
    "        \n",
    "        visited = set()\n",
    "        queue = [node]\n",
    "        visited.add(node)\n",
    "        \n",
    "        while queue:\n",
    "            current_node = queue.pop(0)\n",
    "            for neighbor in current_node.neighbors:\n",
    "                if neighbor not in visited:\n",
    "                    if values[neighbor] == target:\n",
    "                        return neighbor\n",
    "                    queue.append(neighbor)\n",
    "        return None\n",
    "                "
   ]
  }
 ],
 "metadata": {
  "kernelspec": {
   "display_name": "Python 3",
   "language": "python",
   "name": "python3"
  },
  "language_info": {
   "codemirror_mode": {
    "name": "ipython",
    "version": 3
   },
   "file_extension": ".py",
   "mimetype": "text/x-python",
   "name": "python",
   "nbconvert_exporter": "python",
   "pygments_lexer": "ipython3",
   "version": "3.7.0"
  }
 },
 "nbformat": 4,
 "nbformat_minor": 2
}
