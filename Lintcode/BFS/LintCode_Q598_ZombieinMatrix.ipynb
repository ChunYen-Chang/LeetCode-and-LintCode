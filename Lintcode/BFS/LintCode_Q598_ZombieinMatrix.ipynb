{
 "cells": [
  {
   "cell_type": "code",
   "execution_count": 37,
   "metadata": {},
   "outputs": [],
   "source": [
    "class Solution:\n",
    "    \"\"\"\n",
    "    @param grid: a 2D integer grid\n",
    "    @return: an integer\n",
    "    \"\"\"\n",
    "    def find_zombie(self, grid):\n",
    "        zombie_position = []\n",
    "        \n",
    "        for row in range(len(grid)):\n",
    "            for column in range(len(grid[0])):\n",
    "                if grid[row][column] == 1:\n",
    "                    zombie_position.append([row, column])\n",
    "                    \n",
    "        return zombie_position\n",
    "                \n",
    "    \n",
    "    def is_valid(self, grid, new_row, new_column):\n",
    "        row_length = len(grid)\n",
    "        column_length = len(grid[0])\n",
    "        \n",
    "        if (0 <= new_row < row_length) and (0 <= new_column < column_length):\n",
    "            return True\n",
    "        else:\n",
    "            return False\n",
    "        \n",
    "    \n",
    "    def zombie(self, grid):\n",
    "        zombie_position = self.find_zombie(grid)\n",
    "        \n",
    "        queue = []\n",
    "        queue = queue + zombie_position\n",
    "        direction = [[0, 1], [1, 0], [-1, 0], [0, -1]]\n",
    "        day = 0\n",
    "        \n",
    "        while queue:\n",
    "            day += 1\n",
    "            for i in range(len(queue)):\n",
    "                current_zombie_position = queue.pop(0)\n",
    "                for row_move, column_move in direction:\n",
    "                    new_row = current_zombie_position[0] + row_move\n",
    "                    new_column = current_zombie_position[1] + column_move\n",
    "                    \n",
    "                    if self.is_valid(grid, new_row, new_column):\n",
    "                        if grid[new_row][new_column] == 0:\n",
    "                            grid[new_row][new_column] = 1\n",
    "                            queue.append([new_row, new_column])\n",
    "        \n",
    "        for row in range(len(grid)):\n",
    "            for column in range(len(grid[0])):\n",
    "                if grid[row][column] == 0:\n",
    "                    return -1\n",
    "        \n",
    "        return day-1\n",
    "                    \n",
    "                    \n",
    "        "
   ]
  },
  {
   "cell_type": "code",
   "execution_count": null,
   "metadata": {},
   "outputs": [],
   "source": [
    "# note: please consider this question as a question which asking us to use BFS to walk through all grids\n",
    "#       another thing needs to mention is that we have to minus 1 when we return the days \n",
    "#      (because we count the first step in the beginning)"
   ]
  }
 ],
 "metadata": {
  "kernelspec": {
   "display_name": "Python 3",
   "language": "python",
   "name": "python3"
  },
  "language_info": {
   "codemirror_mode": {
    "name": "ipython",
    "version": 3
   },
   "file_extension": ".py",
   "mimetype": "text/x-python",
   "name": "python",
   "nbconvert_exporter": "python",
   "pygments_lexer": "ipython3",
   "version": "3.7.0"
  }
 },
 "nbformat": 4,
 "nbformat_minor": 2
}
