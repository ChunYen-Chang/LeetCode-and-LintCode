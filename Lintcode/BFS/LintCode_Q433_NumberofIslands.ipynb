{
 "cells": [
  {
   "cell_type": "code",
   "execution_count": 6,
   "metadata": {},
   "outputs": [],
   "source": [
    "from collections import deque\n",
    "\n",
    "class Solution:\n",
    "    \"\"\"\n",
    "    @param grid: a boolean 2D matrix\n",
    "    @return: an integer\n",
    "    \"\"\"\n",
    "    def bfs(self, row_index, column_index, grid, visited):\n",
    "    \n",
    "        direction = [(1,0), (-1,0), (0,1), (0,-1)]\n",
    "        queue = deque([(row_index, column_index)])\n",
    "        visited.add((row_index, column_index))\n",
    "    \n",
    "        while queue:\n",
    "            current_location = queue.popleft()\n",
    "            for i in direction:\n",
    "                new_row_index = current_location[0] + i[0]\n",
    "                new_column_index = current_location[1] + i[1]\n",
    "            \n",
    "                if self.is_valid(new_row_index, new_column_index, grid, visited):\n",
    "                    queue.append((new_row_index, new_column_index))\n",
    "                    visited.add((new_row_index, new_column_index))\n",
    "                    \n",
    "                    \n",
    "    def is_valid(self, row_index, column_index, grid, visited):\n",
    "        length_row = len(grid)\n",
    "        length_column = len(grid[0])\n",
    "    \n",
    "        if not (0 <= row_index < length_row and 0 <= column_index < length_column):\n",
    "            return False\n",
    "        if (row_index, column_index) in visited:\n",
    "            return False\n",
    "        return grid[row_index][column_index]\n",
    "\n",
    "    \n",
    "    \n",
    "    def numIslands(self, grid):\n",
    "        visited = set()\n",
    "        island_number = 0\n",
    "    \n",
    "        for row_index in range(len(grid)):\n",
    "            for column_index in range(len(grid[0])):\n",
    "                if grid[row_index][column_index] and (row_index, column_index) not in visited:\n",
    "                    self.bfs(row_index, column_index, grid, visited)\n",
    "                    island_number += 1\n",
    "    \n",
    "        return island_number\n"
   ]
  },
  {
   "cell_type": "code",
   "execution_count": null,
   "metadata": {},
   "outputs": [],
   "source": [
    "# note: \n",
    "# The solutio for this question can be seperated into three parts\n",
    "# 1. check all grids. If we find a \"land\", call bfs function to find connecting lands and save these lands to \"visited\" set\n",
    "#    , add 1 to island_number\n",
    "# 2. Bfs function: find the connecting land\n",
    "# 3. is_valid: check the new position is valid or not"
   ]
  }
 ],
 "metadata": {
  "kernelspec": {
   "display_name": "Python 3",
   "language": "python",
   "name": "python3"
  },
  "language_info": {
   "codemirror_mode": {
    "name": "ipython",
    "version": 3
   },
   "file_extension": ".py",
   "mimetype": "text/x-python",
   "name": "python",
   "nbconvert_exporter": "python",
   "pygments_lexer": "ipython3",
   "version": "3.7.0"
  }
 },
 "nbformat": 4,
 "nbformat_minor": 2
}
