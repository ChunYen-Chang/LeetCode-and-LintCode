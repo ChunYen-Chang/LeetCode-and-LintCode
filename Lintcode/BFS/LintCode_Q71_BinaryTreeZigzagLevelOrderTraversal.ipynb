{
 "cells": [
  {
   "cell_type": "code",
   "execution_count": null,
   "metadata": {},
   "outputs": [],
   "source": [
    "\"\"\"\n",
    "Definition of TreeNode:\n",
    "class TreeNode:\n",
    "    def __init__(self, val):\n",
    "        self.val = val\n",
    "        self.left, self.right = None, None\n",
    "\"\"\"\n",
    "\n",
    "class Solution:\n",
    "    \"\"\"\n",
    "    @param root: A Tree\n",
    "    @return: A list of lists of integer include the zigzag level order traversal of its nodes' values.\n",
    "    \"\"\"\n",
    "    def zigzagLevelOrder(self, root):\n",
    "        if not root:\n",
    "            return []\n",
    "        \n",
    "        res, queue = [], []\n",
    "        queue.append(root)\n",
    "        level_count = 0\n",
    "        \n",
    "        while queue:\n",
    "            level = []\n",
    "            for i in range(len(queue)):\n",
    "                current_node = queue.pop(0)\n",
    "                \n",
    "                if current_node.left:\n",
    "                    queue.append(current_node.left)\n",
    "                if current_node.right:\n",
    "                    queue.append(current_node.right)\n",
    "                level.append(current_node.val)\n",
    "                \n",
    "            level_count += 1\n",
    "            if level_count % 2 == 0:\n",
    "                level.reverse()\n",
    "            res.append(level)\n",
    "        \n",
    "        return res"
   ]
  }
 ],
 "metadata": {
  "kernelspec": {
   "display_name": "Python 3",
   "language": "python",
   "name": "python3"
  },
  "language_info": {
   "codemirror_mode": {
    "name": "ipython",
    "version": 3
   },
   "file_extension": ".py",
   "mimetype": "text/x-python",
   "name": "python",
   "nbconvert_exporter": "python",
   "pygments_lexer": "ipython3",
   "version": "3.7.0"
  }
 },
 "nbformat": 4,
 "nbformat_minor": 2
}
