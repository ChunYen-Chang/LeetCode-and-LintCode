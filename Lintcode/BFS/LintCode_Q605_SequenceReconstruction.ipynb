{
 "cells": [
  {
   "cell_type": "code",
   "execution_count": 82,
   "metadata": {},
   "outputs": [],
   "source": [
    "class Solution:\n",
    "    \"\"\"\n",
    "    @param org: a permutation of the integers from 1 to n\n",
    "    @param seqs: a list of sequences\n",
    "    @return: true if it can be reconstructed only one or false\n",
    "    \"\"\"\n",
    "    def make_graph(self, seqs):\n",
    "        graph = {}\n",
    "        \n",
    "        for seq in seqs:\n",
    "            for node in seq:\n",
    "                graph[node] = set()\n",
    "        for seq in seqs:\n",
    "            for i in range(1, len(seq)):\n",
    "                graph[seq[i-1]].add(seq[i])                \n",
    "        return graph\n",
    "    \n",
    "    \n",
    "    def get_degree(self, graph):\n",
    "        degree = {}\n",
    "        for node, neighbors in graph.items():\n",
    "            degree[node] = 0\n",
    "            \n",
    "        for node, neighbors in graph.items():\n",
    "            for neighbor in neighbors:\n",
    "                degree[neighbor] += 1       \n",
    "        return degree\n",
    "        \n",
    "        \n",
    "    def topological_sort(self, graph):       \n",
    "        degrees = self.get_degree(graph)\n",
    "        start = [node for node, node_degree in degrees.items() if node_degree == 0]\n",
    "        queue = [] + start\n",
    "        topo_list = []\n",
    "        \n",
    "        while queue:\n",
    "            if len(queue) > 1:\n",
    "                return None\n",
    "            current_node = queue.pop(0)\n",
    "            topo_list.append(current_node)\n",
    "            for neighbor in graph[current_node]:\n",
    "                degrees[neighbor] -= 1\n",
    "                if degrees[neighbor] == 0:\n",
    "                    queue.append(neighbor)\n",
    "                    \n",
    "        if len(topo_list) == len(graph):\n",
    "            return topo_list\n",
    "                \n",
    "        \n",
    "    def sequenceReconstruction(self, org, seqs):\n",
    "        graph = self.make_graph(seqs)\n",
    "        topo_list = self.topological_sort(graph)\n",
    "        return topo_list == org\n"
   ]
  },
  {
   "cell_type": "code",
   "execution_count": null,
   "metadata": {},
   "outputs": [],
   "source": [
    "# note: this question is asking whether there is a topological sort and the only one topological sort\n",
    "#       the point is put a \"if statement -> if len(queue) > 1:\" to make sure there is only one element\n",
    "#       in the queue.\n",
    "# note2: need to think about making a graph from the list"
   ]
  }
 ],
 "metadata": {
  "kernelspec": {
   "display_name": "Python 3",
   "language": "python",
   "name": "python3"
  },
  "language_info": {
   "codemirror_mode": {
    "name": "ipython",
    "version": 3
   },
   "file_extension": ".py",
   "mimetype": "text/x-python",
   "name": "python",
   "nbconvert_exporter": "python",
   "pygments_lexer": "ipython3",
   "version": "3.7.0"
  }
 },
 "nbformat": 4,
 "nbformat_minor": 2
}
