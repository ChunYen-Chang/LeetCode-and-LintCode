{
 "cells": [
  {
   "cell_type": "code",
   "execution_count": null,
   "metadata": {},
   "outputs": [],
   "source": [
    "class Solution:\n",
    "    \"\"\"\n",
    "    @param n: n pairs\n",
    "    @return: All combinations of well-formed parentheses\n",
    "    \"\"\"\n",
    "    def generateParenthesis(self, n):\n",
    "        if n == 0:\n",
    "            return [\"\"]\n",
    "        result = []\n",
    "        visited = set()\n",
    "        self.dfs(\"()\" , n - 1, result, visited)\n",
    "        return result\n",
    "    \n",
    "    def dfs(self, temp, k, result, visited):\n",
    "        if k == 0:\n",
    "            result.append(temp)\n",
    "            return\n",
    "    \n",
    "        for i in range(len(temp)):\n",
    "            new = temp[:i] + \"()\" + temp[i:]\n",
    "            if new not in visited:\n",
    "                visited.add(new)\n",
    "                self.dfs(new, k - 1, result, visited)\n",
    "    \n",
    "    "
   ]
  }
 ],
 "metadata": {
  "kernelspec": {
   "display_name": "Python 3",
   "language": "python",
   "name": "python3"
  },
  "language_info": {
   "codemirror_mode": {
    "name": "ipython",
    "version": 3
   },
   "file_extension": ".py",
   "mimetype": "text/x-python",
   "name": "python",
   "nbconvert_exporter": "python",
   "pygments_lexer": "ipython3",
   "version": "3.7.0"
  }
 },
 "nbformat": 4,
 "nbformat_minor": 2
}
