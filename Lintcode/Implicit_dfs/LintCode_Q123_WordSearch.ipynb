{
 "cells": [
  {
   "cell_type": "code",
   "execution_count": 43,
   "metadata": {},
   "outputs": [],
   "source": [
    "def word_search(board, target_word):\n",
    "    # initialization\n",
    "    board_row_len = len(board)\n",
    "    board_col_len = len(board[0])\n",
    "    visited_map = [[False for i in range(board_col_len)] for j in range(board_row_len)]\n",
    "    find_word, dfs_result, search_result = [], [], []\n",
    "    \n",
    "    # start the searching process\n",
    "    for row in range(board_row_len):\n",
    "        for col in range(board_col_len):\n",
    "            if board[row][col] == target_word[0]:\n",
    "                dfs(board, row, col, visited_map, target_word, find_word, dfs_result)\n",
    "                if dfs_result != []:\n",
    "                    search_result.append(dfs_result)\n",
    "                dfs_result = []\n",
    "\n",
    "    if len(search_result) > 0:\n",
    "        return True\n",
    "    elif len(search_result) == 0:\n",
    "        return False\n",
    "\n",
    "                \n",
    "def dfs(board, position_row, position_col, visited_map, target_word, find_word, dfs_result):\n",
    "    if len(find_word) == len(target_word):\n",
    "        candidate_word = ''.join(list(find_word))\n",
    "        if candidate_word == target_word and candidate_word not in dfs_result:    \n",
    "            dfs_result.append(candidate_word)\n",
    "        return\n",
    "    \n",
    "    if not is_move_vaild(board, position_row, position_col, visited_map):\n",
    "        return \n",
    "    \n",
    "    find_word.append(board[position_row][position_col])\n",
    "    visited_map[position_row][position_col] = True\n",
    "    dfs(board, position_row+1, position_col, visited_map, target_word, find_word, dfs_result)\n",
    "    dfs(board, position_row, position_col+1, visited_map, target_word, find_word, dfs_result)\n",
    "    dfs(board, position_row-1, position_col, visited_map, target_word, find_word, dfs_result)\n",
    "    dfs(board, position_row, position_col-1, visited_map, target_word, find_word, dfs_result)    \n",
    "    find_word.pop()\n",
    "    visited_map[position_row][position_col] = False\n",
    "    \n",
    "    \n",
    "def is_move_vaild(board, position_row, position_col, visited_map):\n",
    "    board_row_len = len(board) - 1\n",
    "    board_col_len = len(board[0]) - 1\n",
    "    \n",
    "    if position_row < 0 or position_row > board_row_len:\n",
    "        return False\n",
    "    if position_col < 0 or position_col > board_col_len:\n",
    "        return False\n",
    "    if visited_map[position_row][position_col] == True:\n",
    "        return False\n",
    "    return True"
   ]
  },
  {
   "cell_type": "code",
   "execution_count": 44,
   "metadata": {},
   "outputs": [
    {
     "data": {
      "text/plain": [
       "True"
      ]
     },
     "execution_count": 44,
     "metadata": {},
     "output_type": "execute_result"
    }
   ],
   "source": [
    "board = [\"ABCE\",\"SFCS\",\"ADEE\"]\n",
    "target_word = \"ABCCED\"\n",
    "word_search(board, target_word)"
   ]
  },
  {
   "cell_type": "code",
   "execution_count": 45,
   "metadata": {},
   "outputs": [
    {
     "data": {
      "text/plain": [
       "False"
      ]
     },
     "execution_count": 45,
     "metadata": {},
     "output_type": "execute_result"
    }
   ],
   "source": [
    "board = [\"ABCE\",\"SFCS\",\"ADEE\"]\n",
    "target_word = \"ABED\"\n",
    "word_search(board, target_word)"
   ]
  },
  {
   "cell_type": "code",
   "execution_count": null,
   "metadata": {},
   "outputs": [],
   "source": []
  }
 ],
 "metadata": {
  "kernelspec": {
   "display_name": "Python 3",
   "language": "python",
   "name": "python3"
  },
  "language_info": {
   "codemirror_mode": {
    "name": "ipython",
    "version": 3
   },
   "file_extension": ".py",
   "mimetype": "text/x-python",
   "name": "python",
   "nbconvert_exporter": "python",
   "pygments_lexer": "ipython3",
   "version": "3.7.0"
  }
 },
 "nbformat": 4,
 "nbformat_minor": 2
}
