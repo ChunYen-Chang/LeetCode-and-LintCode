{
 "cells": [
  {
   "cell_type": "code",
   "execution_count": 1,
   "metadata": {},
   "outputs": [],
   "source": [
    "class Solution:\n",
    "    \"\"\"\n",
    "    @param n: An integer\n",
    "    @param str: a string with number from 1-n in random order and miss one number\n",
    "    @return: An integer\n",
    "    \"\"\"\n",
    "    def dfs(self, string, n, visited, subset, result):\n",
    "        if len(string) == 0:\n",
    "            result.append(list(subset))\n",
    "            return result\n",
    "    \n",
    "        for i in range(1, n + 1):\n",
    "            candidate = str(i)\n",
    "            if candidate in visited:\n",
    "                continue\n",
    "\n",
    "            candidate_len = len(candidate)\n",
    "            string_subset = string[0:candidate_len]\n",
    "            if candidate == string_subset:\n",
    "                visited.append(candidate)\n",
    "                subset.append(candidate)\n",
    "                self.dfs(string[candidate_len:], n, visited, subset, result)\n",
    "                visited.remove(candidate)\n",
    "                subset.remove(candidate)\n",
    "        \n",
    "    \n",
    "    def findMissing2(self, n, string):\n",
    "        # settings\n",
    "        visited = []\n",
    "        subset = []\n",
    "        result = []\n",
    "        \n",
    "        # create a origin set\n",
    "        origin_set = set()\n",
    "        for i in range(1, n + 1):\n",
    "            origin_set.add(str(i))\n",
    "        \n",
    "        # do dfs to find another set\n",
    "        self.dfs(string, n, visited, subset, result)\n",
    "        \n",
    "        # use minus to find final answer\n",
    "        final_result = origin_set - set(result[0])\n",
    "        final_result = str(final_result.pop())\n",
    "        \n",
    "        return final_result"
   ]
  },
  {
   "cell_type": "code",
   "execution_count": 2,
   "metadata": {},
   "outputs": [
    {
     "data": {
      "text/plain": [
       "'17'"
      ]
     },
     "execution_count": 2,
     "metadata": {},
     "output_type": "execute_result"
    }
   ],
   "source": [
    "n = 20\n",
    "string = '19201234567891011121314151618'\n",
    "\n",
    "test = Solution()\n",
    "test.findMissing2(n, string)"
   ]
  },
  {
   "cell_type": "code",
   "execution_count": null,
   "metadata": {},
   "outputs": [],
   "source": []
  }
 ],
 "metadata": {
  "kernelspec": {
   "display_name": "Python 3",
   "language": "python",
   "name": "python3"
  },
  "language_info": {
   "codemirror_mode": {
    "name": "ipython",
    "version": 3
   },
   "file_extension": ".py",
   "mimetype": "text/x-python",
   "name": "python",
   "nbconvert_exporter": "python",
   "pygments_lexer": "ipython3",
   "version": "3.7.0"
  }
 },
 "nbformat": 4,
 "nbformat_minor": 2
}
