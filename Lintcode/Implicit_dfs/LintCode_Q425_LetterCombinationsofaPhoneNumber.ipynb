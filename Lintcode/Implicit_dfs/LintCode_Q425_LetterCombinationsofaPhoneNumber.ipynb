{
 "cells": [
  {
   "cell_type": "markdown",
   "metadata": {},
   "source": [
    "# ANSWER"
   ]
  },
  {
   "cell_type": "code",
   "execution_count": 54,
   "metadata": {},
   "outputs": [],
   "source": [
    "def letterCombinations(digits):\n",
    "    # set up a hashmap for phone buttons \n",
    "    phone = {}\n",
    "    phone['1'] = []\n",
    "    phone['2'] = ['A', 'B', 'C']\n",
    "    phone['3'] = ['D', 'E', 'F']\n",
    "    phone['4'] = ['G', 'H', 'I']\n",
    "    phone['5'] = ['J', 'K', 'L']\n",
    "    phone['6'] = ['M', 'N', 'O']\n",
    "    phone['7'] = ['P', 'Q', 'R', 'S']\n",
    "    phone['8'] = ['T', 'U', 'V']\n",
    "    phone['9'] = ['W', 'X', 'Y', 'Z']\n",
    "    \n",
    "    # start the dfs search\n",
    "    subset, result = [], []\n",
    "    digit_index = 0\n",
    "    dfs(digits, digit_index, subset, result)\n",
    "    return result\n",
    "\n",
    "    \n",
    "def dfs(digits, digit_index, subset, result):\n",
    "    if len(subset) == len(digits):\n",
    "        result.append(''.join(list(subset)))\n",
    "        return\n",
    "    \n",
    "    for i in phone[digits[digit_index]]:\n",
    "        subset.append(i)\n",
    "        dfs(digits, digit_index+1, subset, result)\n",
    "        subset.pop()"
   ]
  },
  {
   "cell_type": "code",
   "execution_count": 55,
   "metadata": {},
   "outputs": [
    {
     "data": {
      "text/plain": [
       "['AD', 'AE', 'AF', 'BD', 'BE', 'BF', 'CD', 'CE', 'CF']"
      ]
     },
     "execution_count": 55,
     "metadata": {},
     "output_type": "execute_result"
    }
   ],
   "source": [
    "letterCombinations('23')"
   ]
  },
  {
   "cell_type": "markdown",
   "metadata": {},
   "source": [
    "# FOLLOWING-UP question"
   ]
  },
  {
   "cell_type": "code",
   "execution_count": 58,
   "metadata": {},
   "outputs": [],
   "source": [
    "def letterCombinations(digits, word_list):\n",
    "    # set up a hashmap for phone buttons \n",
    "    phone = {}\n",
    "    phone['1'] = []\n",
    "    phone['2'] = ['A', 'B', 'C']\n",
    "    phone['3'] = ['D', 'E', 'F']\n",
    "    phone['4'] = ['G', 'H', 'I']\n",
    "    phone['5'] = ['J', 'K', 'L']\n",
    "    phone['6'] = ['M', 'N', 'O']\n",
    "    phone['7'] = ['P', 'Q', 'R', 'S']\n",
    "    phone['8'] = ['T', 'U', 'V']\n",
    "    phone['9'] = ['W', 'X', 'Y', 'Z']\n",
    "    \n",
    "    # start the dfs search\n",
    "    subset, result = [], []\n",
    "    digit_index = 0\n",
    "    dfs(digits, digit_index, subset, result, word_list)\n",
    "    return result\n",
    "\n",
    "    \n",
    "def dfs(digits, digit_index, subset, result, word_list):\n",
    "    if len(subset) == len(digits):\n",
    "        word = ''.join(list(subset))\n",
    "        if word in word_list:\n",
    "            result.append(word)\n",
    "        return\n",
    "    \n",
    "    for i in phone[digits[digit_index]]:\n",
    "        subset.append(i)\n",
    "        dfs(digits, digit_index+1, subset, result, word_list)\n",
    "        subset.pop()"
   ]
  },
  {
   "cell_type": "code",
   "execution_count": 59,
   "metadata": {},
   "outputs": [
    {
     "data": {
      "text/plain": [
       "['AF', 'CD']"
      ]
     },
     "execution_count": 59,
     "metadata": {},
     "output_type": "execute_result"
    }
   ],
   "source": [
    "word_list = ['AF', 'CD']\n",
    "letterCombinations('23', word_list)"
   ]
  },
  {
   "cell_type": "code",
   "execution_count": null,
   "metadata": {},
   "outputs": [],
   "source": []
  }
 ],
 "metadata": {
  "kernelspec": {
   "display_name": "Python 3",
   "language": "python",
   "name": "python3"
  },
  "language_info": {
   "codemirror_mode": {
    "name": "ipython",
    "version": 3
   },
   "file_extension": ".py",
   "mimetype": "text/x-python",
   "name": "python",
   "nbconvert_exporter": "python",
   "pygments_lexer": "ipython3",
   "version": "3.7.0"
  }
 },
 "nbformat": 4,
 "nbformat_minor": 2
}
