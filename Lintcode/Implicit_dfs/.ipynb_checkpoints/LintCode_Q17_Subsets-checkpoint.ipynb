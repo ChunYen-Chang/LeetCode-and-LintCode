{
 "cells": [
  {
   "cell_type": "code",
   "execution_count": 1,
   "metadata": {},
   "outputs": [],
   "source": [
    "def dfs(nums, index, subset, result):\n",
    "    # 地規的出口\n",
    "    result.append(list(subset))\n",
    "    \n",
    "    # 地規的拆解\n",
    "    for i in range(index, len(nums)):\n",
    "        if nums[i] == nums[i-1] and i > index:\n",
    "            continue\n",
    "        subset.append(nums[i])\n",
    "        dfs(nums, i + 1, subset, result)\n",
    "        subset.pop()\n",
    "\n",
    "def subsets(nums):\n",
    "    index = 0\n",
    "    subset = []\n",
    "    result = []\n",
    "    dfs(nums, index, subset, result)\n",
    "    return result"
   ]
  },
  {
   "cell_type": "code",
   "execution_count": 2,
   "metadata": {},
   "outputs": [
    {
     "data": {
      "text/plain": [
       "[[], [1], [1, 2], [1, 2, 3], [1, 3], [2], [2, 3], [3]]"
      ]
     },
     "execution_count": 2,
     "metadata": {},
     "output_type": "execute_result"
    }
   ],
   "source": [
    "subsets([1, 2, 3])"
   ]
  },
  {
   "cell_type": "code",
   "execution_count": null,
   "metadata": {},
   "outputs": [],
   "source": []
  }
 ],
 "metadata": {
  "kernelspec": {
   "display_name": "Python 3",
   "language": "python",
   "name": "python3"
  },
  "language_info": {
   "codemirror_mode": {
    "name": "ipython",
    "version": 3
   },
   "file_extension": ".py",
   "mimetype": "text/x-python",
   "name": "python",
   "nbconvert_exporter": "python",
   "pygments_lexer": "ipython3",
   "version": "3.7.0"
  }
 },
 "nbformat": 4,
 "nbformat_minor": 2
}
