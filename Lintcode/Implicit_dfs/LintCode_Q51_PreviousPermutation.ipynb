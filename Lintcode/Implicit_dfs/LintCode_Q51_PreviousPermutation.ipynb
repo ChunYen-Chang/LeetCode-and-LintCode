{
 "cells": [
  {
   "cell_type": "code",
   "execution_count": null,
   "metadata": {},
   "outputs": [],
   "source": [
    "def get_pre_permutation(nums):\n",
    "    if len(nums) <= 1:\n",
    "        return nums\n",
    "     \n",
    "    # find i\n",
    "    for i in range(len(nums)-2, -1, -1):        \n",
    "        if nums[i] > nums[i + 1]:\n",
    "            break\n",
    "    else:\n",
    "        nums.reverse()\n",
    "        return nums\n",
    "\n",
    "    # find i\n",
    "    for j in range(len(nums)-1, i, -1):\n",
    "        if nums[j] < nums[i]:\n",
    "\n",
    "            break\n",
    "    \n",
    "    # swap nums[i] and nums[j]\n",
    "    nums[i], nums[j] = nums[j], nums[i]\n",
    "    \n",
    "    # reverse\n",
    "    left = i + 1\n",
    "    right = len(nums) - 1\n",
    "    while left < right:\n",
    "        nums[left], nums[right] = nums[right], nums[left]\n",
    "        left += 1\n",
    "        right -= 1\n",
    "    \n",
    "    return nums\n",
    "    "
   ]
  }
 ],
 "metadata": {
  "kernelspec": {
   "display_name": "Python 3",
   "language": "python",
   "name": "python3"
  },
  "language_info": {
   "codemirror_mode": {
    "name": "ipython",
    "version": 3
   },
   "file_extension": ".py",
   "mimetype": "text/x-python",
   "name": "python",
   "nbconvert_exporter": "python",
   "pygments_lexer": "ipython3",
   "version": "3.7.0"
  }
 },
 "nbformat": 4,
 "nbformat_minor": 2
}
