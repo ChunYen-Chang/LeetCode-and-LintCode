{
 "cells": [
  {
   "cell_type": "code",
   "execution_count": 8,
   "metadata": {},
   "outputs": [],
   "source": [
    "def permutation(nums):\n",
    "    nums = sorted(nums)\n",
    "    index = 0\n",
    "    visited = [False] * len(nums)\n",
    "    subset = []\n",
    "    result = []\n",
    "    dfs(nums, index, visited, subset, result)\n",
    "    return result\n",
    "\n",
    "def dfs(nums, index, visited, subset, result):\n",
    "    if len(subset) == len(nums):\n",
    "        result.append(list(subset))\n",
    "    \n",
    "    for i in range(len(nums)):\n",
    "        if visited[i]:\n",
    "            continue\n",
    "        subset.append(nums[i])\n",
    "        visited[i] = True\n",
    "        dfs(nums, index, visited, subset, result)\n",
    "        subset.pop()\n",
    "        visited[i] = False"
   ]
  },
  {
   "cell_type": "code",
   "execution_count": 9,
   "metadata": {},
   "outputs": [
    {
     "data": {
      "text/plain": [
       "[[1, 2, 3], [1, 3, 2], [2, 1, 3], [2, 3, 1], [3, 1, 2], [3, 2, 1]]"
      ]
     },
     "execution_count": 9,
     "metadata": {},
     "output_type": "execute_result"
    }
   ],
   "source": [
    "permutation([1,2,3])"
   ]
  },
  {
   "cell_type": "code",
   "execution_count": null,
   "metadata": {},
   "outputs": [],
   "source": []
  }
 ],
 "metadata": {
  "kernelspec": {
   "display_name": "Python 3",
   "language": "python",
   "name": "python3"
  },
  "language_info": {
   "codemirror_mode": {
    "name": "ipython",
    "version": 3
   },
   "file_extension": ".py",
   "mimetype": "text/x-python",
   "name": "python",
   "nbconvert_exporter": "python",
   "pygments_lexer": "ipython3",
   "version": "3.7.0"
  }
 },
 "nbformat": 4,
 "nbformat_minor": 2
}
