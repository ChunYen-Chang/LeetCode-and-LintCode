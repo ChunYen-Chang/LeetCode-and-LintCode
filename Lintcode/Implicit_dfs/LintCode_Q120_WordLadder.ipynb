{
 "cells": [
  {
   "cell_type": "code",
   "execution_count": 30,
   "metadata": {},
   "outputs": [],
   "source": [
    "def wordladder(start, end, dic):\n",
    "    # initialization\n",
    "    dic.append(end)    \n",
    "    queue = []\n",
    "    queue.append(start)\n",
    "\n",
    "    # do BFS\n",
    "    step = 1\n",
    "    while queue:\n",
    "        current_word = queue.pop(0)\n",
    "        search_result = search(current_word, dic)\n",
    "        dic.remove(search_result)\n",
    "        \n",
    "        if search_result == 'empty':\n",
    "            return 0\n",
    "        elif search_result == end:\n",
    "            step += 1\n",
    "            return step\n",
    "        else:\n",
    "            queue.append(search_result)\n",
    "            step += 1\n",
    "    \n",
    "\n",
    "def search(target_word, dic):\n",
    "    char_list = \"abcdefghijklmnopqrstuvwxyz\"\n",
    "    for i in range(len(target_word)):\n",
    "        for j in char_list:\n",
    "            potential_word = target_word[:i] + j + target_word[i+1:]\n",
    "            if potential_word in dic:\n",
    "                return potential_word\n",
    "    return 'empty'"
   ]
  },
  {
   "cell_type": "code",
   "execution_count": 32,
   "metadata": {},
   "outputs": [
    {
     "name": "stdout",
     "output_type": "stream",
     "text": [
      "hit\n",
      "hot\n",
      "dot\n",
      "dog\n"
     ]
    },
    {
     "data": {
      "text/plain": [
       "5"
      ]
     },
     "execution_count": 32,
     "metadata": {},
     "output_type": "execute_result"
    }
   ],
   "source": [
    "start =\"hit\"\n",
    "end = \"cog\"\n",
    "dic =[\"hot\",\"dot\",\"dog\",\"log\"]\n",
    "wordladder(start, end, dic)"
   ]
  }
 ],
 "metadata": {
  "kernelspec": {
   "display_name": "Python 3",
   "language": "python",
   "name": "python3"
  },
  "language_info": {
   "codemirror_mode": {
    "name": "ipython",
    "version": 3
   },
   "file_extension": ".py",
   "mimetype": "text/x-python",
   "name": "python",
   "nbconvert_exporter": "python",
   "pygments_lexer": "ipython3",
   "version": "3.7.0"
  }
 },
 "nbformat": 4,
 "nbformat_minor": 2
}
