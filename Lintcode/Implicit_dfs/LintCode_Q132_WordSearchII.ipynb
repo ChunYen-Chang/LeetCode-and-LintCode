{
 "cells": [
  {
   "cell_type": "code",
   "execution_count": 6,
   "metadata": {},
   "outputs": [],
   "source": [
    "def word_search(word_matrix, alist):\n",
    "    # initialization\n",
    "    word_search_result = []\n",
    "    move_list = [[1, 0], [0, 1], [-1, 0], [0, -1]]\n",
    "    visited = [[False for x in range(len(word_matrix[0]))] for y in range(len(word_matrix))]\n",
    "    subset = []\n",
    "    dfs_result = []\n",
    "\n",
    "    # start to find words\n",
    "    for word in alist:\n",
    "        \n",
    "        # get each word from the word list\n",
    "        for row in range(len(word_matrix)):\n",
    "            for col in range(len(word_matrix[0])):\n",
    "                if word_matrix[row][col] == word[0]:\n",
    "                    dfs(word_matrix, word, move_list, row, col, visited, subset, dfs_result)\n",
    "                    found_word = ''.join(dfs_result)\n",
    "                    # remove duplication and empty str\n",
    "                    if found_word not in word_search_result and found_word != '':    \n",
    "                        word_search_result.append(found_word)\n",
    "                    # reset dfs_result for next word search round\n",
    "                    dfs_result = []\n",
    "            \n",
    "    return word_search_result\n",
    "\n",
    "\n",
    "def dfs(word_matrix, word, move_list, position_row, position_col, visited, subset, dfs_result):\n",
    "    if len(subset) == len(word):\n",
    "        # convert the list to string\n",
    "        word_candidate = ''.join(list(subset))\n",
    "        \n",
    "        if word_candidate == word and word_candidate not in dfs_result:\n",
    "            dfs_result.append(''.join(list(subset)))\n",
    "        return\n",
    "\n",
    "    if is_move_valid(word_matrix, visited, position_row, position_col):\n",
    "        subset.append(word_matrix[position_row][position_col])\n",
    "        visited[position_row][position_col] = True\n",
    "        #print('after append', subset)\n",
    "        \n",
    "        dfs(word_matrix, word, move_list, position_row+1, position_col, visited, subset, dfs_result)\n",
    "        dfs(word_matrix, word, move_list, position_row-1, position_col, visited, subset, dfs_result)\n",
    "        dfs(word_matrix, word, move_list, position_row, position_col+1, visited, subset, dfs_result)\n",
    "        dfs(word_matrix, word, move_list, position_row, position_col-1, visited, subset, dfs_result)\n",
    "     \n",
    "        visited[position_row][position_col] = False\n",
    "        subset.pop()\n",
    "        #print('after pop', subset)\n",
    "    \n",
    "    \n",
    "def is_move_valid(word_matrix, visited, position_row, position_col):\n",
    "    word_matrix_row = len(word_matrix) - 1\n",
    "    word_matrix_col = len(word_matrix[0]) - 1\n",
    "       \n",
    "    if position_row < 0 or position_row > word_matrix_row:\n",
    "        return False\n",
    "    if position_col < 0 or position_col > word_matrix_col:\n",
    "        return False\n",
    "    if visited[position_row][position_col] == True:\n",
    "        return False\n",
    "    return True"
   ]
  },
  {
   "cell_type": "code",
   "execution_count": 7,
   "metadata": {},
   "outputs": [
    {
     "data": {
      "text/plain": [
       "['dog', 'dad', 'can', 'again']"
      ]
     },
     "execution_count": 7,
     "metadata": {},
     "output_type": "execute_result"
    }
   ],
   "source": [
    "word_matrix = [\"doaf\",\"agai\",\"dcan\"]\n",
    "alist = [\"dog\",\"dad\",\"dgdg\",\"can\",\"again\"]\n",
    "\n",
    "word_search(word_matrix, alist)"
   ]
  },
  {
   "cell_type": "code",
   "execution_count": null,
   "metadata": {},
   "outputs": [],
   "source": []
  }
 ],
 "metadata": {
  "kernelspec": {
   "display_name": "Python 3",
   "language": "python",
   "name": "python3"
  },
  "language_info": {
   "codemirror_mode": {
    "name": "ipython",
    "version": 3
   },
   "file_extension": ".py",
   "mimetype": "text/x-python",
   "name": "python",
   "nbconvert_exporter": "python",
   "pygments_lexer": "ipython3",
   "version": "3.7.0"
  }
 },
 "nbformat": 4,
 "nbformat_minor": 2
}
