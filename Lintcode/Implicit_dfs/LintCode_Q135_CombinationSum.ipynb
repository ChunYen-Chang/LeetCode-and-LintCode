{
 "cells": [
  {
   "cell_type": "code",
   "execution_count": 84,
   "metadata": {},
   "outputs": [],
   "source": [
    "def combination(nums, target):\n",
    "    nums = sorted(list(set(nums)))\n",
    "    subset = []\n",
    "    result = []\n",
    "    start = 0\n",
    "    dfs(nums, subset, result, start, target)\n",
    "    return result\n",
    "    \n",
    "    \n",
    "    \n",
    "def dfs(nums, subset, result, start, target):\n",
    "\n",
    "    if target < 0:\n",
    "        return\n",
    "    \n",
    "    if target == 0:\n",
    "        result.append(list(subset))\n",
    "        return\n",
    "    \n",
    "    for i in range(start, len(nums)):  \n",
    "        subset.append(nums[i])\n",
    "        dfs(nums, subset, result, i ,target - nums[i])\n",
    "        subset.pop()      \n",
    "        "
   ]
  },
  {
   "cell_type": "code",
   "execution_count": 85,
   "metadata": {},
   "outputs": [
    {
     "data": {
      "text/plain": [
       "[[2, 2, 3], [7]]"
      ]
     },
     "execution_count": 85,
     "metadata": {},
     "output_type": "execute_result"
    }
   ],
   "source": [
    "combination([2,3,6,7], 7)"
   ]
  }
 ],
 "metadata": {
  "kernelspec": {
   "display_name": "Python 3",
   "language": "python",
   "name": "python3"
  },
  "language_info": {
   "codemirror_mode": {
    "name": "ipython",
    "version": 3
   },
   "file_extension": ".py",
   "mimetype": "text/x-python",
   "name": "python",
   "nbconvert_exporter": "python",
   "pygments_lexer": "ipython3",
   "version": "3.7.0"
  }
 },
 "nbformat": 4,
 "nbformat_minor": 2
}
