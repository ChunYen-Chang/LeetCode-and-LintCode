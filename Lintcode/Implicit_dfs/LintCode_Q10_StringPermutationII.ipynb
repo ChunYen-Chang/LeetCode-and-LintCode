{
 "cells": [
  {
   "cell_type": "code",
   "execution_count": null,
   "metadata": {},
   "outputs": [],
   "source": [
    "class Solution:\n",
    "    \"\"\"\n",
    "    @param str: A string\n",
    "    @return: all permutations\n",
    "    \"\"\"\n",
    "    def stringPermutation2(self, str):\n",
    "        alist = sorted(list(str))\n",
    "        visited = [False] * len(alist)\n",
    "        subset = []\n",
    "        result = []\n",
    "        self.dfs(alist, visited, subset, result)\n",
    "        return result\n",
    "        \n",
    "    def dfs(self, alist, visited, subset, result):\n",
    "        if len(subset) == len(alist):\n",
    "            result.append(''.join(subset))\n",
    "            return\n",
    "        \n",
    "        for i in range(len(alist)):\n",
    "            if visited[i]:\n",
    "                continue\n",
    "            \n",
    "            if i > 0 and alist[i] == alist[i - 1] and visited[i - 1] == True:\n",
    "                continue\n",
    "        \n",
    "\n",
    "            subset.append(alist[i])\n",
    "            visited[i] = True\n",
    "            self.dfs(alist, visited, subset, result)\n",
    "            subset.pop()\n",
    "            visited[i] = False        "
   ]
  }
 ],
 "metadata": {
  "kernelspec": {
   "display_name": "Python 3",
   "language": "python",
   "name": "python3"
  },
  "language_info": {
   "codemirror_mode": {
    "name": "ipython",
    "version": 3
   },
   "file_extension": ".py",
   "mimetype": "text/x-python",
   "name": "python",
   "nbconvert_exporter": "python",
   "pygments_lexer": "ipython3",
   "version": "3.7.0"
  }
 },
 "nbformat": 4,
 "nbformat_minor": 2
}
