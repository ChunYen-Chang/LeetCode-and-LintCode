{
 "cells": [
  {
   "cell_type": "code",
   "execution_count": null,
   "metadata": {},
   "outputs": [],
   "source": [
    "class Solution:\n",
    "    \"\"\"\n",
    "    @param: A: an integer array\n",
    "    @param: k: a postive integer <= length(A)\n",
    "    @param: targer: an integer\n",
    "    @return: A list of lists of integer\n",
    "    \"\"\"\n",
    "    def kSumII(self, A, k, target):\n",
    "        nums = sorted(A)\n",
    "        index = 0\n",
    "        subset, result = [], []\n",
    "        self.dfs(nums, index, subset, result, k, target)\n",
    "        return result\n",
    "        \n",
    "    def dfs(self, nums, index, subset, result, k, target):\n",
    "        if len(subset) == k:\n",
    "            if sum(subset) == target:\n",
    "                result.append(list(subset))\n",
    "            return\n",
    "        \n",
    "        for i in range(index, len(nums)):\n",
    "            subset.append(nums[i])\n",
    "            self.dfs(nums, i + 1, subset, result, k, target)\n",
    "            subset.pop()\n",
    "            \n",
    "        "
   ]
  }
 ],
 "metadata": {
  "kernelspec": {
   "display_name": "Python 3",
   "language": "python",
   "name": "python3"
  },
  "language_info": {
   "codemirror_mode": {
    "name": "ipython",
    "version": 3
   },
   "file_extension": ".py",
   "mimetype": "text/x-python",
   "name": "python",
   "nbconvert_exporter": "python",
   "pygments_lexer": "ipython3",
   "version": "3.7.0"
  }
 },
 "nbformat": 4,
 "nbformat_minor": 2
}
