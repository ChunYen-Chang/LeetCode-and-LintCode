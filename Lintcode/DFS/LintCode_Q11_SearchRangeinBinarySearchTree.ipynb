{
 "cells": [
  {
   "cell_type": "code",
   "execution_count": 1,
   "metadata": {},
   "outputs": [],
   "source": [
    "\"\"\"\n",
    "Definition of TreeNode:\n",
    "class TreeNode:\n",
    "    def __init__(self, val):\n",
    "        self.val = val\n",
    "        self.left, self.right = None, None\n",
    "\"\"\"\n",
    "\n",
    "class Solution:\n",
    "    \"\"\"\n",
    "    @param root: param root: The root of the binary search tree\n",
    "    @param k1: An integer\n",
    "    @param k2: An integer\n",
    "    @return: return: Return all keys that k1<=key<=k2 in ascending order\n",
    "    \"\"\"\n",
    "    def searchRange(self, root, k1, k2):\n",
    "        if not root:\n",
    "            return []\n",
    "        \n",
    "        res, stack = [], []\n",
    "        stack.append(root)\n",
    "        \n",
    "        while stack:\n",
    "            current_node = stack.pop()\n",
    "            if k1 <= current_node.val <= k2:\n",
    "                res.append(current_node.val)\n",
    "                if current_node.right:\n",
    "                    stack.append(current_node.right)\n",
    "                if current_node.left:\n",
    "                    stack.append(current_node.left)\n",
    "            elif current_node.val < k1:\n",
    "                if current_node.right:\n",
    "                    stack.append(current_node.right)\n",
    "            elif current_node.val > k2:\n",
    "                if current_node.left:\n",
    "                    stack.append(current_node.left)\n",
    "        return sorted(res)\n",
    "                    \n",
    "            "
   ]
  },
  {
   "cell_type": "code",
   "execution_count": null,
   "metadata": {},
   "outputs": [],
   "source": [
    "# note: Please think about the what characteristic a BST will have. In this problem, we can use this point to tell our\n",
    "# program which point it should go. (hand-written note is stored in the smart phone)"
   ]
  }
 ],
 "metadata": {
  "kernelspec": {
   "display_name": "Python 3",
   "language": "python",
   "name": "python3"
  },
  "language_info": {
   "codemirror_mode": {
    "name": "ipython",
    "version": 3
   },
   "file_extension": ".py",
   "mimetype": "text/x-python",
   "name": "python",
   "nbconvert_exporter": "python",
   "pygments_lexer": "ipython3",
   "version": "3.7.0"
  }
 },
 "nbformat": 4,
 "nbformat_minor": 2
}
