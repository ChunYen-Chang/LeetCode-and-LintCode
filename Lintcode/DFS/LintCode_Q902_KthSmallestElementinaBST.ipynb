{
 "cells": [
  {
   "cell_type": "markdown",
   "metadata": {},
   "source": [
    "# ANSWER ONE - using the BST feature (in-order traversal)"
   ]
  },
  {
   "cell_type": "code",
   "execution_count": 1,
   "metadata": {},
   "outputs": [],
   "source": [
    "\"\"\"\n",
    "Definition of TreeNode:\n",
    "class TreeNode:\n",
    "    def __init__(self, val):\n",
    "        self.val = val\n",
    "        self.left, self.right = None, None\n",
    "\"\"\"\n",
    "\n",
    "class Solution:\n",
    "    \"\"\"\n",
    "    @param root: the given BST\n",
    "    @param k: the given k\n",
    "    @return: the kth smallest element in BST\n",
    "    \"\"\"\n",
    "    def traversal(self, root, result):\n",
    "        if not root:\n",
    "            return \n",
    "        \n",
    "        self.traversal(root.left, result)\n",
    "        result.append(root.val)\n",
    "        self.traversal(root.right, result)\n",
    "        \n",
    "        \n",
    "    def kthSmallest(self, root, k):\n",
    "        result = []\n",
    "        self.traversal(root, result)\n",
    "        return result[k-1]\n",
    "        "
   ]
  },
  {
   "cell_type": "code",
   "execution_count": null,
   "metadata": {},
   "outputs": [],
   "source": [
    "# note: the time complexity O(n) and space complecity is O(n)"
   ]
  },
  {
   "cell_type": "markdown",
   "metadata": {},
   "source": [
    "# ANSWER TWO - using in-order traversal"
   ]
  },
  {
   "cell_type": "code",
   "execution_count": null,
   "metadata": {},
   "outputs": [],
   "source": [
    "\"\"\"\n",
    "Definition of TreeNode:\n",
    "class TreeNode:\n",
    "    def __init__(self, val):\n",
    "        self.val = val\n",
    "        self.left, self.right = None, None\n",
    "\"\"\"\n",
    "\n",
    "class Solution:\n",
    "    \"\"\"\n",
    "    @param root: the given BST\n",
    "    @param k: the given k\n",
    "    @return: the kth smallest element in BST\n",
    "    \"\"\"\n",
    "    def __init__(self):\n",
    "        self.count = 0\n",
    "        self.val = None\n",
    "    \n",
    "    def traversal(self, root, k):\n",
    "        if not root:\n",
    "            return \n",
    "        \n",
    "        self.traversal(root.left, k)\n",
    "        self.count += 1\n",
    "        if self.count == k:\n",
    "            self.val = root.val\n",
    "        self.traversal(root.right, k)\n",
    "        \n",
    "        \n",
    "    def kthSmallest(self, root, k):\n",
    "        self.traversal(root, k)\n",
    "        return self.val"
   ]
  }
 ],
 "metadata": {
  "kernelspec": {
   "display_name": "Python 3",
   "language": "python",
   "name": "python3"
  },
  "language_info": {
   "codemirror_mode": {
    "name": "ipython",
    "version": 3
   },
   "file_extension": ".py",
   "mimetype": "text/x-python",
   "name": "python",
   "nbconvert_exporter": "python",
   "pygments_lexer": "ipython3",
   "version": "3.7.0"
  }
 },
 "nbformat": 4,
 "nbformat_minor": 2
}
