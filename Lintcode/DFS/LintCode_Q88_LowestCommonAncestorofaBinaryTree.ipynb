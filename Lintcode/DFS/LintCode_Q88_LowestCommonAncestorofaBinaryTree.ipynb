{
 "cells": [
  {
   "cell_type": "code",
   "execution_count": null,
   "metadata": {},
   "outputs": [],
   "source": [
    "\"\"\"\n",
    "Definition of TreeNode:\n",
    "class TreeNode:\n",
    "    def __init__(self, val):\n",
    "        self.val = val\n",
    "        self.left, self.right = None, None\n",
    "\"\"\"\n",
    "\n",
    "\n",
    "class Solution:\n",
    "    \"\"\"\n",
    "    @param: root: The root of the binary search tree.\n",
    "    @param: A: A TreeNode in a Binary.\n",
    "    @param: B: A TreeNode in a Binary.\n",
    "    @return: Return the least common ancestor(LCA) of the two nodes.\n",
    "    \"\"\"\n",
    "    def helper(self, root, A, B):\n",
    "        if not root:\n",
    "            return False, False, None\n",
    "        \n",
    "        left_A, left_B, left_LCA = self.helper(root.left, A, B)\n",
    "        right_A, right_B, right_LCA = self.helper(root.right, A, B)\n",
    "        \n",
    "        a = left_A or right_A or root == A\n",
    "        b = left_B or right_B or root == B\n",
    "\n",
    "        if root == A or root == B:\n",
    "            return a, b, root\n",
    "        if left_LCA and right_LCA:\n",
    "            return a, b, root\n",
    "        if left_LCA:\n",
    "            return a, b, left_LCA\n",
    "        if right_LCA:\n",
    "            return a, b, right_LCA\n",
    "        return a, b, None\n",
    "    \n",
    "    \n",
    "    def lowestCommonAncestor(self, root, A, B):\n",
    "        root_a, root_b, root_LCA = self.helper(root, A, B)\n",
    "        if root_a and root_b:\n",
    "            return root_LCA\n",
    "        else:\n",
    "            return None\n",
    "            \n",
    "\n"
   ]
  }
 ],
 "metadata": {
  "kernelspec": {
   "display_name": "Python 3",
   "language": "python",
   "name": "python3"
  },
  "language_info": {
   "codemirror_mode": {
    "name": "ipython",
    "version": 3
   },
   "file_extension": ".py",
   "mimetype": "text/x-python",
   "name": "python",
   "nbconvert_exporter": "python",
   "pygments_lexer": "ipython3",
   "version": "3.7.0"
  }
 },
 "nbformat": 4,
 "nbformat_minor": 2
}
