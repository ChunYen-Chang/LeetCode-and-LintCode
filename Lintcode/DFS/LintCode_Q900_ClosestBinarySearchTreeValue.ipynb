{
 "cells": [
  {
   "cell_type": "markdown",
   "metadata": {},
   "source": [
    "# ANSWER ONE - using in-order traversal"
   ]
  },
  {
   "cell_type": "code",
   "execution_count": null,
   "metadata": {},
   "outputs": [],
   "source": [
    "\"\"\"\n",
    "Definition of TreeNode:\n",
    "class TreeNode:\n",
    "    def __init__(self, val):\n",
    "        self.val = val\n",
    "        self.left, self.right = None, None\n",
    "\"\"\"\n",
    "\n",
    "class Solution:\n",
    "    \"\"\"\n",
    "    @param root: the given BST\n",
    "    @param target: the given target\n",
    "    @return: the value in the BST that is closest to the target\n",
    "    \"\"\"\n",
    "    \n",
    "    \n",
    "    def inorder_traversal(self, root, result):\n",
    "        if not root:\n",
    "            return\n",
    "        \n",
    "        self.inorder_traversal(root.left, result)\n",
    "        result.append(root.val)\n",
    "        self.inorder_traversal(root.right, result)\n",
    "    \n",
    "    \n",
    "    def binary_search(self, array, target):\n",
    "        start = 0\n",
    "        end = len(array)-1\n",
    "        \n",
    "        while start+1 < end:\n",
    "            mid = (start+end) // 2\n",
    "            if array[mid] > target:\n",
    "                end = mid\n",
    "            elif array[mid] <= target:\n",
    "                start = mid\n",
    "        return array[start], array[end]\n",
    "    \n",
    "    \n",
    "    def closestValue(self, root, target):\n",
    "        result = []\n",
    "        self.inorder_traversal(root, result)\n",
    "        \n",
    "        num1, num2 = self.binary_search(result, target)\n",
    "        \n",
    "        if abs(target - num1) > abs(target - num2):\n",
    "            return num2\n",
    "        else:\n",
    "            return num1\n",
    "        \n",
    "        "
   ]
  },
  {
   "cell_type": "code",
   "execution_count": null,
   "metadata": {},
   "outputs": [],
   "source": [
    "# note: the time complexity is O(n) / spac complexity is O(n)"
   ]
  },
  {
   "cell_type": "markdown",
   "metadata": {},
   "source": [
    "# ANSWER TWO - using path finder"
   ]
  },
  {
   "cell_type": "code",
   "execution_count": null,
   "metadata": {},
   "outputs": [],
   "source": [
    "\"\"\"\n",
    "Definition of TreeNode:\n",
    "class TreeNode:\n",
    "    def __init__(self, val):\n",
    "        self.val = val\n",
    "        self.left, self.right = None, None\n",
    "\"\"\"\n",
    "\n",
    "class Solution:\n",
    "    \"\"\"\n",
    "    @param root: the given BST\n",
    "    @param target: the given target\n",
    "    @return: the value in the BST that is closest to the target\n",
    "    \"\"\"\n",
    "    def get_path(self, root, target):\n",
    "        stack, result = [], []\n",
    "        stack.append(root)\n",
    "        \n",
    "        while stack:\n",
    "            current_node = stack.pop()\n",
    "            result.append(current_node.val)\n",
    "            \n",
    "            if current_node.val < target:\n",
    "                if current_node.right:\n",
    "                    stack.append(current_node.right)\n",
    "            elif current_node.val > target:\n",
    "                if current_node.left:\n",
    "                    stack.append(current_node.left)\n",
    "        return result\n",
    "    \n",
    "    \n",
    "    def closestValue(self, root, target):\n",
    "        path = self.get_path(root, target)\n",
    "        min_list = [(abs(target-each_element), each_element) for each_element in path]\n",
    "        return min(min_list)[1]\n",
    "\n",
    "        "
   ]
  },
  {
   "cell_type": "code",
   "execution_count": null,
   "metadata": {},
   "outputs": [],
   "source": [
    "# note: the time complexity is O(n) -> worst case\n",
    "#                           O(logn) -> average case\n",
    "#           space complexity is O(n) -> worst case\n",
    "#                               O(logn) -> average case"
   ]
  }
 ],
 "metadata": {
  "kernelspec": {
   "display_name": "Python 3",
   "language": "python",
   "name": "python3"
  },
  "language_info": {
   "codemirror_mode": {
    "name": "ipython",
    "version": 3
   },
   "file_extension": ".py",
   "mimetype": "text/x-python",
   "name": "python",
   "nbconvert_exporter": "python",
   "pygments_lexer": "ipython3",
   "version": "3.7.0"
  }
 },
 "nbformat": 4,
 "nbformat_minor": 2
}
