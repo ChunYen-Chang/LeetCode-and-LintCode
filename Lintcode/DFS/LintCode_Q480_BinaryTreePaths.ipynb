{
 "cells": [
  {
   "cell_type": "code",
   "execution_count": 45,
   "metadata": {},
   "outputs": [],
   "source": [
    "class Node:\n",
    "    def __init__(self, val):\n",
    "        self.val = val\n",
    "        self.left, self.right = None, None"
   ]
  },
  {
   "cell_type": "code",
   "execution_count": 46,
   "metadata": {},
   "outputs": [],
   "source": [
    "head = Node(1)\n",
    "head.left = Node(2)\n",
    "head.right = Node(3)\n",
    "head.left.right = Node(5)\n"
   ]
  },
  {
   "cell_type": "markdown",
   "metadata": {},
   "source": [
    "# ANSWER ONE - traversal method"
   ]
  },
  {
   "cell_type": "code",
   "execution_count": 220,
   "metadata": {},
   "outputs": [],
   "source": [
    "def dfs(node, path, result):\n",
    "    if node.left is None and node.right is None:\n",
    "        print(path)\n",
    "        result.append('->'.join(path))\n",
    "        print(result)\n",
    "        return\n",
    "\n",
    "    if node.left:\n",
    "        path.append(str(node.left.val))\n",
    "        dfs(node.left, path, result)\n",
    "        path.pop()\n",
    "        \n",
    "    if node.right:\n",
    "        path.append(str(node.right.val))\n",
    "        dfs(node.right, path, result)\n",
    "        path.pop()"
   ]
  },
  {
   "cell_type": "code",
   "execution_count": 221,
   "metadata": {},
   "outputs": [
    {
     "name": "stdout",
     "output_type": "stream",
     "text": [
      "['1', '2', '5']\n",
      "['1->2->5']\n",
      "['1', '3']\n",
      "['1->2->5', '1->3']\n"
     ]
    }
   ],
   "source": [
    "result = []\n",
    "dfs(head, [str(head.val)], result)"
   ]
  },
  {
   "cell_type": "code",
   "execution_count": 222,
   "metadata": {},
   "outputs": [
    {
     "data": {
      "text/plain": [
       "['1->2->5', '1->3']"
      ]
     },
     "execution_count": 222,
     "metadata": {},
     "output_type": "execute_result"
    }
   ],
   "source": [
    "result"
   ]
  },
  {
   "cell_type": "code",
   "execution_count": 223,
   "metadata": {},
   "outputs": [],
   "source": [
    "def traversal(root, path):\n",
    "    if not root.left and not root.right:\n",
    "        result.append(list(path))    # pay attention to this part, please don't use result.append() directly. the path is referenced! you need to declare it is a new variable\n",
    "        return\n",
    "        \n",
    "    if root.left:\n",
    "        path.append(root.left.val)  # pay attention to this, append \"root.left.val\" !!\n",
    "        traversal(root.left, path)\n",
    "        path.pop()\n",
    "    \n",
    "    if root.right:\n",
    "        path.append(root.right.val) # pay attention to this, append \"root.right.val\" !!\n",
    "        traversal(root.right, path)\n",
    "        path.pop()"
   ]
  },
  {
   "cell_type": "code",
   "execution_count": 224,
   "metadata": {},
   "outputs": [],
   "source": [
    "result = []\n",
    "traversal(head, [head.val])"
   ]
  },
  {
   "cell_type": "code",
   "execution_count": 219,
   "metadata": {},
   "outputs": [
    {
     "data": {
      "text/plain": [
       "[[1, 2, 5], [1, 3]]"
      ]
     },
     "execution_count": 219,
     "metadata": {},
     "output_type": "execute_result"
    }
   ],
   "source": [
    "result"
   ]
  },
  {
   "cell_type": "markdown",
   "metadata": {},
   "source": [
    "# ANSWER TWO - divide and conquer method"
   ]
  },
  {
   "cell_type": "code",
   "execution_count": 252,
   "metadata": {},
   "outputs": [],
   "source": [
    "def helper(root, result):\n",
    "    if not root:\n",
    "        return []\n",
    "    left_elements = helper(root.left, result)\n",
    "    right_elements = helper(root.right, result)\n",
    "    \n",
    "    current_elements = left_elements + right_elements + [str(root.val)]\n",
    "    result.append(current_elements)\n",
    "\n",
    "    return current_elements\n",
    "\n",
    "def divide_and_conquer(root):\n",
    "    result = []\n",
    "    helper(root, result)\n",
    "    return result\n",
    "    "
   ]
  },
  {
   "cell_type": "code",
   "execution_count": 253,
   "metadata": {},
   "outputs": [
    {
     "data": {
      "text/plain": [
       "[['5'], ['5', '2'], ['3'], ['5', '2', '3', '1']]"
      ]
     },
     "execution_count": 253,
     "metadata": {},
     "output_type": "execute_result"
    }
   ],
   "source": [
    "divide_and_conquer(head)"
   ]
  },
  {
   "cell_type": "code",
   "execution_count": 283,
   "metadata": {},
   "outputs": [],
   "source": [
    "def helper(root):\n",
    "    if not root:\n",
    "        return []\n",
    "    \n",
    "    if not root.left and not root.right:\n",
    "        return [str(root.val)]\n",
    "              \n",
    "    left_elements = helper(root.left)\n",
    "    right_elements = helper(root.right)\n",
    "    \n",
    "    result = []\n",
    "    previous_elements = left_elements + right_elements\n",
    "    for i in previous_elements:\n",
    "        result.append(str(root.val) + '->' + i)\n",
    "\n",
    "    return result\n",
    "\n",
    "def divide_and_conquer(root):\n",
    "\n",
    "    return helper(root)\n",
    "    \n",
    "\n",
    "\n",
    "\n"
   ]
  },
  {
   "cell_type": "code",
   "execution_count": 284,
   "metadata": {},
   "outputs": [
    {
     "data": {
      "text/plain": [
       "['1->2->5', '1->3']"
      ]
     },
     "execution_count": 284,
     "metadata": {},
     "output_type": "execute_result"
    }
   ],
   "source": [
    "divide_and_conquer(head)"
   ]
  },
  {
   "cell_type": "code",
   "execution_count": null,
   "metadata": {},
   "outputs": [],
   "source": []
  }
 ],
 "metadata": {
  "kernelspec": {
   "display_name": "Python 3",
   "language": "python",
   "name": "python3"
  },
  "language_info": {
   "codemirror_mode": {
    "name": "ipython",
    "version": 3
   },
   "file_extension": ".py",
   "mimetype": "text/x-python",
   "name": "python",
   "nbconvert_exporter": "python",
   "pygments_lexer": "ipython3",
   "version": "3.7.0"
  }
 },
 "nbformat": 4,
 "nbformat_minor": 2
}
