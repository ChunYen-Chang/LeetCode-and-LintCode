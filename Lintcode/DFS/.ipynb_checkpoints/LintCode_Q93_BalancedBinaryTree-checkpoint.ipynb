{
 "cells": [
  {
   "cell_type": "code",
   "execution_count": null,
   "metadata": {},
   "outputs": [],
   "source": [
    "\"\"\"\n",
    "Definition of TreeNode:\n",
    "class TreeNode:\n",
    "    def __init__(self, val):\n",
    "        self.val = val\n",
    "        self.left, self.right = None, None\n",
    "\"\"\"\n",
    "\n",
    "class Solution:\n",
    "    \"\"\"\n",
    "    @param root: The root of binary tree.\n",
    "    @return: True if this Binary tree is Balanced, or false.\n",
    "    \"\"\"\n",
    "    def dfs(self, root):\n",
    "        if not root:\n",
    "            return 0, True\n",
    "        \n",
    "        left_depth, left_is_balanced = self.dfs(root.left)\n",
    "        right_depth, right_is_balanced = self.dfs(root.right)\n",
    "        \n",
    "        if left_is_balanced == False or right_is_balanced == False:\n",
    "            return 0, False\n",
    "        \n",
    "        if abs(left_depth - right_depth) > 1:\n",
    "            return 0, False\n",
    "        \n",
    "        return max(left_depth, right_depth)+1, True\n",
    "        \n",
    "        \n",
    "    def isBalanced(self, root):\n",
    "        if not root:\n",
    "            return True\n",
    "        root_difference, root_is_balanced = self.dfs(root)\n",
    "        return root_is_balanced"
   ]
  }
 ],
 "metadata": {
  "kernelspec": {
   "display_name": "Python 3",
   "language": "python",
   "name": "python3"
  },
  "language_info": {
   "codemirror_mode": {
    "name": "ipython",
    "version": 3
   },
   "file_extension": ".py",
   "mimetype": "text/x-python",
   "name": "python",
   "nbconvert_exporter": "python",
   "pygments_lexer": "ipython3",
   "version": "3.7.0"
  }
 },
 "nbformat": 4,
 "nbformat_minor": 2
}
