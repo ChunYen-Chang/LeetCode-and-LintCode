{
 "cells": [
  {
   "cell_type": "code",
   "execution_count": null,
   "metadata": {},
   "outputs": [],
   "source": [
    "\"\"\"\n",
    "Definition of ParentTreeNode:\n",
    "class ParentTreeNode:\n",
    "    def __init__(self, val):\n",
    "        self.val = val\n",
    "        self.parent, self.left, self.right = None, None, None\n",
    "\"\"\"\n",
    "\n",
    "\n",
    "class Solution:\n",
    "    \"\"\"\n",
    "    @param: root: The root of the tree\n",
    "    @param: A: node in the tree\n",
    "    @param: B: node in the tree\n",
    "    @return: The lowest common ancestor of A and B\n",
    "    \"\"\"\n",
    "    def lowestCommonAncestorII(self, root, A, B):\n",
    "        parent_A, parent_B = [], []\n",
    "        \n",
    "        while A:\n",
    "            parent_A.insert(0, A)\n",
    "            A = A.parent\n",
    "        while B:\n",
    "            parent_B.insert(0, B)\n",
    "            B = B.parent\n",
    "        \n",
    "        point = 0\n",
    "        if len(parent_A) >= len(parent_B):\n",
    "            while parent_A[point] == parent_B[point] and point < len(parent_B):\n",
    "                point += 1\n",
    "                if point == len(parent_B):\n",
    "                    break\n",
    "                \n",
    "        elif len(parent_B) > len(parent_A):\n",
    "            while parent_A[point] == parent_B[point] and point < len(parent_A):\n",
    "                point += 1\n",
    "                if point == len(parent_A):\n",
    "                    break\n",
    "        \n",
    "        return parent_A[point-1]"
   ]
  }
 ],
 "metadata": {
  "kernelspec": {
   "display_name": "Python 3",
   "language": "python",
   "name": "python3"
  },
  "language_info": {
   "codemirror_mode": {
    "name": "ipython",
    "version": 3
   },
   "file_extension": ".py",
   "mimetype": "text/x-python",
   "name": "python",
   "nbconvert_exporter": "python",
   "pygments_lexer": "ipython3",
   "version": "3.7.0"
  }
 },
 "nbformat": 4,
 "nbformat_minor": 2
}
