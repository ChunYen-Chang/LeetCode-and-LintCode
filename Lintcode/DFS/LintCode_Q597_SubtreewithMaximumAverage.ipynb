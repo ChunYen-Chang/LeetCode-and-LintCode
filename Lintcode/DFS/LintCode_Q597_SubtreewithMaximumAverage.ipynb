{
 "cells": [
  {
   "cell_type": "code",
   "execution_count": null,
   "metadata": {},
   "outputs": [],
   "source": [
    "\"\"\"\n",
    "Definition of TreeNode:\n",
    "class TreeNode:\n",
    "    def __init__(self, val):\n",
    "        self.val = val\n",
    "        self.left, self.right = None, None\n",
    "\"\"\"\n",
    "\n",
    "class Solution:\n",
    "    \"\"\"\n",
    "    @param root: the root of binary tree\n",
    "    @return: the root of the maximum average of subtree\n",
    "    \"\"\"\n",
    "    def __init__(self):\n",
    "        self.max_average = 0\n",
    "        self.max_average_node = None\n",
    "    \n",
    "    \n",
    "    def helper(self, root):\n",
    "        if not root:\n",
    "            return 0, 0\n",
    "            \n",
    "        left_sum, left_num = self.helper(root.left)\n",
    "        right_sum, right_num = self.helper(root.right)\n",
    "        \n",
    "        current_sum = left_sum + right_sum + root.val\n",
    "        current_size = left_num + right_num + 1\n",
    "        \n",
    "        current_avg = current_sum / current_size\n",
    "        \n",
    "\n",
    "        if not self.max_average_node or current_avg > self.max_average:\n",
    "            self.max_average = current_avg\n",
    "            print(root.val)\n",
    "            self.max_average_node = root\n",
    "            \n",
    "        return current_sum, current_size        \n",
    "    \n",
    "    def findSubtree2(self, root):\n",
    "        if not root:\n",
    "            return None\n",
    "            \n",
    "        self.helper(root)\n",
    "        return self.max_average_node\n"
   ]
  }
 ],
 "metadata": {
  "kernelspec": {
   "display_name": "Python 3",
   "language": "python",
   "name": "python3"
  },
  "language_info": {
   "codemirror_mode": {
    "name": "ipython",
    "version": 3
   },
   "file_extension": ".py",
   "mimetype": "text/x-python",
   "name": "python",
   "nbconvert_exporter": "python",
   "pygments_lexer": "ipython3",
   "version": "3.7.0"
  }
 },
 "nbformat": 4,
 "nbformat_minor": 2
}
