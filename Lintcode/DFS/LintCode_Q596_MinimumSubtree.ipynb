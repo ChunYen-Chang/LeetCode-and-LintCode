{
 "cells": [
  {
   "cell_type": "code",
   "execution_count": null,
   "metadata": {},
   "outputs": [],
   "source": [
    "\"\"\"\n",
    "Definition of TreeNode:\n",
    "class TreeNode:\n",
    "    def __init__(self, val):\n",
    "        self.val = val\n",
    "        self.left, self.right = None, None\n",
    "\"\"\"\n",
    "\n",
    "class Solution:\n",
    "    \"\"\"\n",
    "    @param root: the root of binary tree\n",
    "    @return: the root of the minimum subtree\n",
    "    \"\"\"\n",
    "    def __init__(self):\n",
    "        self.min_sum = 0\n",
    "        self.min_sum_subtree = None\n",
    "    \n",
    "    \n",
    "    def helper(self, root):\n",
    "        if not root:\n",
    "            return 0\n",
    "            \n",
    "        left_sum = self.helper(root.left)\n",
    "        right_sum = self.helper(root.right)\n",
    "        subtree_sum = left_sum + right_sum + root.val\n",
    "        \n",
    "        if not self.min_sum_subtree or subtree_sum < self.min_sum:\n",
    "            self.min_sum = subtree_sum\n",
    "            self.min_sum_subtree = root\n",
    "            \n",
    "        return subtree_sum        \n",
    "    \n",
    "    \n",
    "    def findSubtree(self, root):\n",
    "        if not root:\n",
    "            return None\n",
    "            \n",
    "        self.helper(root)\n",
    "        return self.min_sum_subtree\n"
   ]
  }
 ],
 "metadata": {
  "kernelspec": {
   "display_name": "Python 3",
   "language": "python",
   "name": "python3"
  },
  "language_info": {
   "codemirror_mode": {
    "name": "ipython",
    "version": 3
   },
   "file_extension": ".py",
   "mimetype": "text/x-python",
   "name": "python",
   "nbconvert_exporter": "python",
   "pygments_lexer": "ipython3",
   "version": "3.7.0"
  }
 },
 "nbformat": 4,
 "nbformat_minor": 2
}
