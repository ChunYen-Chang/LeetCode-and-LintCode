{
 "cells": [
  {
   "cell_type": "code",
   "execution_count": 11,
   "metadata": {},
   "outputs": [],
   "source": [
    "\"\"\"\n",
    "Definition of TreeNode:\n",
    "class TreeNode:\n",
    "    def __init__(self, val):\n",
    "        self.val = val\n",
    "        self.left, self.right = None, None\n",
    "\"\"\"\n",
    "\n",
    "class Solution:\n",
    "    \"\"\"\n",
    "    @param inorder: A list of integers that inorder traversal of a tree\n",
    "    @param postorder: A list of integers that postorder traversal of a tree\n",
    "    @return: Root of a tree\n",
    "    \"\"\"\n",
    "    def buildTree(self, inorder, postorder):\n",
    "        if len(inorder) == 0:\n",
    "            return None\n",
    "    \n",
    "        root_val = postorder[-1]\n",
    "        root_index_inorder = inorder.index(root_val)\n",
    "        root_node = TreeNode(root_val)\n",
    "    \n",
    "        left_subtree = self.buildTree(inorder[:root_index_inorder], postorder[:root_index_inorder])\n",
    "        right_subtree = self.buildTree(inorder[root_index_inorder + 1:], postorder[root_index_inorder:-1])\n",
    "        root_node.left = left_subtree\n",
    "        root_node.right = right_subtree\n",
    "        \n",
    "        return root_node"
   ]
  },
  {
   "cell_type": "code",
   "execution_count": null,
   "metadata": {},
   "outputs": [],
   "source": []
  }
 ],
 "metadata": {
  "kernelspec": {
   "display_name": "Python 3",
   "language": "python",
   "name": "python3"
  },
  "language_info": {
   "codemirror_mode": {
    "name": "ipython",
    "version": 3
   },
   "file_extension": ".py",
   "mimetype": "text/x-python",
   "name": "python",
   "nbconvert_exporter": "python",
   "pygments_lexer": "ipython3",
   "version": "3.7.0"
  }
 },
 "nbformat": 4,
 "nbformat_minor": 2
}
