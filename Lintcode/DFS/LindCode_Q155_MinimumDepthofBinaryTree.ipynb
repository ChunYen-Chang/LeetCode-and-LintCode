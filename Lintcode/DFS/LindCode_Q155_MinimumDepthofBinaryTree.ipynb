{
 "cells": [
  {
   "cell_type": "code",
   "execution_count": null,
   "metadata": {},
   "outputs": [],
   "source": [
    "\"\"\"\n",
    "Definition of TreeNode:\n",
    "class TreeNode:\n",
    "    def __init__(self, val):\n",
    "        self.val = val\n",
    "        self.left, self.right = None, None\n",
    "\"\"\"\n",
    "class Solution:\n",
    "    \"\"\"\n",
    "    @param root: The root of binary tree\n",
    "    @return: An integer\n",
    "    \"\"\"\n",
    "    def dfs(self, root):\n",
    "        if not root:\n",
    "            return 0\n",
    "        \n",
    "        left_height = self.dfs(root.left)\n",
    "        right_height = self.dfs(root.right)\n",
    "        \n",
    "        if root.left and root.right:\n",
    "            return min(left_height, right_height) + 1\n",
    "        elif not root.left and not root.right:\n",
    "            return min(left_height, right_height) + 1\n",
    "        else:\n",
    "            return max(left_height, right_height) + 1\n",
    "\n",
    "    \n",
    "    def minDepth(self, root):\n",
    "        return self.dfs(root)\n"
   ]
  }
 ],
 "metadata": {
  "kernelspec": {
   "display_name": "Python 3",
   "language": "python",
   "name": "python3"
  },
  "language_info": {
   "codemirror_mode": {
    "name": "ipython",
    "version": 3
   },
   "file_extension": ".py",
   "mimetype": "text/x-python",
   "name": "python",
   "nbconvert_exporter": "python",
   "pygments_lexer": "ipython3",
   "version": "3.7.0"
  }
 },
 "nbformat": 4,
 "nbformat_minor": 2
}
