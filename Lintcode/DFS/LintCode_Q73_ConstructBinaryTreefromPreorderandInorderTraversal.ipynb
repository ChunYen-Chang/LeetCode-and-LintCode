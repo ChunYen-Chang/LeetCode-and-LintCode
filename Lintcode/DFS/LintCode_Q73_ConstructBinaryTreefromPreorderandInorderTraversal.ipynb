{
 "cells": [
  {
   "cell_type": "code",
   "execution_count": null,
   "metadata": {},
   "outputs": [],
   "source": [
    "\"\"\"\n",
    "Definition of TreeNode:\n",
    "class TreeNode:\n",
    "    def __init__(self, val):\n",
    "        self.val = val\n",
    "        self.left, self.right = None, None\n",
    "\"\"\"\n",
    "\n",
    "class Solution:\n",
    "    \"\"\"\n",
    "    @param preorder : A list of integers that preorder traversal of a tree\n",
    "    @param inorder : A list of integers that inorder traversal of a tree\n",
    "    @return : Root of a tree\n",
    "    \"\"\"\n",
    "    def buildTree(self, preorder, inorder):\n",
    "        if len(inorder) == 0:\n",
    "            return None\n",
    "    \n",
    "        root_val = preorder[0]\n",
    "        root_index_inorder = inorder.index(root_val)\n",
    "        root_node = TreeNode(root_val)\n",
    "    \n",
    "        left_subtree = self.buildTree(preorder[1:], inorder[:root_index_inorder])\n",
    "        right_subtree = self.buildTree(preorder[root_index_inorder + 1:], inorder[root_index_inorder + 1:])\n",
    "        root_node.left = left_subtree\n",
    "        root_node.right = right_subtree\n",
    "        \n",
    "        return root_node\n",
    "        \n"
   ]
  }
 ],
 "metadata": {
  "kernelspec": {
   "display_name": "Python 3",
   "language": "python",
   "name": "python3"
  },
  "language_info": {
   "codemirror_mode": {
    "name": "ipython",
    "version": 3
   },
   "file_extension": ".py",
   "mimetype": "text/x-python",
   "name": "python",
   "nbconvert_exporter": "python",
   "pygments_lexer": "ipython3",
   "version": "3.7.0"
  }
 },
 "nbformat": 4,
 "nbformat_minor": 2
}
