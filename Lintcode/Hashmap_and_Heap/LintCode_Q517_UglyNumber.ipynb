{
 "cells": [
  {
   "cell_type": "code",
   "execution_count": null,
   "metadata": {},
   "outputs": [],
   "source": [
    "class Solution:\n",
    "    \"\"\"\n",
    "    @param num: An integer\n",
    "    @return: true if num is an ugly number or false\n",
    "    \"\"\"\n",
    "    def isUgly(self, num):\n",
    "        if num == 1:\n",
    "            return True\n",
    "            \n",
    "        while num >= 5 and num % 5 == 0:\n",
    "            num = num // 5\n",
    "        while num >= 3 and num % 3 == 0:\n",
    "            num = num // 3\n",
    "        while num >= 2 and num % 2 == 0:\n",
    "            num = num // 2\n",
    "        \n",
    "        if num == 1:\n",
    "            return True\n",
    "        else:\n",
    "            return False"
   ]
  }
 ],
 "metadata": {
  "kernelspec": {
   "display_name": "Python 3",
   "language": "python",
   "name": "python3"
  },
  "language_info": {
   "codemirror_mode": {
    "name": "ipython",
    "version": 3
   },
   "file_extension": ".py",
   "mimetype": "text/x-python",
   "name": "python",
   "nbconvert_exporter": "python",
   "pygments_lexer": "ipython3",
   "version": "3.7.0"
  }
 },
 "nbformat": 4,
 "nbformat_minor": 2
}
