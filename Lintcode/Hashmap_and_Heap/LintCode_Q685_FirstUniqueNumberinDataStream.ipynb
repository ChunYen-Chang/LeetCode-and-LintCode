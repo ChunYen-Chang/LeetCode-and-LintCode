{
 "cells": [
  {
   "cell_type": "markdown",
   "metadata": {},
   "source": [
    "# ANWSER ONE - repeat the array twice"
   ]
  },
  {
   "cell_type": "code",
   "execution_count": 69,
   "metadata": {},
   "outputs": [],
   "source": [
    "class Solution:\n",
    "    \"\"\"\n",
    "    @param nums: a continuous stream of numbers\n",
    "    @param number: a number\n",
    "    @return: returns the first unique number\n",
    "    \"\"\"\n",
    "    def firstUniqueNumber(self, nums, number):\n",
    "        if number not in nums:\n",
    "            return -1\n",
    "        \n",
    "        hashtable = {}\n",
    "        \n",
    "        for num in nums:\n",
    "            if num not in hashtable:\n",
    "                hashtable[num] = 1\n",
    "            else:\n",
    "                hashtable[num] += 1\n",
    "            \n",
    "            if num == number:\n",
    "                break\n",
    "       \n",
    "        for num in nums:\n",
    "            if hashtable[num] == 1:\n",
    "                return num\n",
    "            if num == number:\n",
    "                break\n",
    "\n",
    "        return -1"
   ]
  },
  {
   "cell_type": "code",
   "execution_count": 70,
   "metadata": {},
   "outputs": [],
   "source": [
    "# note: just simply check the array twice"
   ]
  },
  {
   "cell_type": "markdown",
   "metadata": {},
   "source": [
    "# ANSWER TWO - repeat the array once"
   ]
  },
  {
   "cell_type": "code",
   "execution_count": 71,
   "metadata": {},
   "outputs": [],
   "source": [
    "class Node:\n",
    "    def __init__(self, value):\n",
    "        self.val = value\n",
    "        self.pre = None\n",
    "        self.next = None\n",
    "        \n",
    "\n",
    "class Solution:\n",
    "    def __init__(self):\n",
    "        self.dummy_head = Node(-1)\n",
    "        self.dummy_tail = Node(-1)\n",
    "        self.dummy_head.next = self.dummy_tail\n",
    "        self.dummy_tail.pre = self.dummy_head\n",
    "\n",
    "        self.hash_table_val = {}\n",
    "        self.hash_table_node = {}\n",
    "        \n",
    "    def linklist_add(self, node):   \n",
    "        next_node = self.dummy_tail\n",
    "        pre_node = self.dummy_tail.pre\n",
    "        \n",
    "        node.next = next_node\n",
    "        node.pre = pre_node\n",
    "        \n",
    "        pre_node.next = node\n",
    "        next_node.pre = node\n",
    "        \n",
    "    def linklist_remove(self, node):\n",
    "        pre_node = node.pre\n",
    "        next_node = node.next\n",
    "        \n",
    "        pre_node.next = next_node\n",
    "        next_node.pre = pre_node\n",
    "        \n",
    "    def firstUniqueNumber(self, nums, number):\n",
    "        if number not in nums:\n",
    "            return -1\n",
    "                \n",
    "        for num in nums:\n",
    "            if num not in self.hash_table_val:\n",
    "                new_node = Node(num)\n",
    "                self.hash_table_val[num] = 1\n",
    "                self.hash_table_node[num] = new_node\n",
    "                self.linklist_add(new_node)                \n",
    "            else:\n",
    "                self.hash_table_val[num] += 1               \n",
    "                if num in self.hash_table_node:\n",
    "                    self.linklist_remove(self.hash_table_node[num])                  \n",
    "                    del self.hash_table_node[num]\n",
    "            \n",
    "            if num == number:\n",
    "                break\n",
    "\n",
    "        if self.dummy_head.next:\n",
    "            return self.dummy_head.next.val\n",
    "        else:\n",
    "            return -1\n"
   ]
  },
  {
   "cell_type": "code",
   "execution_count": 73,
   "metadata": {},
   "outputs": [],
   "source": [
    "# note: since we only can check the array once, we need to use the combination of linked-list and hashmap\n",
    "# note2: when using the combination of linked list and hashmap, we need to create a dummy head and a dummy tail to record the\n",
    "# the linked list"
   ]
  },
  {
   "cell_type": "code",
   "execution_count": null,
   "metadata": {},
   "outputs": [],
   "source": []
  }
 ],
 "metadata": {
  "kernelspec": {
   "display_name": "Python 3",
   "language": "python",
   "name": "python3"
  },
  "language_info": {
   "codemirror_mode": {
    "name": "ipython",
    "version": 3
   },
   "file_extension": ".py",
   "mimetype": "text/x-python",
   "name": "python",
   "nbconvert_exporter": "python",
   "pygments_lexer": "ipython3",
   "version": "3.7.0"
  }
 },
 "nbformat": 4,
 "nbformat_minor": 2
}
