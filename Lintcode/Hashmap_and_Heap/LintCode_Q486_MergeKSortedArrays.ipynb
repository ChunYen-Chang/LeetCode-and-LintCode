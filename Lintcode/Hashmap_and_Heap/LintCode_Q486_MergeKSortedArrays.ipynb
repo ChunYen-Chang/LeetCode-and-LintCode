{
 "cells": [
  {
   "cell_type": "code",
   "execution_count": null,
   "metadata": {},
   "outputs": [],
   "source": [
    "import heapq\n",
    "\n",
    "class Solution:\n",
    "    \"\"\"\n",
    "    @param arrays: k sorted integer arrays\n",
    "    @return: a sorted array\n",
    "    \"\"\"\n",
    "    def mergekSortedArrays(self, arrays):\n",
    "        heap = []\n",
    "        result = []\n",
    "        listpos = 0\n",
    "        \n",
    "        for i in range(len(arrays)):\n",
    "            heapq.heappush(heap, [arrays[i][0], i, listpos])\n",
    "            \n",
    "        while heap:            \n",
    "            current_smallest = heapq.heappop(heap)\n",
    "            current_smallest_listindex = current_smallest[1]\n",
    "            current_smallest_listpos = current_smallest[2]\n",
    "            current_smallest_val = current_smallest[0]\n",
    "            \n",
    "            result.append(current_smallest_val)\n",
    "            \n",
    "            if current_smallest_listpos + 1 < len(arrays[current_smallest_listindex]):\n",
    "                heapq.heappush(heap, [arrays[current_smallest_listindex][current_smallest_listpos + 1], current_smallest_listindex, current_smallest_listpos + 1])\n",
    "                \n",
    "        return result\n",
    "            "
   ]
  }
 ],
 "metadata": {
  "kernelspec": {
   "display_name": "Python 3",
   "language": "python",
   "name": "python3"
  },
  "language_info": {
   "codemirror_mode": {
    "name": "ipython",
    "version": 3
   },
   "file_extension": ".py",
   "mimetype": "text/x-python",
   "name": "python",
   "nbconvert_exporter": "python",
   "pygments_lexer": "ipython3",
   "version": "3.7.0"
  }
 },
 "nbformat": 4,
 "nbformat_minor": 2
}
