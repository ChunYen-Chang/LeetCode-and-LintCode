{
 "cells": [
  {
   "cell_type": "markdown",
   "metadata": {},
   "source": [
    "# ANSWER ONE - using quick selection and quick sort"
   ]
  },
  {
   "cell_type": "code",
   "execution_count": 27,
   "metadata": {},
   "outputs": [],
   "source": [
    "def get_distance(point_one, point_two):\n",
    "    distance = ((point_one[0] - point_two[0])**2 + (point_one[1] - point_two[1])**2)**0.5\n",
    "    return distance\n",
    "     \n",
    "    \n",
    "def quick_select(nums, start, end, k):\n",
    "    left = start\n",
    "    right = end\n",
    "    pivot = nums[(start + end) // 2]\n",
    "            \n",
    "    while left <= right:\n",
    "        while left <= right and nums[left] < pivot:\n",
    "            left += 1\n",
    "        while left <= right and nums[right] > pivot:\n",
    "            right -= 1\n",
    "        if left <= right:\n",
    "            nums[left], nums[right] = nums[right], nums[left]\n",
    "            left += 1\n",
    "            right -= 1\n",
    "                \n",
    "    if k <= right:\n",
    "        quick_select(nums, start, right, k)\n",
    "    if k >= left:\n",
    "        quick_select(nums, left, end, k)     \n",
    "        \n",
    "    return nums[k]\n",
    "    \n",
    "\n",
    "def quick_sort(nums, start, end):\n",
    "    if start >= end:\n",
    "        return\n",
    "    \n",
    "    left = start\n",
    "    right = end\n",
    "    pivot = nums[(start + end) // 2]\n",
    "    \n",
    "    while left <= right:\n",
    "        while left <= right and nums[left] < pivot:\n",
    "            left += 1\n",
    "        while left <= right and nums[right] > pivot:\n",
    "            right -= 1\n",
    "        if left <= right:\n",
    "            nums[left], nums[right] = nums[right], nums[left]\n",
    "            left += 1\n",
    "            right -= 1\n",
    "            \n",
    "    quick_sort(nums, start, right)\n",
    "    quick_sort(nums, left, end)\n",
    "    \n",
    "    return nums\n",
    "    \n",
    "    \n",
    "def kClosest(points, origin, k):\n",
    "    # get distance\n",
    "    hash_point_distance = {}\n",
    "    for point in points:\n",
    "        distance = get_distance(origin, point)\n",
    "        if distance not in hash_point_distance:\n",
    "            hash_point_distance[distance] = point\n",
    "        \n",
    "    # find kth distance\n",
    "    distances = list(hash_point_distance.keys())\n",
    "    kth_num = quick_select(distances, 0, len(distances) - 1, len(distances) - k)\n",
    "        \n",
    "    # get kth_points_hash_map\n",
    "    kth_points_hash_map = {}\n",
    "    for distance, point in hash_point_distance.items():\n",
    "        if distance <= kth_num:\n",
    "            kth_points_hash_map[distance] = point\n",
    "            \n",
    "    # sort kth_points_hash_map\n",
    "    kth_points_list = list(kth_points_hash_map.keys())\n",
    "    quick_sort(kth_points_list, 0, len(kth_points_hash_map) - 1)\n",
    "    \n",
    "    # print out\n",
    "    result = []\n",
    "    for point in kth_points_list:\n",
    "        result.append(kth_points_hash_map[point])\n",
    "    \n",
    "    return result"
   ]
  },
  {
   "cell_type": "code",
   "execution_count": 26,
   "metadata": {},
   "outputs": [
    {
     "data": {
      "text/plain": [
       "[[1, 1], [2, 5], [4, 4]]"
      ]
     },
     "execution_count": 26,
     "metadata": {},
     "output_type": "execute_result"
    }
   ],
   "source": [
    "points = [[4,6],[4,7],[4,4],[2,5],[1,1]]\n",
    "origin = [0, 0]\n",
    "k = 3 \n",
    "kClosest(points, origin, k)"
   ]
  },
  {
   "cell_type": "code",
   "execution_count": null,
   "metadata": {},
   "outputs": [],
   "source": [
    "# note: the time complexity is O(n) + O(klogk)"
   ]
  },
  {
   "cell_type": "markdown",
   "metadata": {},
   "source": [
    "# ANSWER TWO - using min-heap"
   ]
  },
  {
   "cell_type": "code",
   "execution_count": 37,
   "metadata": {},
   "outputs": [],
   "source": [
    "import heapq\n",
    "\n",
    "def get_distance(point_one, point_two):\n",
    "    distance = ((point_one[0] - point_two[0])**2 + (point_one[1] - point_two[1])**2)**0.5\n",
    "    return distance\n",
    "\n",
    "def kClosest(points, origin, k):\n",
    "    # create point_distance_hash\n",
    "    point_distance_hash = {}\n",
    "    for point in points:\n",
    "        distance = get_distance(origin, point)\n",
    "        point_distance_hash[distance] = point\n",
    "        \n",
    "    # put distance list into a min-heap\n",
    "    heap = []\n",
    "    distance_list = list(point_distance_hash.keys())\n",
    "    for i in distance_list:\n",
    "        heapq.heappush(heap, i)\n",
    "        \n",
    "    # take k elements from min-head and get final result\n",
    "    result = []\n",
    "    while k > 0:\n",
    "        min_distance = heapq.heappop(heap)\n",
    "        result.append(point_distance_hash[min_distance])\n",
    "        k -= 1\n",
    "        \n",
    "    return result"
   ]
  },
  {
   "cell_type": "code",
   "execution_count": 38,
   "metadata": {},
   "outputs": [
    {
     "data": {
      "text/plain": [
       "[[1, 1], [2, 5], [4, 4]]"
      ]
     },
     "execution_count": 38,
     "metadata": {},
     "output_type": "execute_result"
    }
   ],
   "source": [
    "points = [[4,6],[4,7],[4,4],[2,5],[1,1]]\n",
    "origin = [0, 0]\n",
    "k = 3 \n",
    "kClosest(points, origin, k)"
   ]
  },
  {
   "cell_type": "code",
   "execution_count": null,
   "metadata": {},
   "outputs": [],
   "source": [
    "# note: the time complexity is O(n) + O(nlogk)"
   ]
  },
  {
   "cell_type": "markdown",
   "metadata": {},
   "source": [
    "# ANSWER THREE - using max-heap (an on-line method)"
   ]
  },
  {
   "cell_type": "code",
   "execution_count": 60,
   "metadata": {},
   "outputs": [],
   "source": [
    "import heapq\n",
    "\n",
    "def get_distance(point_one, point_two):\n",
    "    distance = ((point_one[0] - point_two[0])**2 + (point_one[1] - point_two[1])**2)**0.5\n",
    "    return distance\n",
    "\n",
    "def kClosest(points, origin, k):\n",
    "    heap = []\n",
    "    heap_size = 0\n",
    "    point_distance_hash = {}\n",
    "    \n",
    "    for point in points:\n",
    "        distance = get_distance(origin, point)\n",
    "        point_distance_hash[distance] = point\n",
    "        \n",
    "        if heap_size < k:\n",
    "            heapq.heappush(heap, -distance)\n",
    "            heap_size += 1\n",
    "            \n",
    "        elif heap_size >= k:\n",
    "            heap_root_value = heap[0]\n",
    "            \n",
    "            if -distance > heap_root_value:\n",
    "                heapq.heappop(heap)\n",
    "                heapq.heappush(heap, -distance)\n",
    "    \n",
    "    result = []\n",
    "    while heap:\n",
    "        point = point_distance_hash[-heapq.heappop(heap)]\n",
    "        result.append(point)\n",
    "        \n",
    "    result.reverse()                \n",
    "    return result"
   ]
  },
  {
   "cell_type": "code",
   "execution_count": 61,
   "metadata": {},
   "outputs": [
    {
     "data": {
      "text/plain": [
       "[[1, 1], [2, 5], [4, 4]]"
      ]
     },
     "execution_count": 61,
     "metadata": {},
     "output_type": "execute_result"
    }
   ],
   "source": [
    "points = [[4,6],[4,7],[4,4],[2,5],[1,1]]\n",
    "origin = [0, 0]\n",
    "k = 3 \n",
    "kClosest(points, origin, k)"
   ]
  },
  {
   "cell_type": "code",
   "execution_count": null,
   "metadata": {},
   "outputs": [],
   "source": [
    "# note: the time complexity is O(nlogk)"
   ]
  }
 ],
 "metadata": {
  "kernelspec": {
   "display_name": "Python 3",
   "language": "python",
   "name": "python3"
  },
  "language_info": {
   "codemirror_mode": {
    "name": "ipython",
    "version": 3
   },
   "file_extension": ".py",
   "mimetype": "text/x-python",
   "name": "python",
   "nbconvert_exporter": "python",
   "pygments_lexer": "ipython3",
   "version": "3.7.0"
  }
 },
 "nbformat": 4,
 "nbformat_minor": 2
}
