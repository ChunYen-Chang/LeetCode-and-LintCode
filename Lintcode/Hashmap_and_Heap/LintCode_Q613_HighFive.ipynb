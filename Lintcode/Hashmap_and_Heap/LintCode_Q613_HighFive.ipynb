{
 "cells": [
  {
   "cell_type": "code",
   "execution_count": 1,
   "metadata": {},
   "outputs": [],
   "source": [
    "'''\n",
    "Definition for a Record\n",
    "class Record:\n",
    "    def __init__(self, id, score):\n",
    "        self.id = id\n",
    "        self.score = score\n",
    "'''\n",
    "import heapq\n",
    "\n",
    "class Solution:\n",
    "    # @param {Record[]} results a list of <student_id, score>\n",
    "    # @return {dict(id, average)} find the average of 5 highest scores for each person\n",
    "    # <key, value> (student_id, average_score)\n",
    "    def highFive(self, results):\n",
    "        hash_table = {}\n",
    "        result = {}\n",
    "        \n",
    "        for each_record in results:\n",
    "            if each_record.id not in hash_table:\n",
    "                hash_table[each_record.id] = []\n",
    "                heapq.heappush(hash_table[each_record.id], each_record.score)\n",
    "                \n",
    "            elif each_record.id in hash_table:\n",
    "                if len(hash_table[each_record.id]) >= 5:\n",
    "                    current_smallest = hash_table[each_record.id][0]\n",
    "                    if each_record.score > current_smallest:\n",
    "                        heapq.heappop(hash_table[each_record.id])\n",
    "                        heapq.heappush(hash_table[each_record.id], each_record.score)\n",
    "                elif len(hash_table[each_record.id]) < 5:\n",
    "                    heapq.heappush(hash_table[each_record.id], each_record.score)\n",
    "                    \n",
    "        for id, score in hash_table.items():\n",
    "            result[id] = sum(score) / 5\n",
    "            \n",
    "        return result"
   ]
  },
  {
   "cell_type": "code",
   "execution_count": null,
   "metadata": {},
   "outputs": [],
   "source": []
  }
 ],
 "metadata": {
  "kernelspec": {
   "display_name": "Python 3",
   "language": "python",
   "name": "python3"
  },
  "language_info": {
   "codemirror_mode": {
    "name": "ipython",
    "version": 3
   },
   "file_extension": ".py",
   "mimetype": "text/x-python",
   "name": "python",
   "nbconvert_exporter": "python",
   "pygments_lexer": "ipython3",
   "version": "3.7.0"
  }
 },
 "nbformat": 4,
 "nbformat_minor": 2
}
