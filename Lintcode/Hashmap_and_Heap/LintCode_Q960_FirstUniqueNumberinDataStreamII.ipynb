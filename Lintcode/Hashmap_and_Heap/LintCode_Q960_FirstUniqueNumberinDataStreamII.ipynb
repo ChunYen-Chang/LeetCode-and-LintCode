{
 "cells": [
  {
   "cell_type": "code",
   "execution_count": 1,
   "metadata": {},
   "outputs": [],
   "source": [
    "class DataStream:\n",
    "    def __init__(self):\n",
    "        self.hashtable = {}\n",
    "        self.result = []\n",
    "          \n",
    "    \"\"\"\n",
    "    @param num: next number in stream\n",
    "    @return: nothing\n",
    "    \"\"\"\n",
    "    def add(self, num):\n",
    "        if num in self.hashtable:\n",
    "            self.hashtable[num] = self.hashtable[num] + 1\n",
    "            if num in self.result:\n",
    "                self.result.remove(num)\n",
    "        elif num not in self.hashtable:\n",
    "            self.hashtable[num] = 1\n",
    "            self.result.append(num)\n",
    "\n",
    "    \"\"\"\n",
    "    @return: the first unique number in stream\n",
    "    \"\"\"\n",
    "    def firstUnique(self):\n",
    "        if self.result == []:\n",
    "            return None\n",
    "        else:\n",
    "            return self.result[0]"
   ]
  },
  {
   "cell_type": "markdown",
   "metadata": {},
   "source": [
    "Input:\n",
    "add(1)\n",
    "add(2)\n",
    "firstUnique()\n",
    "add(1)\n",
    "firstUnique()\n",
    "Output:\n",
    "[1,2]"
   ]
  },
  {
   "cell_type": "code",
   "execution_count": null,
   "metadata": {},
   "outputs": [],
   "source": []
  }
 ],
 "metadata": {
  "kernelspec": {
   "display_name": "Python 3",
   "language": "python",
   "name": "python3"
  },
  "language_info": {
   "codemirror_mode": {
    "name": "ipython",
    "version": 3
   },
   "file_extension": ".py",
   "mimetype": "text/x-python",
   "name": "python",
   "nbconvert_exporter": "python",
   "pygments_lexer": "ipython3",
   "version": "3.7.0"
  }
 },
 "nbformat": 4,
 "nbformat_minor": 2
}
