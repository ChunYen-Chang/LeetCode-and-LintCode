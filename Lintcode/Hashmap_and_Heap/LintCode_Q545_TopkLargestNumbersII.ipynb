{
 "cells": [
  {
   "cell_type": "code",
   "execution_count": 1,
   "metadata": {},
   "outputs": [],
   "source": [
    "import heapq\n",
    "\n",
    "\n",
    "class Solution:\n",
    "    \"\"\"\n",
    "    @param: k: An integer\n",
    "    \"\"\"\n",
    "    def __init__(self, k):\n",
    "        self.heap = []\n",
    "        self.heap_size = 0\n",
    "        self.heap_size_limit = k\n",
    "\n",
    "    \"\"\"\n",
    "    @param: num: Number to be added\n",
    "    @return: nothing\n",
    "    \"\"\"\n",
    "    def add(self, num):\n",
    "        if self.heap_size < self.heap_size_limit:\n",
    "            heapq.heappush(self.heap, num)\n",
    "            self.heap_size += 1\n",
    "        else:\n",
    "            heap_current_min = self.heap[0]\n",
    "            if num > heap_current_min:\n",
    "                heapq.heappop(self.heap)\n",
    "                heapq.heappush(self.heap, num)\n",
    "\n",
    "    \"\"\"\n",
    "    @return: Top k element\n",
    "    \"\"\"\n",
    "    def topk(self):\n",
    "        # take all elements from self.heap and put in result list\n",
    "        result = []\n",
    "        while self.heap:\n",
    "            result.append(heapq.heappop(self.heap))\n",
    "        result.reverse()\n",
    "        \n",
    "        # put elements back to self.heap\n",
    "        for num in result:\n",
    "            heapq.heappush(self.heap, num)\n",
    "        \n",
    "        return result"
   ]
  },
  {
   "cell_type": "code",
   "execution_count": null,
   "metadata": {},
   "outputs": [],
   "source": []
  }
 ],
 "metadata": {
  "kernelspec": {
   "display_name": "Python 3",
   "language": "python",
   "name": "python3"
  },
  "language_info": {
   "codemirror_mode": {
    "name": "ipython",
    "version": 3
   },
   "file_extension": ".py",
   "mimetype": "text/x-python",
   "name": "python",
   "nbconvert_exporter": "python",
   "pygments_lexer": "ipython3",
   "version": "3.7.0"
  }
 },
 "nbformat": 4,
 "nbformat_minor": 2
}
