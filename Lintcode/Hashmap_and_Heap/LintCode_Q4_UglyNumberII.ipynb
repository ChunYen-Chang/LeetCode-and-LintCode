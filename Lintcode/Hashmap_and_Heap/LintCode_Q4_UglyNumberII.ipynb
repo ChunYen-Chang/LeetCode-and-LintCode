{
 "cells": [
  {
   "cell_type": "code",
   "execution_count": null,
   "metadata": {},
   "outputs": [],
   "source": [
    "import heapq\n",
    "\n",
    "class Solution:\n",
    "    \"\"\"\n",
    "    @param n: An integer\n",
    "    @return: return a  integer as description.\n",
    "    \"\"\"\n",
    "    def nthUglyNumber(self, n):\n",
    "        prime_nums = [2, 3, 5]\n",
    "        \n",
    "        heap = []\n",
    "        heapq.heappush(heap, 1)\n",
    "    \n",
    "        count = 1\n",
    "        while count <= n:\n",
    "            ugly_num = heapq.heappop(heap)\n",
    "            count += 1\n",
    "        \n",
    "            for prime in prime_nums:\n",
    "                new_ugly_num = ugly_num * prime\n",
    "                if new_ugly_num not in heap:\n",
    "                    heapq.heappush(heap, new_ugly_num)\n",
    "                \n",
    "        return ugly_num"
   ]
  },
  {
   "cell_type": "code",
   "execution_count": null,
   "metadata": {},
   "outputs": [],
   "source": [
    "# note: the time complexity is O(nlogn)"
   ]
  }
 ],
 "metadata": {
  "kernelspec": {
   "display_name": "Python 3",
   "language": "python",
   "name": "python3"
  },
  "language_info": {
   "codemirror_mode": {
    "name": "ipython",
    "version": 3
   },
   "file_extension": ".py",
   "mimetype": "text/x-python",
   "name": "python",
   "nbconvert_exporter": "python",
   "pygments_lexer": "ipython3",
   "version": "3.7.0"
  }
 },
 "nbformat": 4,
 "nbformat_minor": 2
}
