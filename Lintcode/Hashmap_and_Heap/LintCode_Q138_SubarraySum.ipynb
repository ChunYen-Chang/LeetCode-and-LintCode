{
 "cells": [
  {
   "cell_type": "code",
   "execution_count": 1,
   "metadata": {},
   "outputs": [],
   "source": [
    "class Solution:\n",
    "    \"\"\"\n",
    "    @param nums: A list of integers\n",
    "    @return: A list of integers includes the index of the first number and the index of the last number\n",
    "    \"\"\"\n",
    "    def subarraySum(self, nums):\n",
    "        hash_table = {}\n",
    "        hash_table[0] = -1\n",
    "        plus = 0\n",
    "    \n",
    "        for index, value in enumerate(nums):\n",
    "            plus = plus + value\n",
    "            if plus not in hash_table:\n",
    "                hash_table[plus] = index\n",
    "            elif plus in hash_table:\n",
    "                ans = [hash_table[plus] + 1, index]\n",
    "                break\n",
    "    \n",
    "        if not ans:\n",
    "            return [-1, -1]\n",
    "        else:\n",
    "            return ans"
   ]
  }
 ],
 "metadata": {
  "kernelspec": {
   "display_name": "Python 3",
   "language": "python",
   "name": "python3"
  },
  "language_info": {
   "codemirror_mode": {
    "name": "ipython",
    "version": 3
   },
   "file_extension": ".py",
   "mimetype": "text/x-python",
   "name": "python",
   "nbconvert_exporter": "python",
   "pygments_lexer": "ipython3",
   "version": "3.7.0"
  }
 },
 "nbformat": 4,
 "nbformat_minor": 2
}
