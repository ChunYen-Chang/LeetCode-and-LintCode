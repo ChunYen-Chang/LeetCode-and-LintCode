{
 "cells": [
  {
   "cell_type": "code",
   "execution_count": null,
   "metadata": {},
   "outputs": [],
   "source": [
    "class Solution:\n",
    "    \"\"\"\n",
    "    @param nums: a list of integer\n",
    "    @param k: an integer\n",
    "    @return: return an integer, denote the number of continuous subarrays whose sum equals to k\n",
    "    \"\"\"\n",
    "    def subarraySumEqualsK(self, nums, k):\n",
    "        hash_table = {}\n",
    "        hash_table[0] = -1\n",
    "        plus = 0\n",
    "        ans = []\n",
    "    \n",
    "        for index, value in enumerate(nums):\n",
    "            plus = plus + value\n",
    "            if plus - k in hash_table:\n",
    "                hash_table[plus] = index\n",
    "                ans.append([hash_table[plus - k] + 1, index])\n",
    "            elif plus - k not in hash_table:\n",
    "                hash_table[plus] = index\n",
    "                \n",
    "        if ans == []:\n",
    "            return 0\n",
    "        else:\n",
    "            return len(ans)\n"
   ]
  }
 ],
 "metadata": {
  "kernelspec": {
   "display_name": "Python 3",
   "language": "python",
   "name": "python3"
  },
  "language_info": {
   "codemirror_mode": {
    "name": "ipython",
    "version": 3
   },
   "file_extension": ".py",
   "mimetype": "text/x-python",
   "name": "python",
   "nbconvert_exporter": "python",
   "pygments_lexer": "ipython3",
   "version": "3.7.0"
  }
 },
 "nbformat": 4,
 "nbformat_minor": 2
}
