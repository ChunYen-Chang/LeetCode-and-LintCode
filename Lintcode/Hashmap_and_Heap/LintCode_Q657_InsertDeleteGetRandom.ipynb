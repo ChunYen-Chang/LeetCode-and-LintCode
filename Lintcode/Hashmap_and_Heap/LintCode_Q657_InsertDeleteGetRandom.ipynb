{
 "cells": [
  {
   "cell_type": "markdown",
   "metadata": {},
   "source": [
    "# ANSWER ONE - using list and hashmap"
   ]
  },
  {
   "cell_type": "code",
   "execution_count": 26,
   "metadata": {},
   "outputs": [],
   "source": [
    "import random\n",
    "\n",
    "class RandomizedSet:\n",
    "    \n",
    "    def __init__(self):\n",
    "        self.container = []\n",
    "        self.hashtable = {}\n",
    "\n",
    "    def insert(self, val):\n",
    "        # if value does not exist\n",
    "        if val not in self.hashtable:\n",
    "            self.container.append(val)\n",
    "            self.hashtable[val] = len(self.container) - 1\n",
    "            return True\n",
    "        # if value exists\n",
    "        else:\n",
    "            return False\n",
    "\n",
    "    def remove(self, val):\n",
    "        if val not in self.hashtable:\n",
    "            return False\n",
    "        else:\n",
    "            # find position\n",
    "            val_position = self.hashtable[val]\n",
    "            last_position = len(self.container) - 1  \n",
    "            # swap\n",
    "            self.container[val_position], self.container[last_position] = self.container[last_position], self.container[val_position]\n",
    "            # modify hashtable\n",
    "            del self.hashtable[val]\n",
    "            self.hashtable[self.container[val_position]] = val_position\n",
    "            # delete\n",
    "            self.container.pop()\n",
    "            return True\n",
    "        \n",
    "    def getRandom(self):\n",
    "        random_index = random.randint(0, len(self.container) - 1)\n",
    "        random_number = self.container[random_index]\n",
    "        return random_number\n",
    "\n"
   ]
  }
 ],
 "metadata": {
  "kernelspec": {
   "display_name": "Python 3",
   "language": "python",
   "name": "python3"
  },
  "language_info": {
   "codemirror_mode": {
    "name": "ipython",
    "version": 3
   },
   "file_extension": ".py",
   "mimetype": "text/x-python",
   "name": "python",
   "nbconvert_exporter": "python",
   "pygments_lexer": "ipython3",
   "version": "3.7.0"
  }
 },
 "nbformat": 4,
 "nbformat_minor": 2
}
