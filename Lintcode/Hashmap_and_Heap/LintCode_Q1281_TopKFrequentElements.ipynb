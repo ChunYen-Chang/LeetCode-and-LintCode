{
 "cells": [
  {
   "cell_type": "code",
   "execution_count": null,
   "metadata": {},
   "outputs": [],
   "source": [
    "import heapq\n",
    "\n",
    "class Solution:\n",
    "    \"\"\"\n",
    "    @param nums: the given array\n",
    "    @param k: the given k\n",
    "    @return: the k most frequent elements\n",
    "    \"\"\"\n",
    "    def topKFrequent(self, nums, k):\n",
    "\n",
    "        hash_table = {}\n",
    "        heap = []\n",
    "        result = []\n",
    "        heap_size = 0\n",
    "        \n",
    "        for num in nums:\n",
    "            if num not in hash_table:\n",
    "                hash_table[num] = 1\n",
    "            else:\n",
    "                hash_table[num] += 1\n",
    "\n",
    "        for num in set(nums):\n",
    "            if heap_size < k:\n",
    "                heapq.heappush(heap, [hash_table[num], num])\n",
    "                heap_size += 1\n",
    "            else:\n",
    "                max_heap_root = heap[0]\n",
    "                max_distance = max_heap_root[0]\n",
    "                \n",
    "                if hash_table[num] > max_distance:\n",
    "                    heapq.heappop(heap)\n",
    "                    heapq.heappush(heap, [hash_table[num], num])\n",
    "           \n",
    "        while heap:\n",
    "            heap_num = heapq.heappop(heap)\n",
    "            result.append(heap_num[1])\n",
    "            result.reverse()\n",
    "        \n",
    "        return result"
   ]
  },
  {
   "cell_type": "code",
   "execution_count": null,
   "metadata": {},
   "outputs": [],
   "source": [
    "# note: this one is an off-line method, the time complexity is O(klogk)"
   ]
  }
 ],
 "metadata": {
  "kernelspec": {
   "display_name": "Python 3",
   "language": "python",
   "name": "python3"
  },
  "language_info": {
   "codemirror_mode": {
    "name": "ipython",
    "version": 3
   },
   "file_extension": ".py",
   "mimetype": "text/x-python",
   "name": "python",
   "nbconvert_exporter": "python",
   "pygments_lexer": "ipython3",
   "version": "3.7.0"
  }
 },
 "nbformat": 4,
 "nbformat_minor": 2
}
