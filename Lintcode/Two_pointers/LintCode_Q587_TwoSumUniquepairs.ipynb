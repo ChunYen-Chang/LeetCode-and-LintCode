{
 "cells": [
  {
   "cell_type": "markdown",
   "metadata": {},
   "source": [
    "# ANSWER ONE - using hash table"
   ]
  },
  {
   "cell_type": "code",
   "execution_count": 2,
   "metadata": {},
   "outputs": [],
   "source": [
    "def twoSum6(nums, target):\n",
    "    hash_table = {}\n",
    "    result = []\n",
    "    \n",
    "    for i in range(len(nums)):\n",
    "        anum = target - nums[i]\n",
    "        if anum in hash_table:\n",
    "            if set([hash_table[anum], anum]) not in result:\n",
    "                result.append(set([hash_table[anum], anum]))\n",
    "        hash_table[nums[i]] = anum\n",
    "    \n",
    "    return len(result)"
   ]
  },
  {
   "cell_type": "markdown",
   "metadata": {},
   "source": [
    "# ANSWER TWO - using two pointers"
   ]
  },
  {
   "cell_type": "code",
   "execution_count": null,
   "metadata": {},
   "outputs": [],
   "source": [
    "def twoSum6(nums, target):\n",
    "    left = 0\n",
    "    right = len(nums) - 1\n",
    "    nums.sort()\n",
    "    result = []\n",
    "    \n",
    "    while left <= right:\n",
    "        asum = nums[left] + nums[right] \n",
    "        if asum < target:\n",
    "            left += 1\n",
    "        elif asum > target:\n",
    "            right -= 1\n",
    "        else:\n",
    "            if set([nums[left], nums[right]]) not in result:\n",
    "                result.append(set([nums[left], nums[right]]))\n",
    "            left += 1\n",
    "            right -= 1\n",
    "\n",
    "    return len(result)"
   ]
  }
 ],
 "metadata": {
  "kernelspec": {
   "display_name": "Python 3",
   "language": "python",
   "name": "python3"
  },
  "language_info": {
   "codemirror_mode": {
    "name": "ipython",
    "version": 3
   },
   "file_extension": ".py",
   "mimetype": "text/x-python",
   "name": "python",
   "nbconvert_exporter": "python",
   "pygments_lexer": "ipython3",
   "version": "3.7.0"
  }
 },
 "nbformat": 4,
 "nbformat_minor": 2
}
