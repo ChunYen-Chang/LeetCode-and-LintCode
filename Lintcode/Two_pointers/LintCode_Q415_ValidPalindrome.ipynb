{
 "cells": [
  {
   "cell_type": "markdown",
   "metadata": {},
   "source": [
    "# ANSWER ONE - two pointers"
   ]
  },
  {
   "cell_type": "code",
   "execution_count": null,
   "metadata": {},
   "outputs": [],
   "source": [
    "class Solution:\n",
    "    \"\"\"\n",
    "    @param s: A string\n",
    "    @return: Whether the string is a valid palindrome\n",
    "    \"\"\"\n",
    "    def isPalindrome(self, s):\n",
    "        # corner case detection\n",
    "        if s == \" \" or s == \"\":\n",
    "            return True\n",
    "        \n",
    "        # initializaiton\n",
    "        left = 0\n",
    "        right = len(s) - 1\n",
    "        \n",
    "        while left <= right:\n",
    "            while not s[left].isalpha() and not s[left].isdigit() and left < len(s) - 1:\n",
    "                left += 1\n",
    "            while not s[right].isalpha() and not s[right].isdigit() and right >= 0:\n",
    "                right -= 1    \n",
    "            if s[left].lower() == s[right].lower():\n",
    "                left += 1\n",
    "                right -= 1\n",
    "            else:\n",
    "                return False\n",
    "        return True"
   ]
  }
 ],
 "metadata": {
  "kernelspec": {
   "display_name": "Python 3",
   "language": "python",
   "name": "python3"
  },
  "language_info": {
   "codemirror_mode": {
    "name": "ipython",
    "version": 3
   },
   "file_extension": ".py",
   "mimetype": "text/x-python",
   "name": "python",
   "nbconvert_exporter": "python",
   "pygments_lexer": "ipython3",
   "version": "3.7.0"
  }
 },
 "nbformat": 4,
 "nbformat_minor": 2
}
