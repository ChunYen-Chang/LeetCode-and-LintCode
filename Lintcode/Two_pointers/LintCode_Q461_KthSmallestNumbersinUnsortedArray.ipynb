{
 "cells": [
  {
   "cell_type": "code",
   "execution_count": null,
   "metadata": {},
   "outputs": [],
   "source": [
    "class Solution:\n",
    "    \"\"\"\n",
    "    @param k: An integer\n",
    "    @param nums: An integer array\n",
    "    @return: kth smallest element\n",
    "    \"\"\"\n",
    "    def quick_sort(self, nums, start, end):\n",
    "        if start > end:\n",
    "            return\n",
    "        \n",
    "        left = start\n",
    "        right = end\n",
    "        mid = (start + end) // 2\n",
    "        pivot = nums[mid]\n",
    "        \n",
    "        while left <= right:\n",
    "            while left <= right and nums[left] < pivot:\n",
    "                left += 1\n",
    "            while left <= right and nums[right] > pivot:\n",
    "                right -= 1\n",
    "            if left <= right:\n",
    "                nums[left], nums[right] = nums[right], nums[left]\n",
    "                left += 1\n",
    "                right -= 1\n",
    "                \n",
    "        self.quick_sort(nums, start, right)\n",
    "        self.quick_sort(nums, left, end)\n",
    "            \n",
    "    \n",
    "    def kthSmallest(self, k, nums):\n",
    "        self.quick_sort(nums, 0, len(nums) - 1)\n",
    "        return nums[k - 1]\n"
   ]
  }
 ],
 "metadata": {
  "kernelspec": {
   "display_name": "Python 3",
   "language": "python",
   "name": "python3"
  },
  "language_info": {
   "codemirror_mode": {
    "name": "ipython",
    "version": 3
   },
   "file_extension": ".py",
   "mimetype": "text/x-python",
   "name": "python",
   "nbconvert_exporter": "python",
   "pygments_lexer": "ipython3",
   "version": "3.7.0"
  }
 },
 "nbformat": 4,
 "nbformat_minor": 2
}
