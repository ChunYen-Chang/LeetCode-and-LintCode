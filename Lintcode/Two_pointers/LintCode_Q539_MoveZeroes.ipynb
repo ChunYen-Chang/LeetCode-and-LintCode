{
 "cells": [
  {
   "cell_type": "code",
   "execution_count": 24,
   "metadata": {},
   "outputs": [],
   "source": [
    "class Solution:\n",
    "    \"\"\"\n",
    "    @param nums: an integer array\n",
    "    @return: nothing\n",
    "    \"\"\"\n",
    "    def moveZeroes(self, nums):\n",
    "        slow = 0\n",
    "        fast = 0\n",
    "        nums_len = len(nums)\n",
    "        \n",
    "        while slow <= fast and fast < nums_len:\n",
    "            while nums[fast] == 0 and fast < nums_len:\n",
    "                if fast == nums_len-1:\n",
    "                    break\n",
    "                else:\n",
    "                    fast += 1\n",
    "\n",
    "            if slow <= fast:\n",
    "                nums[fast], nums[slow] = nums[slow], nums[fast]\n",
    "                slow += 1\n",
    "                if fast == nums_len-1:\n",
    "                    break\n",
    "                else:\n",
    "                    fast += 1\n",
    "        return nums"
   ]
  },
  {
   "cell_type": "code",
   "execution_count": null,
   "metadata": {},
   "outputs": [],
   "source": [
    "# note: when dealing with this kind of two pointers question, please do not forget to put an if statement when you \n",
    "# add 1 to fast pointer. This if statement can help you provent from have list index out of range problem"
   ]
  }
 ],
 "metadata": {
  "kernelspec": {
   "display_name": "Python 3",
   "language": "python",
   "name": "python3"
  },
  "language_info": {
   "codemirror_mode": {
    "name": "ipython",
    "version": 3
   },
   "file_extension": ".py",
   "mimetype": "text/x-python",
   "name": "python",
   "nbconvert_exporter": "python",
   "pygments_lexer": "ipython3",
   "version": "3.7.0"
  }
 },
 "nbformat": 4,
 "nbformat_minor": 2
}
