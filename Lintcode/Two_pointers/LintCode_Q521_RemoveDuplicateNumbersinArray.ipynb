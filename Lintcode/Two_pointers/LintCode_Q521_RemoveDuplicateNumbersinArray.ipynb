{
 "cells": [
  {
   "cell_type": "markdown",
   "metadata": {},
   "source": [
    "# ANSWER ONE - using two pointers"
   ]
  },
  {
   "cell_type": "code",
   "execution_count": null,
   "metadata": {},
   "outputs": [],
   "source": [
    "def deduplication(nums):\n",
    "    nums = sorted(nums)\n",
    "    slow = 0\n",
    "    fast = 1\n",
    "    nums_len = len(nums)\n",
    "    \n",
    "    while fast < nums_len:\n",
    "        if nums[fast] != nums[slow]:\n",
    "            slow +=1\n",
    "            nums[slow] = nums[fast]\n",
    "        fast += 1\n",
    "\n",
    "    return slow + 1\n",
    "        "
   ]
  },
  {
   "cell_type": "code",
   "execution_count": 48,
   "metadata": {},
   "outputs": [
    {
     "name": "stdout",
     "output_type": "stream",
     "text": [
      "[1, 1, 1, 1, 1, 1, 1, 1, 1, 1, 2, 3, 4, 4]\n",
      "[1, 2, 3, 4, 1, 1, 1, 1, 1, 1, 2, 3, 4, 4]\n"
     ]
    },
    {
     "data": {
      "text/plain": [
       "4"
      ]
     },
     "execution_count": 48,
     "metadata": {},
     "output_type": "execute_result"
    }
   ],
   "source": [
    "deduplication([1,1,1,1,1,1,1,1,1,3,1,4,4,2])"
   ]
  },
  {
   "cell_type": "code",
   "execution_count": null,
   "metadata": {},
   "outputs": [],
   "source": [
    "# note: time complexity = O(n), space complexity = O(1)"
   ]
  },
  {
   "cell_type": "markdown",
   "metadata": {},
   "source": [
    "# ANSWER TWO - using hashtable"
   ]
  },
  {
   "cell_type": "code",
   "execution_count": 53,
   "metadata": {},
   "outputs": [],
   "source": [
    "def deduplication(nums):\n",
    "    hashtable = {}\n",
    "\n",
    "    for num in nums:\n",
    "        if num not in hashtable:\n",
    "            hashtable[num] = 1\n",
    "        elif num in hashtable:\n",
    "            hashtable[num] += 1\n",
    "\n",
    "    return len(hashtable)\n",
    "        "
   ]
  },
  {
   "cell_type": "code",
   "execution_count": 54,
   "metadata": {},
   "outputs": [
    {
     "name": "stdout",
     "output_type": "stream",
     "text": [
      "{1: 10, 3: 1, 4: 2, 2: 1}\n"
     ]
    },
    {
     "data": {
      "text/plain": [
       "4"
      ]
     },
     "execution_count": 54,
     "metadata": {},
     "output_type": "execute_result"
    }
   ],
   "source": [
    "deduplication([1,1,1,1,1,1,1,1,1,3,1,4,4,2])"
   ]
  },
  {
   "cell_type": "code",
   "execution_count": null,
   "metadata": {},
   "outputs": [],
   "source": [
    "# note: time complexity = O(n), space complexity = O(n)"
   ]
  }
 ],
 "metadata": {
  "kernelspec": {
   "display_name": "Python 3",
   "language": "python",
   "name": "python3"
  },
  "language_info": {
   "codemirror_mode": {
    "name": "ipython",
    "version": 3
   },
   "file_extension": ".py",
   "mimetype": "text/x-python",
   "name": "python",
   "nbconvert_exporter": "python",
   "pygments_lexer": "ipython3",
   "version": "3.7.0"
  }
 },
 "nbformat": 4,
 "nbformat_minor": 2
}
