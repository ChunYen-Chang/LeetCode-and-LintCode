{
 "cells": [
  {
   "cell_type": "code",
   "execution_count": 79,
   "metadata": {},
   "outputs": [],
   "source": [
    "class Solution:\n",
    "    \"\"\"\n",
    "    @param numbers: Give an array numbers of n integer\n",
    "    @return: Find all unique triplets in the array which gives the sum of zero.\n",
    "    \"\"\"\n",
    "    def two_sum(self, nums, target):\n",
    "        target = -target\n",
    "        left = 0\n",
    "        right = len(nums) - 1\n",
    "        result = []\n",
    "        \n",
    "        while left < right:\n",
    "            asum = nums[left] + nums[right]\n",
    "            if asum < target:\n",
    "                left += 1\n",
    "            elif asum > target:\n",
    "                right -= 1\n",
    "            else:\n",
    "                if set([nums[left], nums[right]]) not in result:\n",
    "                    result.append(set([nums[left], nums[right]]))\n",
    "                left += 1\n",
    "                right -= 1\n",
    "                \n",
    "        if len(result) != 0:\n",
    "            for i in range(len(result)):\n",
    "                result[i] = [target] + list(result[i])\n",
    "        \n",
    "        return result\n",
    "                \n",
    "    \n",
    "    \n",
    "    def threeSum(self, numbers):\n",
    "        numbers.sort()\n",
    "        three_sum_result = []\n",
    "        for i in range(1, len(numbers)):\n",
    "            target = i - 1\n",
    "            two_sum_result = self.two_sum(numbers[i:], target)\n",
    "            print(two_sum_result)\n",
    "            three_sum_result += two_sum_result\n",
    "        return three_sum_result\n"
   ]
  }
 ],
 "metadata": {
  "kernelspec": {
   "display_name": "Python 3",
   "language": "python",
   "name": "python3"
  },
  "language_info": {
   "codemirror_mode": {
    "name": "ipython",
    "version": 3
   },
   "file_extension": ".py",
   "mimetype": "text/x-python",
   "name": "python",
   "nbconvert_exporter": "python",
   "pygments_lexer": "ipython3",
   "version": "3.7.0"
  }
 },
 "nbformat": 4,
 "nbformat_minor": 2
}
