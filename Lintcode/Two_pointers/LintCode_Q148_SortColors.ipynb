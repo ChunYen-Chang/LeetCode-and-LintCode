{
 "cells": [
  {
   "cell_type": "markdown",
   "metadata": {},
   "source": [
    "# ANSWER ONE - using two points"
   ]
  },
  {
   "cell_type": "code",
   "execution_count": 7,
   "metadata": {},
   "outputs": [],
   "source": [
    "class Solution:\n",
    "    \"\"\"\n",
    "    @param nums: A list of integer which is 0, 1 or 2 \n",
    "    @return: nothing\n",
    "    \"\"\"\n",
    "    def sortColors(self, nums):\n",
    "        # do the first round partition(seperate \"0\" and \"1 2\")\n",
    "        left = 0\n",
    "        right = len(nums)-1\n",
    "        \n",
    "        while left <= right:\n",
    "            while left <= right and nums[left] < 1:\n",
    "                left += 1\n",
    "            while left <= right and nums[right] >= 1:\n",
    "                right -= 1\n",
    "            if left <= right:\n",
    "                nums[left], nums[right] = nums[right], nums[left]\n",
    "                left += 1\n",
    "                right -= 1\n",
    "        \n",
    "        # do the second round partition(seperate \"1\" and \"2\")\n",
    "        left = left\n",
    "        right = len(nums)-1\n",
    "        \n",
    "        while left <= right:\n",
    "            while left <= right and nums[left] < 2:\n",
    "                left += 1\n",
    "            while left <= right and nums[right] >= 2:\n",
    "                right -= 1\n",
    "            if left <= right:\n",
    "                nums[left], nums[right] = nums[right], nums[left]\n",
    "                left += 1\n",
    "                right -= 1\n",
    "        return nums"
   ]
  },
  {
   "cell_type": "markdown",
   "metadata": {},
   "source": [
    "# ANSWER TWO - using three pointers"
   ]
  },
  {
   "cell_type": "code",
   "execution_count": null,
   "metadata": {},
   "outputs": [],
   "source": [
    "class Solution:\n",
    "    \"\"\"\n",
    "    @param nums: A list of integer which is 0, 1 or 2 \n",
    "    @return: nothing\n",
    "    \"\"\"\n",
    "    def sortColors(self, nums):\n",
    "        left = 0\n",
    "        right = len(nums)-1\n",
    "        i = 0\n",
    "        \n",
    "        while i <= right:\n",
    "            if nums[i] == 0:\n",
    "                nums[i], nums[left] = nums[left], nums[i]\n",
    "                left += 1\n",
    "                i += 1 \n",
    "            elif nums[i] == 2:\n",
    "                nums[i], nums[right] = nums[right], nums[i]\n",
    "                right -= 1\n",
    "            elif nums[i] == 1:\n",
    "                i += 1\n",
    "        return nums"
   ]
  },
  {
   "cell_type": "code",
   "execution_count": null,
   "metadata": {},
   "outputs": [],
   "source": []
  }
 ],
 "metadata": {
  "kernelspec": {
   "display_name": "Python 3",
   "language": "python",
   "name": "python3"
  },
  "language_info": {
   "codemirror_mode": {
    "name": "ipython",
    "version": 3
   },
   "file_extension": ".py",
   "mimetype": "text/x-python",
   "name": "python",
   "nbconvert_exporter": "python",
   "pygments_lexer": "ipython3",
   "version": "3.7.0"
  }
 },
 "nbformat": 4,
 "nbformat_minor": 2
}
