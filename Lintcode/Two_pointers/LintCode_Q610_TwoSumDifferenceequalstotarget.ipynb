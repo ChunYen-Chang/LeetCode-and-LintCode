{
 "cells": [
  {
   "cell_type": "code",
   "execution_count": null,
   "metadata": {},
   "outputs": [],
   "source": [
    "class Solution:\n",
    "    \"\"\"\n",
    "    @param nums: an array of Integer\n",
    "    @param target: an integer\n",
    "    @return: [index1 + 1, index2 + 1] (index1 < index2)\n",
    "    \"\"\"\n",
    "    def twoSum7(self, nums, target):\n",
    "        nums = [(num, order)for order, num in enumerate(nums)]\n",
    "        nums = sorted(nums)\n",
    "        nums_len = len(nums)\n",
    "        fast_point = 1\n",
    "    \n",
    "        target = abs(target)\n",
    "    \n",
    "\n",
    "        for slow_point in range(nums_len-1):\n",
    "            if slow_point == fast_point:\n",
    "                fast_point += 1\n",
    "        \n",
    "            while fast_point < nums_len and ((nums[fast_point][0]-nums[slow_point][0])) < target:\n",
    "                    if fast_point == nums_len - 1:\n",
    "                        break\n",
    "                    else:\n",
    "                        fast_point += 1\n",
    "\n",
    "            if (nums[fast_point][0]-nums[slow_point][0]) == target:\n",
    "\n",
    "                position = [nums[slow_point][1]+1, nums[fast_point][1]+1]\n",
    "            \n",
    "        if position[0] > position[1]:\n",
    "            position[0], position[1] = position[1], position[0]\n",
    "            \n",
    "        return position"
   ]
  }
 ],
 "metadata": {
  "kernelspec": {
   "display_name": "Python 3",
   "language": "python",
   "name": "python3"
  },
  "language_info": {
   "codemirror_mode": {
    "name": "ipython",
    "version": 3
   },
   "file_extension": ".py",
   "mimetype": "text/x-python",
   "name": "python",
   "nbconvert_exporter": "python",
   "pygments_lexer": "ipython3",
   "version": "3.7.0"
  }
 },
 "nbformat": 4,
 "nbformat_minor": 2
}
