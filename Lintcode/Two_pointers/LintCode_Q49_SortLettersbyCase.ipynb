{
 "cells": [
  {
   "cell_type": "code",
   "execution_count": null,
   "metadata": {},
   "outputs": [],
   "source": [
    "class Solution:\n",
    "    \"\"\"\n",
    "    @param: chars: The letter array you should sort by Case\n",
    "    @return: nothing\n",
    "    \"\"\"\n",
    "    def sortLetters(self, chars):\n",
    "        if chars == \"\":\n",
    "            return \"\"\n",
    "            \n",
    "        chars = list(chars)\n",
    "        left = 0\n",
    "        right = len(chars)-1\n",
    "        \n",
    "        while left < right:\n",
    "            while chars[left].islower() and left < right:\n",
    "                left += 1\n",
    "            while chars[right].isupper() and left < right:\n",
    "                right -= 1\n",
    "            if left < right:\n",
    "                chars[left], chars[right] = chars[right], chars[left]\n",
    "                left +=1\n",
    "                right -=1\n",
    "           \n",
    "        return ''.join(chars)"
   ]
  }
 ],
 "metadata": {
  "kernelspec": {
   "display_name": "Python 3",
   "language": "python",
   "name": "python3"
  },
  "language_info": {
   "codemirror_mode": {
    "name": "ipython",
    "version": 3
   },
   "file_extension": ".py",
   "mimetype": "text/x-python",
   "name": "python",
   "nbconvert_exporter": "python",
   "pygments_lexer": "ipython3",
   "version": "3.7.0"
  }
 },
 "nbformat": 4,
 "nbformat_minor": 2
}
