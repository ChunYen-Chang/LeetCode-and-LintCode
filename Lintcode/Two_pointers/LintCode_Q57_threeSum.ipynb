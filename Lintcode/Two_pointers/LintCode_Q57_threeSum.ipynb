{
 "cells": [
  {
   "cell_type": "code",
   "execution_count": null,
   "metadata": {},
   "outputs": [],
   "source": [
    "class Solution:\n",
    "    \"\"\"\n",
    "    @param numbers: Give an array numbers of n integer\n",
    "    @return: Find all unique triplets in the array which gives the sum of zero.\n",
    "    \"\"\"\n",
    "    def twosum(self, nums, target):\n",
    "        hash_Table = {}\n",
    "        result = []\n",
    "        \n",
    "        for i in nums:\n",
    "            anum = target - i\n",
    "            if anum in hash_Table:\n",
    "                if [anum, i] not in result:\n",
    "                    result.append([anum, i])\n",
    "            hash_Table[i] = anum\n",
    "            \n",
    "        return result    \n",
    "    \n",
    "    \n",
    "    def threeSum(self, numbers):\n",
    "        numbers.sort()\n",
    "        all_res = []\n",
    "        \n",
    "        for i in range(len(numbers) - 1, 1, -1):\n",
    "            each_res = self.twosum(numbers[:i], -numbers[i])\n",
    "            if each_res != []:\n",
    "                for j in each_res:\n",
    "                    j.append(numbers[i])\n",
    "                    if j not in all_res:\n",
    "                        all_res += each_res\n",
    "                        \n",
    "        return all_res\n"
   ]
  }
 ],
 "metadata": {
  "kernelspec": {
   "display_name": "Python 3",
   "language": "python",
   "name": "python3"
  },
  "language_info": {
   "codemirror_mode": {
    "name": "ipython",
    "version": 3
   },
   "file_extension": ".py",
   "mimetype": "text/x-python",
   "name": "python",
   "nbconvert_exporter": "python",
   "pygments_lexer": "ipython3",
   "version": "3.7.0"
  }
 },
 "nbformat": 4,
 "nbformat_minor": 2
}
