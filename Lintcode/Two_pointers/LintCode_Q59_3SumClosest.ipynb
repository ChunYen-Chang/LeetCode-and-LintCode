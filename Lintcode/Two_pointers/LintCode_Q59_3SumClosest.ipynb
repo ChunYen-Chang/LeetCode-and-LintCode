{
 "cells": [
  {
   "cell_type": "code",
   "execution_count": 52,
   "metadata": {},
   "outputs": [],
   "source": [
    "def two_sum(nums, target):\n",
    "    left = 0\n",
    "    right = len(nums) - 1\n",
    "    \n",
    "    while left + 1< right:\n",
    "        asum = nums[left] + nums[right]\n",
    "        if asum < target:\n",
    "            left += 1\n",
    "        else:\n",
    "            right -= 1   \n",
    "    return nums[left] + nums[right]\n",
    "\n",
    "\n",
    "def threeSumClosest(nums, target):\n",
    "    nums.sort()\n",
    "    min_value = 99999999\n",
    "    \n",
    "    for i in range(0, len(nums) - 3):\n",
    "        two_sum_res = two_sum(nums[i + 1:], target - nums[i])\n",
    "        two_sum_res = two_sum_res + nums[i]\n",
    "        if two_sum_res < min_value:\n",
    "            min_value = two_sum_res\n",
    "    return min_value"
   ]
  },
  {
   "cell_type": "code",
   "execution_count": 53,
   "metadata": {},
   "outputs": [
    {
     "data": {
      "text/plain": [
       "20"
      ]
     },
     "execution_count": 53,
     "metadata": {},
     "output_type": "execute_result"
    }
   ],
   "source": [
    "nums = [2,7,11,15]\n",
    "target = 3\n",
    "threeSumClosest(nums, target)"
   ]
  },
  {
   "cell_type": "code",
   "execution_count": 55,
   "metadata": {},
   "outputs": [],
   "source": [
    "nums = [0, 1, 1, 0, 2, 1, 2]"
   ]
  },
  {
   "cell_type": "code",
   "execution_count": 69,
   "metadata": {},
   "outputs": [],
   "source": [
    "def quick_sort(nums, start, end, pivot):\n",
    "    left = start\n",
    "    right = end\n",
    "    \n",
    "    while left <= right:\n",
    "        while left <= right and nums[left] == pivot:\n",
    "            left += 1\n",
    "        while left <= right and nums[right] != pivot:\n",
    "            right -= 1\n",
    "        if left <= right:\n",
    "            nums[left], nums[right] = nums[right], nums[left]\n",
    "            \n",
    "    return nums, right + 1\n",
    "\n",
    "def rainbow_sort(nums):\n",
    "    not_duplicated = []\n",
    "    for i in range(len(nums)):\n",
    "        if nums[i] not in not_duplicated:\n",
    "            not_duplicated.append(nums[i])\n",
    "    print(not_duplicated)\n",
    "    \n",
    "    start = 0\n",
    "    end = len(nums) - 1\n",
    "    print(not_duplicated)\n",
    "    for i in not_duplicated:\n",
    "        nums, start = quick_sort(nums, start, end, i)\n",
    "        print(nums)\n",
    "    return nums"
   ]
  },
  {
   "cell_type": "code",
   "execution_count": 70,
   "metadata": {},
   "outputs": [
    {
     "name": "stdout",
     "output_type": "stream",
     "text": [
      "[3, 2, 1, 4]\n",
      "[3, 2, 1, 4]\n",
      "[3, 2, 2, 1, 4]\n",
      "[3, 2, 2, 1, 4]\n",
      "[3, 2, 2, 1, 4]\n",
      "[3, 2, 2, 1, 4]\n"
     ]
    },
    {
     "data": {
      "text/plain": [
       "[3, 2, 2, 1, 4]"
      ]
     },
     "execution_count": 70,
     "metadata": {},
     "output_type": "execute_result"
    }
   ],
   "source": [
    "nums = [3,2,2,1,4] \n",
    "rainbow_sort(nums)"
   ]
  },
  {
   "cell_type": "code",
   "execution_count": 74,
   "metadata": {},
   "outputs": [],
   "source": [
    "def quick_sort(colors, color_start, color_end, start, end):\n",
    "    if color_start == color_end or start == end:\n",
    "        return\n",
    "    \n",
    "    pivot = (color_start + color_end) // 2\n",
    "    left = start\n",
    "    right = end\n",
    "    \n",
    "    while left <= right:\n",
    "        while left <= right and colors[left] <= pivot:\n",
    "            left += 1\n",
    "        while left <= right and colors[right] > pivot:   \n",
    "            right -= 1\n",
    "        if left <= right:\n",
    "            colors[left], colors[right] = colors[right], colors[left]\n",
    "            left += 1\n",
    "            right -= 1\n",
    "            \n",
    "    quick_sort(colors, color_start, pivot, start, right)\n",
    "    quick_sort(colors, pivot + 1, color_end, left, end)\n",
    "\n",
    "def rainbow_sort(colors, k):\n",
    "    color_start = 1\n",
    "    color_end = k\n",
    "    start = 0\n",
    "    end = len(colors) - 1\n",
    "    quick_sort(colors, color_start, color_end, start, end)\n",
    "    return colors"
   ]
  },
  {
   "cell_type": "code",
   "execution_count": 75,
   "metadata": {},
   "outputs": [
    {
     "data": {
      "text/plain": [
       "[1, 2, 2, 3, 4]"
      ]
     },
     "execution_count": 75,
     "metadata": {},
     "output_type": "execute_result"
    }
   ],
   "source": [
    "colors = [3,2,2,1,4] \n",
    "k =4\n",
    "rainbow_sort(colors, k)"
   ]
  },
  {
   "cell_type": "code",
   "execution_count": 78,
   "metadata": {},
   "outputs": [],
   "source": [
    "def quick_sort(colors, color_start, color_end, start, end):\n",
    "    if color_start == color_end or start == end:\n",
    "        return\n",
    "    \n",
    "    left = start\n",
    "    right = end\n",
    "    pivot = (color_start + color_end) // 2\n",
    "    \n",
    "    while left <= right:\n",
    "        while left <= right and colors[left] <= pivot:\n",
    "            left += 1\n",
    "        while left <= right and colors[right] > pivot:\n",
    "            right -= 1\n",
    "        if left <= right:\n",
    "            colors[left], colors[right] = colors[right], colors[left]\n",
    "            \n",
    "    quick_sort(colors, color_start, pivot, start, right)\n",
    "    quick_sort(colors, pivot + 1, color_end, left, end)\n",
    "\n",
    "    \n",
    "def rainbow_sort(nums, k):\n",
    "    color_start = 1\n",
    "    color_end = k\n",
    "    start = 0\n",
    "    end = len(nums) - 1\n",
    "    quick_sort(colors, color_start, color_end, start, end)\n",
    "    \n",
    "    return nums\n",
    "    \n",
    "    "
   ]
  },
  {
   "cell_type": "code",
   "execution_count": 79,
   "metadata": {},
   "outputs": [
    {
     "data": {
      "text/plain": [
       "[1, 2, 2, 3, 4]"
      ]
     },
     "execution_count": 79,
     "metadata": {},
     "output_type": "execute_result"
    }
   ],
   "source": [
    "colors = [3,2,2,1,4] \n",
    "k =4\n",
    "rainbow_sort(colors, k)"
   ]
  },
  {
   "cell_type": "code",
   "execution_count": null,
   "metadata": {},
   "outputs": [],
   "source": [
    "def dfs(nums, start)"
   ]
  },
  {
   "cell_type": "code",
   "execution_count": 97,
   "metadata": {},
   "outputs": [],
   "source": [
    "def search(nums, index, subset, result):\n",
    "    if index == len(nums):\n",
    "        result.append(list(subset))\n",
    "        return\n",
    "\n",
    "    subset.append(nums[index])\n",
    "    search(nums, index + 1, subset, result)\n",
    "    subset.pop()\n",
    "    search(nums, index + 1, subset, result)"
   ]
  },
  {
   "cell_type": "code",
   "execution_count": 99,
   "metadata": {},
   "outputs": [
    {
     "data": {
      "text/plain": [
       "[[1, 2, 3], [1, 2], [1, 3], [1], [2, 3], [2], [3], []]"
      ]
     },
     "execution_count": 99,
     "metadata": {},
     "output_type": "execute_result"
    }
   ],
   "source": [
    "nums = [1, 2, 3]\n",
    "index = 0\n",
    "subset = []\n",
    "result = []\n",
    "search(nums, index, subset, result)\n",
    "result"
   ]
  },
  {
   "cell_type": "code",
   "execution_count": 108,
   "metadata": {},
   "outputs": [],
   "source": [
    "def search(nums, index, subset, result):\n",
    "\n",
    "    \n",
    "    result.append(list(subset))\n",
    "    for i in range(index, len(nums)):\n",
    "        subset.append(nums[i])\n",
    "        search(nums, i + 1, subset, result)\n",
    "        subset.pop()\n",
    "        \n",
    "\n",
    "def search(nums, start, subset, result):\n",
    "    if sum(subset) > target:\n",
    "        return\n",
    "    \n",
    "    if sum(subset) == target:\n",
    "        if list(subset) not in result:\n",
    "            result.append(list(subset))\n",
    "    \n",
    "    for i in range(start, len(nums)):\n",
    "        subset.append(nums[i])\n",
    "        search(nums, i, subset, result)\n",
    "        subset.pop()"
   ]
  },
  {
   "cell_type": "code",
   "execution_count": 109,
   "metadata": {},
   "outputs": [
    {
     "data": {
      "text/plain": [
       "[[], [1], [1, 2], [1, 2, 3], [1, 3], [2], [2, 3], [3]]"
      ]
     },
     "execution_count": 109,
     "metadata": {},
     "output_type": "execute_result"
    }
   ],
   "source": [
    "nums = [1, 2, 3]\n",
    "index = 0\n",
    "subset = []\n",
    "result = []\n",
    "search(nums, index, subset, result)\n",
    "result"
   ]
  },
  {
   "cell_type": "code",
   "execution_count": 110,
   "metadata": {},
   "outputs": [],
   "source": [
    "def search(nums, index, subset, result):\n",
    "\n",
    "\n",
    "    \n",
    "    result.append(list(subset))\n",
    "    for i in range(index, len(nums)):\n",
    "        \n",
    "        if i >=0 and nums[i] == nums[i - 1] and i > index:\n",
    "            continue\n",
    "        subset.append(nums[i])\n",
    "        search(nums, i + 1, subset, result)\n",
    "        subset.pop()\n",
    "        "
   ]
  },
  {
   "cell_type": "code",
   "execution_count": 111,
   "metadata": {},
   "outputs": [
    {
     "data": {
      "text/plain": [
       "[[], [1], [1, 2], [1, 2, 2], [2], [2, 2]]"
      ]
     },
     "execution_count": 111,
     "metadata": {},
     "output_type": "execute_result"
    }
   ],
   "source": [
    "nums = [1, 2, 2]\n",
    "index = 0\n",
    "subset = []\n",
    "result = []\n",
    "search(nums, index, subset, result)\n",
    "result"
   ]
  },
  {
   "cell_type": "code",
   "execution_count": 127,
   "metadata": {},
   "outputs": [],
   "source": [
    "def search(nums, visited, subset, result):\n",
    "    if len(subset) == len(nums):\n",
    "        result.append(list(subset))\n",
    "        return\n",
    "    \n",
    "    for i in range(len(nums)):\n",
    "        if visited[i]:\n",
    "            continue\n",
    "        subset.append(nums[i])\n",
    "        visited[i] = True\n",
    "        search(nums, visited, subset, result)\n",
    "        visited[i] = False\n",
    "        subset.pop()\n",
    "    "
   ]
  },
  {
   "cell_type": "code",
   "execution_count": 128,
   "metadata": {},
   "outputs": [
    {
     "data": {
      "text/plain": [
       "[[1, 2, 3], [1, 3, 2], [2, 1, 3], [2, 3, 1], [3, 1, 2], [3, 2, 1]]"
      ]
     },
     "execution_count": 128,
     "metadata": {},
     "output_type": "execute_result"
    }
   ],
   "source": [
    "nums = [1, 2, 3]\n",
    "subset = []\n",
    "result = []\n",
    "visited = [False] * len(nums)\n",
    "search(nums, visited, subset, result)\n",
    "result"
   ]
  },
  {
   "cell_type": "code",
   "execution_count": 129,
   "metadata": {},
   "outputs": [],
   "source": [
    "def search(nums, visited, subset, result):\n",
    "    if len(subset) == len(nums):\n",
    "        result.append(list(subset))\n",
    "        return\n",
    "    \n",
    "    for i in range(len(nums)):\n",
    "        if visited[i]:\n",
    "            continue\n",
    "            \n",
    "        if i > 0 and nums[i] == nums[i - 1] and visited[i - 1] == True:\n",
    "            continue\n",
    "        \n",
    "        \n",
    "        \n",
    "        subset.append(nums[i])\n",
    "        visited[i] = True\n",
    "        search(nums, visited, subset, result)\n",
    "        visited[i] = False\n",
    "        subset.pop()\n",
    "    "
   ]
  },
  {
   "cell_type": "code",
   "execution_count": 130,
   "metadata": {},
   "outputs": [
    {
     "data": {
      "text/plain": [
       "[[1, 2, 2], [2, 1, 2], [2, 2, 1]]"
      ]
     },
     "execution_count": 130,
     "metadata": {},
     "output_type": "execute_result"
    }
   ],
   "source": [
    "nums = [1, 2, 2]\n",
    "subset = []\n",
    "result = []\n",
    "visited = [False] * len(nums)\n",
    "search(nums, visited, subset, result)\n",
    "result"
   ]
  },
  {
   "cell_type": "code",
   "execution_count": 131,
   "metadata": {},
   "outputs": [],
   "source": [
    "nums = [2, 3, 6, 7]\n",
    "target = 7"
   ]
  },
  {
   "cell_type": "code",
   "execution_count": 189,
   "metadata": {},
   "outputs": [],
   "source": [
    "def search(nums, subset, result, compare, target):\n",
    "    if sum(subset) > target:\n",
    "        return\n",
    "    \n",
    "    if sum(subset) == target:\n",
    "        if set(subset) not in compare:\n",
    "            compare.append(set(subset))\n",
    "            result.append(list(subset))\n",
    "    \n",
    "    for i in range(len(nums)):\n",
    "        subset.append(nums[i])\n",
    "        search(nums, subset, result, compare, target)\n",
    "        subset.pop()"
   ]
  },
  {
   "cell_type": "code",
   "execution_count": 190,
   "metadata": {},
   "outputs": [
    {
     "data": {
      "text/plain": [
       "[[2, 2, 3], [7]]"
      ]
     },
     "execution_count": 190,
     "metadata": {},
     "output_type": "execute_result"
    }
   ],
   "source": [
    "nums = [2, 3, 6, 7]\n",
    "target = 7\n",
    "subset = []\n",
    "result = []\n",
    "compare = []\n",
    "start = 0\n",
    "search(nums, subset, result, compare, target)\n",
    "result"
   ]
  },
  {
   "cell_type": "code",
   "execution_count": 171,
   "metadata": {},
   "outputs": [],
   "source": [
    "def dfs(nums, start, subSet, res, target):\n",
    "    print(subSet)\n",
    "    if target < 0:\n",
    "        return\n",
    "    \n",
    "    if target == 0:\n",
    "        res.append(list(subSet))\n",
    "        return \n",
    "            \n",
    "    for i in range(start, len(nums)):\n",
    "\n",
    "        subSet.append(nums[i])\n",
    "        dfs(nums, i, subSet, res, target - nums[i])\n",
    "        subSet.pop()"
   ]
  },
  {
   "cell_type": "code",
   "execution_count": 172,
   "metadata": {},
   "outputs": [
    {
     "name": "stdout",
     "output_type": "stream",
     "text": [
      "[]\n",
      "[2]\n",
      "[2, 2]\n",
      "[2, 2, 2]\n",
      "[2, 2, 2, 2]\n",
      "[2, 2, 2, 3]\n",
      "[2, 2, 2, 6]\n",
      "[2, 2, 2, 7]\n",
      "[2, 2, 3]\n",
      "[2, 2, 6]\n",
      "[2, 2, 7]\n",
      "[2, 3]\n",
      "[2, 3, 3]\n",
      "[2, 3, 6]\n",
      "[2, 3, 7]\n",
      "[2, 6]\n",
      "[2, 7]\n",
      "[3]\n",
      "[3, 3]\n",
      "[3, 3, 3]\n",
      "[3, 3, 6]\n",
      "[3, 3, 7]\n",
      "[3, 6]\n",
      "[3, 7]\n",
      "[6]\n",
      "[6, 6]\n",
      "[6, 7]\n",
      "[7]\n"
     ]
    },
    {
     "data": {
      "text/plain": [
       "[[2, 2, 3], [7]]"
      ]
     },
     "execution_count": 172,
     "metadata": {},
     "output_type": "execute_result"
    }
   ],
   "source": [
    "nums = [2, 3, 6, 7]\n",
    "start = 0\n",
    "target = 7\n",
    "subSet = []\n",
    "res = []\n",
    "dfs(nums, start, subSet, res, target)\n",
    "res"
   ]
  },
  {
   "cell_type": "code",
   "execution_count": 163,
   "metadata": {},
   "outputs": [],
   "source": [
    "def dfs(candidates, target, start, combination, results):\n",
    "\n",
    "    if target < 0:\n",
    "        return\n",
    "        \n",
    "    if target == 0:\n",
    "        return results.append(list(combination))\n",
    "            \n",
    "        \n",
    "    for i in range(start, len(candidates)):\n",
    "        # [2] => [2,2]\n",
    "        combination.append(candidates[i])\n",
    "        dfs(candidates, target - candidates[i], i, combination, results)\n",
    "        # [2,2] => [2]\n",
    "        combination.pop()  # backtracking\n",
    "        \n",
    "        \n",
    "def dfs(nums, start, subSet, res, target):\n",
    "    if target == 0:\n",
    "        res.append(list(subSet))\n",
    "        return \n",
    "            \n",
    "    for i in range(start, len(nums)):\n",
    "        if target < nums[i]:\n",
    "            return \n",
    "        subSet.append(nums[i])\n",
    "        dfs(nums, i, subSet, res, target - nums[i])\n",
    "        subSet.pop()"
   ]
  },
  {
   "cell_type": "code",
   "execution_count": 164,
   "metadata": {},
   "outputs": [
    {
     "name": "stdout",
     "output_type": "stream",
     "text": [
      "[2]\n",
      "[2, 2]\n",
      "[2, 2, 2]\n",
      "[2, 2, 2, 2]\n",
      "[2, 2, 2, 3]\n",
      "[2, 2, 2, 6]\n",
      "[2, 2, 2, 7]\n",
      "[2, 2, 3]\n",
      "[2, 2, 3]\n",
      "[2, 2, 6]\n",
      "[2, 2, 7]\n",
      "[2, 3]\n",
      "[2, 3, 3]\n",
      "[2, 3, 6]\n",
      "[2, 3, 7]\n",
      "[2, 6]\n",
      "[2, 7]\n",
      "[3]\n",
      "[3, 3]\n",
      "[3, 3, 3]\n",
      "[3, 3, 6]\n",
      "[3, 3, 7]\n",
      "[3, 6]\n",
      "[3, 7]\n",
      "[6]\n",
      "[6, 6]\n",
      "[6, 7]\n",
      "[7]\n",
      "[7]\n"
     ]
    },
    {
     "data": {
      "text/plain": [
       "[[2, 2, 3], [7]]"
      ]
     },
     "execution_count": 164,
     "metadata": {},
     "output_type": "execute_result"
    }
   ],
   "source": [
    "candidates = [2, 3, 6, 7]\n",
    "start = 0\n",
    "target = 7\n",
    "combination = []\n",
    "results = []\n",
    "dfs(candidates, target, start, combination, results)\n",
    "results"
   ]
  },
  {
   "cell_type": "code",
   "execution_count": 191,
   "metadata": {},
   "outputs": [
    {
     "ename": "SyntaxError",
     "evalue": "can't assign to literal (<ipython-input-191-a0e6727f5b8e>, line 1)",
     "output_type": "error",
     "traceback": [
      "\u001b[1;36m  File \u001b[1;32m\"<ipython-input-191-a0e6727f5b8e>\"\u001b[1;36m, line \u001b[1;32m1\u001b[0m\n\u001b[1;33m    [1,2,3,4], k = 2, target = 5\u001b[0m\n\u001b[1;37m                                ^\u001b[0m\n\u001b[1;31mSyntaxError\u001b[0m\u001b[1;31m:\u001b[0m can't assign to literal\n"
     ]
    }
   ],
   "source": [
    "[1,2,3,4], k = 2, target = 5"
   ]
  },
  {
   "cell_type": "code",
   "execution_count": 201,
   "metadata": {},
   "outputs": [],
   "source": [
    "def search(nums, subset, result, compare, target, k):\n",
    "    print(subset)\n",
    "    if len(subset) == k:\n",
    "        if sum(subset) == target and set(subset) not in compare:\n",
    "            compare.append(set(subset))\n",
    "            result.append(list(subset))\n",
    "        return\n",
    "    \n",
    "    for i in range(len(nums)):\n",
    "        subset.append(nums[i])\n",
    "        search(nums, subset, result, compare, target, k)\n",
    "        subset.pop()"
   ]
  },
  {
   "cell_type": "code",
   "execution_count": 202,
   "metadata": {},
   "outputs": [
    {
     "name": "stdout",
     "output_type": "stream",
     "text": [
      "[]\n",
      "[1]\n",
      "[1, 1]\n",
      "[1, 2]\n",
      "[1, 3]\n",
      "[1, 4]\n",
      "[2]\n",
      "[2, 1]\n",
      "[2, 2]\n",
      "[2, 3]\n",
      "[2, 4]\n",
      "[3]\n",
      "[3, 1]\n",
      "[3, 2]\n",
      "[3, 3]\n",
      "[3, 4]\n",
      "[4]\n",
      "[4, 1]\n",
      "[4, 2]\n",
      "[4, 3]\n",
      "[4, 4]\n"
     ]
    },
    {
     "data": {
      "text/plain": [
       "[[1, 4], [2, 3]]"
      ]
     },
     "execution_count": 202,
     "metadata": {},
     "output_type": "execute_result"
    }
   ],
   "source": [
    "nums = [1, 2, 3, 4]\n",
    "k = 2\n",
    "target = 5\n",
    "subset = []\n",
    "result = []\n",
    "compare = []\n",
    "search(nums, subset, result, compare, target, k)\n",
    "result"
   ]
  },
  {
   "cell_type": "code",
   "execution_count": null,
   "metadata": {},
   "outputs": [],
   "source": []
  }
 ],
 "metadata": {
  "kernelspec": {
   "display_name": "Python 3",
   "language": "python",
   "name": "python3"
  },
  "language_info": {
   "codemirror_mode": {
    "name": "ipython",
    "version": 3
   },
   "file_extension": ".py",
   "mimetype": "text/x-python",
   "name": "python",
   "nbconvert_exporter": "python",
   "pygments_lexer": "ipython3",
   "version": "3.7.0"
  }
 },
 "nbformat": 4,
 "nbformat_minor": 2
}
