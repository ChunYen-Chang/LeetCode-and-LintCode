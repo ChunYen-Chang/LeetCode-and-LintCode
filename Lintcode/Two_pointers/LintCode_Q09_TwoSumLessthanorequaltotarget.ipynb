{
 "cells": [
  {
   "cell_type": "code",
   "execution_count": 1,
   "metadata": {},
   "outputs": [],
   "source": [
    "class Solution:\n",
    "    \"\"\"\n",
    "    @param nums: an array of integer\n",
    "    @param target: an integer\n",
    "    @return: an integer\n",
    "    \"\"\"\n",
    "    def twoSum5(self, nums, target):\n",
    "        left = 0\n",
    "        right = len(nums) - 1\n",
    "        nums.sort()\n",
    "        \n",
    "        count = 0\n",
    "        while left < right:\n",
    "            asum = nums[left] + nums[right]\n",
    "            if asum <= target:\n",
    "                count += (right - left) \n",
    "                left += 1\n",
    "            elif asum > target:\n",
    "                right -= 1\n",
    "                \n",
    "        return count\n"
   ]
  },
  {
   "cell_type": "code",
   "execution_count": null,
   "metadata": {},
   "outputs": [],
   "source": []
  }
 ],
 "metadata": {
  "kernelspec": {
   "display_name": "Python 3",
   "language": "python",
   "name": "python3"
  },
  "language_info": {
   "codemirror_mode": {
    "name": "ipython",
    "version": 3
   },
   "file_extension": ".py",
   "mimetype": "text/x-python",
   "name": "python",
   "nbconvert_exporter": "python",
   "pygments_lexer": "ipython3",
   "version": "3.7.0"
  }
 },
 "nbformat": 4,
 "nbformat_minor": 2
}
