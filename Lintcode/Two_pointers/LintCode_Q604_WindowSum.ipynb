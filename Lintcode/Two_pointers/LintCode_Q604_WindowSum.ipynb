{
 "cells": [
  {
   "cell_type": "code",
   "execution_count": 9,
   "metadata": {},
   "outputs": [],
   "source": [
    "class Solution:\n",
    "    \"\"\"\n",
    "    @param nums: a list of integers.\n",
    "    @param k: length of window.\n",
    "    @return: the sum of the element inside the window at each moving.\n",
    "    \"\"\"\n",
    "    def winSum(self, nums, k):\n",
    "        if nums == []:\n",
    "            return []\n",
    "            \n",
    "        if k > len(nums):\n",
    "            return []\n",
    "        \n",
    "        res = []\n",
    "        win_run_time = len(nums)-k+1\n",
    "        \n",
    "        for i in range(win_run_time):\n",
    "            window_element = nums[i:i+k]\n",
    "            res.append(sum(window_element))\n",
    "            \n",
    "        return res\n",
    "            "
   ]
  },
  {
   "cell_type": "code",
   "execution_count": null,
   "metadata": {},
   "outputs": [],
   "source": []
  }
 ],
 "metadata": {
  "kernelspec": {
   "display_name": "Python 3",
   "language": "python",
   "name": "python3"
  },
  "language_info": {
   "codemirror_mode": {
    "name": "ipython",
    "version": 3
   },
   "file_extension": ".py",
   "mimetype": "text/x-python",
   "name": "python",
   "nbconvert_exporter": "python",
   "pygments_lexer": "ipython3",
   "version": "3.7.0"
  }
 },
 "nbformat": 4,
 "nbformat_minor": 2
}
