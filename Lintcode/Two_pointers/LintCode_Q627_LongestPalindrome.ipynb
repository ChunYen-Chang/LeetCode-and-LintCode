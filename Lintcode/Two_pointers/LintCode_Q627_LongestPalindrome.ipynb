{
 "cells": [
  {
   "cell_type": "code",
   "execution_count": null,
   "metadata": {},
   "outputs": [],
   "source": [
    "class Solution:\n",
    "    \"\"\"\n",
    "    @param s: a string which consists of lowercase or uppercase letters\n",
    "    @return: the length of the longest palindromes that can be built\n",
    "    \"\"\"\n",
    "    def longestPalindrome(self, s):\n",
    "        count = 0\n",
    "        even = False\n",
    "        \n",
    "        hash_table = {}\n",
    "        for each_char in s:\n",
    "            if each_char not in hash_table:\n",
    "                hash_table[each_char] = 1\n",
    "            elif each_char in hash_table:\n",
    "                hash_table[each_char] = hash_table[each_char] + 1\n",
    "\n",
    "        for key, value in hash_table.items():\n",
    "            if value % 2 == 0:\n",
    "                count += value\n",
    "            elif value % 2 == 1 and value > 1:\n",
    "                value = value - 1\n",
    "                count += value\n",
    "                even = True\n",
    "            elif value == 1:\n",
    "                even = True\n",
    "                \n",
    "        if even:\n",
    "            count += 1\n",
    "            return count\n",
    "        return count\n"
   ]
  }
 ],
 "metadata": {
  "kernelspec": {
   "display_name": "Python 3",
   "language": "python",
   "name": "python3"
  },
  "language_info": {
   "codemirror_mode": {
    "name": "ipython",
    "version": 3
   },
   "file_extension": ".py",
   "mimetype": "text/x-python",
   "name": "python",
   "nbconvert_exporter": "python",
   "pygments_lexer": "ipython3",
   "version": "3.7.0"
  }
 },
 "nbformat": 4,
 "nbformat_minor": 2
}
