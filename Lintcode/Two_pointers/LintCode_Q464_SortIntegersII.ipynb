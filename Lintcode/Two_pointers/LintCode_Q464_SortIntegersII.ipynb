{
 "cells": [
  {
   "cell_type": "code",
   "execution_count": null,
   "metadata": {},
   "outputs": [],
   "source": [
    "class Solution:\n",
    "    \"\"\"\n",
    "    @param A: an integer array\n",
    "    @return: nothing\n",
    "    \"\"\"\n",
    "    def quicksort(self, nums, left, right):\n",
    "        if left > right:\n",
    "            return\n",
    "        \n",
    "        start, end = left, right\n",
    "        mid = (start + end) // 2\n",
    "        pivot = nums[mid]\n",
    "        \n",
    "        while start <= end:\n",
    "            while start <= end and nums[start] < pivot:\n",
    "                start += 1\n",
    "            while start <= end and nums[end] > pivot:\n",
    "                end -= 1\n",
    "            if start <= end:\n",
    "                nums[start], nums[end] = nums[end], nums[start]\n",
    "                start += 1\n",
    "                end -= 1\n",
    "                \n",
    "        self.quicksort(nums, left, end)\n",
    "        self.quicksort(nums, start, right)\n",
    "        \n",
    "            \n",
    "    def sortIntegers2(self, A):\n",
    "        self.quicksort(A, 0, len(A) - 1)\n",
    "        return A"
   ]
  }
 ],
 "metadata": {
  "kernelspec": {
   "display_name": "Python 3",
   "language": "python",
   "name": "python3"
  },
  "language_info": {
   "codemirror_mode": {
    "name": "ipython",
    "version": 3
   },
   "file_extension": ".py",
   "mimetype": "text/x-python",
   "name": "python",
   "nbconvert_exporter": "python",
   "pygments_lexer": "ipython3",
   "version": "3.7.0"
  }
 },
 "nbformat": 4,
 "nbformat_minor": 2
}
