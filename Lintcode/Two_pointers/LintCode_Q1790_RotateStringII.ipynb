{
 "cells": [
  {
   "cell_type": "code",
   "execution_count": null,
   "metadata": {},
   "outputs": [],
   "source": [
    "class Solution:\n",
    "    \"\"\"\n",
    "    @param str: A String\n",
    "    @param left: a left offset\n",
    "    @param right: a right offset\n",
    "    @return: return a rotate string\n",
    "    \"\"\"\n",
    "    def RotateString2(self, str, left, right):\n",
    "        if len(str) == 0:\n",
    "            return \"\"\n",
    "        \n",
    "        anum = left - right\n",
    "        if abs(anum) > len(str):\n",
    "            if anum < 0:\n",
    "                anum = -(abs(anum) % len(str))\n",
    "\n",
    "        if anum < 0:\n",
    "            return str[len(str)+anum:] + str[:anum]\n",
    "        elif anum > 0:\n",
    "            anum = anum % len(str)\n",
    "            return str[anum:] + str[:anum]\n",
    "        else:\n",
    "            return str"
   ]
  }
 ],
 "metadata": {
  "kernelspec": {
   "display_name": "Python 3",
   "language": "python",
   "name": "python3"
  },
  "language_info": {
   "codemirror_mode": {
    "name": "ipython",
    "version": 3
   },
   "file_extension": ".py",
   "mimetype": "text/x-python",
   "name": "python",
   "nbconvert_exporter": "python",
   "pygments_lexer": "ipython3",
   "version": "3.7.0"
  }
 },
 "nbformat": 4,
 "nbformat_minor": 2
}
