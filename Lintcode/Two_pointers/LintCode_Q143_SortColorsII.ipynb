{
 "cells": [
  {
   "cell_type": "markdown",
   "metadata": {},
   "source": [
    "# ANSWER ONE - using counting sort method"
   ]
  },
  {
   "cell_type": "code",
   "execution_count": 33,
   "metadata": {},
   "outputs": [],
   "source": [
    "# counting sort: time complexity O(n) / space complecity O(k+1)\n",
    "def count_sort(nums, k):\n",
    "    # create an array for recording the element occurence information from the original array \n",
    "    count = [0] * (k+1)\n",
    "    \n",
    "    # count element occurence\n",
    "    for num in nums:\n",
    "        count[num] += 1\n",
    "    \n",
    "    # call enumerate function to create a hashmap, and refrom the original array\n",
    "    index = 0\n",
    "    for num, count_number in enumerate(count):\n",
    "        for i in range(count_number):\n",
    "            if count_number != 0:\n",
    "                nums[index] = num\n",
    "                count_number -= 1\n",
    "                index += 1\n",
    "    \n",
    "    return nums    "
   ]
  },
  {
   "cell_type": "code",
   "execution_count": 34,
   "metadata": {},
   "outputs": [
    {
     "data": {
      "text/plain": [
       "[1, 1, 2, 2, 2, 3, 3, 4, 4, 5, 6, 7]"
      ]
     },
     "execution_count": 34,
     "metadata": {},
     "output_type": "execute_result"
    }
   ],
   "source": [
    "count_sort([3,2,2,3,6,7,1,2,4,5,1,4], 7)"
   ]
  },
  {
   "cell_type": "code",
   "execution_count": null,
   "metadata": {},
   "outputs": [],
   "source": [
    "# note: the main idea of counting sort is that we use extra memory space to create an array to record element occurence in \n",
    "# original array. Then, we use this enumerate function to create a hashmap, Then, we use this information to refrom the \n",
    "# original array"
   ]
  },
  {
   "cell_type": "markdown",
   "metadata": {},
   "source": [
    "# ANSWER TWO - using divide and conquer method"
   ]
  },
  {
   "cell_type": "code",
   "execution_count": 36,
   "metadata": {},
   "outputs": [],
   "source": [
    "def helper(nums, color_from, color_to, index_from, index_to):\n",
    "    if color_from == color_to or index_from == index_to:\n",
    "        return \n",
    "    \n",
    "    left, right = index_from, index_to\n",
    "    mid = (color_from + color_to) // 2\n",
    "    \n",
    "    while left <= right:\n",
    "        while left <= right and nums[left] <= mid:\n",
    "            left += 1\n",
    "        while left <= right and nums[right] > mid:\n",
    "            right -= 1\n",
    "        if left <= right:\n",
    "            nums[left], nums[right] = nums[right], nums[left]\n",
    "    \n",
    "    helper(nums, color_from, mid, index_from, right)\n",
    "    helper(nums, mid+1, color_to, left, index_to)\n",
    "    \n",
    "    return nums\n",
    "            \n",
    "        \n",
    "def sort(nums, k):\n",
    "    helper(nums, 0, k, 0, len(nums)-1)\n",
    "    return nums"
   ]
  },
  {
   "cell_type": "code",
   "execution_count": 37,
   "metadata": {},
   "outputs": [
    {
     "data": {
      "text/plain": [
       "[1, 1, 2, 2, 2, 3, 3, 4, 4, 5, 6, 7]"
      ]
     },
     "execution_count": 37,
     "metadata": {},
     "output_type": "execute_result"
    }
   ],
   "source": [
    "sort([3,2,2,3,6,7,1,2,4,5,1,4], 7)"
   ]
  },
  {
   "cell_type": "code",
   "execution_count": 38,
   "metadata": {},
   "outputs": [],
   "source": [
    "# note: the main idea of this method is that we choose a member from the color members, then, partition the original array\n",
    "# into two part based on this color member. Next, do the same process on the left partition part and right partition part"
   ]
  },
  {
   "cell_type": "code",
   "execution_count": null,
   "metadata": {},
   "outputs": [],
   "source": []
  }
 ],
 "metadata": {
  "kernelspec": {
   "display_name": "Python 3",
   "language": "python",
   "name": "python3"
  },
  "language_info": {
   "codemirror_mode": {
    "name": "ipython",
    "version": 3
   },
   "file_extension": ".py",
   "mimetype": "text/x-python",
   "name": "python",
   "nbconvert_exporter": "python",
   "pygments_lexer": "ipython3",
   "version": "3.7.0"
  }
 },
 "nbformat": 4,
 "nbformat_minor": 2
}
