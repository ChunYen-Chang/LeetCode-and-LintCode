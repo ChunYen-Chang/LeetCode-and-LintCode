{
 "cells": [
  {
   "cell_type": "code",
   "execution_count": 1,
   "metadata": {},
   "outputs": [],
   "source": [
    "class Solution:\n",
    "    \"\"\"\n",
    "    @param x {float}: the base number\n",
    "    @param n {int}: the power number\n",
    "    @return {float}: the result\n",
    "    \"\"\"\n",
    "    def myPow(self, x, n):\n",
    "        if n < 0 :\n",
    "            x = 1 / x  \n",
    "            n = -n\n",
    "        \n",
    "        ans = 1\n",
    "        tmp = x\n",
    "        \n",
    "        while n != 0:\n",
    "            if n % 2 == 1:\n",
    "                ans *= tmp\n",
    "            tmp *= tmp\n",
    "            n = n // 2\n",
    "        \n",
    "        return ans"
   ]
  },
  {
   "cell_type": "code",
   "execution_count": null,
   "metadata": {},
   "outputs": [],
   "source": []
  }
 ],
 "metadata": {
  "kernelspec": {
   "display_name": "Python 3",
   "language": "python",
   "name": "python3"
  },
  "language_info": {
   "codemirror_mode": {
    "name": "ipython",
    "version": 3
   },
   "file_extension": ".py",
   "mimetype": "text/x-python",
   "name": "python",
   "nbconvert_exporter": "python",
   "pygments_lexer": "ipython3",
   "version": "3.7.0"
  }
 },
 "nbformat": 4,
 "nbformat_minor": 2
}
