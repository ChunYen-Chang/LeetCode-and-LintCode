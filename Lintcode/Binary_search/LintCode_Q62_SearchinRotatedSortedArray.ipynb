{
 "cells": [
  {
   "cell_type": "code",
   "execution_count": 12,
   "metadata": {},
   "outputs": [],
   "source": [
    "class Solution:\n",
    "    \"\"\"\n",
    "    @param A: an integer rotated sorted array\n",
    "    @param target: an integer to be searched\n",
    "    @return: an integer\n",
    "    \"\"\"\n",
    "    def find_min(self, A):\n",
    "        start = 0\n",
    "        end = len(A)-1\n",
    "        indicator = A[-1]\n",
    "        \n",
    "        while start+1 < end:\n",
    "            mid = (start+end) // 2\n",
    "            if A[mid] < indicator:\n",
    "                end = mid\n",
    "            elif A[mid] > indicator:\n",
    "                start = mid\n",
    "                \n",
    "        if A[start] < A[end]:\n",
    "            return start\n",
    "        elif A[end] < A[start]:\n",
    "            return end\n",
    "    \n",
    "    \n",
    "    def search(self, A, target):\n",
    "        if A == []:\n",
    "            return -1\n",
    "        \n",
    "        min_point = self.find_min(A)\n",
    "        print(min_point)\n",
    "        \n",
    "        if A[min_point] <= target <= A[-1]:\n",
    "            start = min_point\n",
    "            end = len(A)-1\n",
    "        elif A[0] <= target <= A[min_point]:\n",
    "            start = 0\n",
    "            end = min_point\n",
    "            \n",
    "        while start+1 < end:\n",
    "            mid = (start+end) // 2\n",
    "            if A[mid] < target:\n",
    "                start = mid\n",
    "            elif A[mid] > target:\n",
    "                end = mid\n",
    "                \n",
    "        if A[start] == target:\n",
    "            return start\n",
    "        if A[end] == target:\n",
    "            return end\n",
    "        return -1\n",
    "       \n"
   ]
  },
  {
   "cell_type": "code",
   "execution_count": null,
   "metadata": {},
   "outputs": [],
   "source": []
  }
 ],
 "metadata": {
  "kernelspec": {
   "display_name": "Python 3",
   "language": "python",
   "name": "python3"
  },
  "language_info": {
   "codemirror_mode": {
    "name": "ipython",
    "version": 3
   },
   "file_extension": ".py",
   "mimetype": "text/x-python",
   "name": "python",
   "nbconvert_exporter": "python",
   "pygments_lexer": "ipython3",
   "version": "3.7.0"
  }
 },
 "nbformat": 4,
 "nbformat_minor": 2
}
