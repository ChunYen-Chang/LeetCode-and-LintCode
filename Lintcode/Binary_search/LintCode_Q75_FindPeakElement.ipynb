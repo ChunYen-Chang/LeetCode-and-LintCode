{
 "cells": [
  {
   "cell_type": "code",
   "execution_count": 1,
   "metadata": {},
   "outputs": [],
   "source": [
    "class Solution:\n",
    "    \"\"\"\n",
    "    @param A: An integers array.\n",
    "    @return: return any of peek positions.\n",
    "    \"\"\"\n",
    "    def findPeak(self, A):\n",
    "        start = 0\n",
    "        end = len(A)-1\n",
    "        \n",
    "        while start+1 < end:\n",
    "            mid = (start+end) // 2\n",
    "            if A[mid] < A[mid+1]:\n",
    "                start = mid\n",
    "            elif A[mid] > A[mid+1]:\n",
    "                end = mid\n",
    "                \n",
    "        if A[start] > A[end]:\n",
    "            return start\n",
    "        if A[end] > A[start]:\n",
    "            return end"
   ]
  },
  {
   "cell_type": "code",
   "execution_count": null,
   "metadata": {},
   "outputs": [],
   "source": []
  }
 ],
 "metadata": {
  "kernelspec": {
   "display_name": "Python 3",
   "language": "python",
   "name": "python3"
  },
  "language_info": {
   "codemirror_mode": {
    "name": "ipython",
    "version": 3
   },
   "file_extension": ".py",
   "mimetype": "text/x-python",
   "name": "python",
   "nbconvert_exporter": "python",
   "pygments_lexer": "ipython3",
   "version": "3.7.0"
  }
 },
 "nbformat": 4,
 "nbformat_minor": 2
}
