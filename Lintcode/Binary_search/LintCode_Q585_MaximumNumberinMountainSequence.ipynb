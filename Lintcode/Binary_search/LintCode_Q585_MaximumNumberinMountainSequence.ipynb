{
 "cells": [
  {
   "cell_type": "code",
   "execution_count": 46,
   "metadata": {},
   "outputs": [],
   "source": [
    "class Solution:\n",
    "    \"\"\"\n",
    "    @param nums: a mountain sequence which increase firstly and then decrease\n",
    "    @return: then mountain top\n",
    "    \"\"\"\n",
    "    def mountainSequence(self, nums):\n",
    "        if nums == []:\n",
    "            return -1\n",
    "        \n",
    "        start = 0\n",
    "        end = len(nums)-1\n",
    "        \n",
    "        while start+1 < end:\n",
    "            mid = (start+end) // 2\n",
    "            if nums[mid] < nums[mid+1]:\n",
    "                start = mid\n",
    "            elif nums[mid] > nums[mid+1]:\n",
    "                end = mid\n",
    "            \n",
    "        return max(nums[start], nums[end])"
   ]
  },
  {
   "cell_type": "code",
   "execution_count": null,
   "metadata": {},
   "outputs": [],
   "source": []
  }
 ],
 "metadata": {
  "kernelspec": {
   "display_name": "Python 3",
   "language": "python",
   "name": "python3"
  },
  "language_info": {
   "codemirror_mode": {
    "name": "ipython",
    "version": 3
   },
   "file_extension": ".py",
   "mimetype": "text/x-python",
   "name": "python",
   "nbconvert_exporter": "python",
   "pygments_lexer": "ipython3",
   "version": "3.7.0"
  }
 },
 "nbformat": 4,
 "nbformat_minor": 2
}
