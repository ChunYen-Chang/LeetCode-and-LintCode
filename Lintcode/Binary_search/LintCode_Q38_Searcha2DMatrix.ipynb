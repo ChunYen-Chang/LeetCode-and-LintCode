{
 "cells": [
  {
   "cell_type": "code",
   "execution_count": 7,
   "metadata": {},
   "outputs": [],
   "source": [
    "class Solution:\n",
    "    \"\"\"\n",
    "    @param matrix: A list of lists of integers\n",
    "    @param target: An integer you want to search in matrix\n",
    "    @return: An integer indicate the total occurrence of target in the given matrix\n",
    "    \"\"\"\n",
    "    def searchMatrix(self, matrix, target):\n",
    "        row_length = len(matrix)\n",
    "        column_length = len(matrix[0])\n",
    "        \n",
    "        row_cur = row_length-1\n",
    "        column_cur = 0\n",
    "        count = 0\n",
    "        \n",
    "        while row_cur >= 0 and column_cur < column_length:\n",
    "            if matrix[row_cur][column_cur] > target:\n",
    "                row_cur -= 1\n",
    "            elif matrix[row_cur][column_cur] < target:\n",
    "                column_cur += 1\n",
    "            elif matrix[row_cur][column_cur] == target:\n",
    "                row_cur -= 1\n",
    "                column_cur += 1\n",
    "                count += 1\n",
    "        return count"
   ]
  },
  {
   "cell_type": "code",
   "execution_count": 8,
   "metadata": {},
   "outputs": [],
   "source": [
    "# note: when we try to solve this question, there are three different ways. The first one is using two for loops. The second one\n",
    "# is using BFS. However, these two methods have bigger time complexity(O(n^2)). The third way is we try to walk in this matrix. \n",
    "#The third way hase O(n+n) time complexity. Another thing we have to mention is that we have to start the matrix traversal from \n",
    "# the left-bottom or right-up cornor!"
   ]
  },
  {
   "cell_type": "code",
   "execution_count": null,
   "metadata": {},
   "outputs": [],
   "source": []
  }
 ],
 "metadata": {
  "kernelspec": {
   "display_name": "Python 3",
   "language": "python",
   "name": "python3"
  },
  "language_info": {
   "codemirror_mode": {
    "name": "ipython",
    "version": 3
   },
   "file_extension": ".py",
   "mimetype": "text/x-python",
   "name": "python",
   "nbconvert_exporter": "python",
   "pygments_lexer": "ipython3",
   "version": "3.7.0"
  }
 },
 "nbformat": 4,
 "nbformat_minor": 2
}
