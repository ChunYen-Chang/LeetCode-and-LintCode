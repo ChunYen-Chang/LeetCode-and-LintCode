{
 "cells": [
  {
   "cell_type": "markdown",
   "metadata": {},
   "source": [
    "# ANSWER ONE - using binary search"
   ]
  },
  {
   "cell_type": "code",
   "execution_count": null,
   "metadata": {},
   "outputs": [],
   "source": [
    "class Solution:\n",
    "    \"\"\"\n",
    "    @param nums: An integer array\n",
    "    @return: nothing\n",
    "    \"\"\"\n",
    "    def find_min(self, nums):\n",
    "        compared_point = nums[-1]\n",
    "        start = 0\n",
    "        end = len(nums) - 1\n",
    "    \n",
    "        while start + 1 < end:\n",
    "            mid = (start + end) // 2\n",
    "            if nums[mid] > compared_point:\n",
    "                start = mid\n",
    "            elif nums[mid] <= compared_point:\n",
    "                end = mid\n",
    "    \n",
    "        if nums[start] < nums[end]:\n",
    "            return start\n",
    "        elif nums[start] > nums[end]:\n",
    "            return end       \n",
    "    \n",
    "    \n",
    "    def reverse(self, nums, left, right):\n",
    "        while left <= right :\n",
    "            nums[left], nums[right] = nums[right], nums[left]\n",
    "            left += 1\n",
    "            right -= 1\n",
    "    \n",
    "    \n",
    "    def recoverRotatedSortedArray(self, nums):\n",
    "        min_val_index = self.find_min(nums)      \n",
    "        self.reverse(nums, 0, min_val_index - 1)\n",
    "        self.reverse(nums, min_val_index, len(nums) - 1)\n",
    "        self.reverse(nums, 0, len(nums) - 1)        \n",
    "        return nums\n",
    "        \n"
   ]
  },
  {
   "cell_type": "code",
   "execution_count": 2,
   "metadata": {},
   "outputs": [],
   "source": [
    "# note: this method can handle the simple case. However, it cannot deal with some extreme case, for example \n",
    "# \"input = [1, 1, 1, 1, 1, 1, 1, 1, 1, -1, 1, 1, 1, 1, 1, 1, 1, 1, 1, 1, 1]\""
   ]
  },
  {
   "cell_type": "markdown",
   "metadata": {},
   "source": [
    "# ANSWER TWO - using for loop"
   ]
  },
  {
   "cell_type": "code",
   "execution_count": null,
   "metadata": {},
   "outputs": [],
   "source": [
    "class Solution:\n",
    "    \"\"\"\n",
    "    @param nums: An integer array\n",
    "    @return: nothing\n",
    "    \"\"\"\n",
    "    def find_min(self, nums):\n",
    "        for index in range(1, len(nums)):\n",
    "            if nums[index] < nums[index - 1]:\n",
    "                return index\n",
    "        return 0\n",
    "\n",
    "    \n",
    "    def reverse(self, nums, left, right):\n",
    "        while left <= right :\n",
    "            nums[left], nums[right] = nums[right], nums[left]\n",
    "            left += 1\n",
    "            right -= 1\n",
    "    \n",
    "    \n",
    "    def recoverRotatedSortedArray(self, nums):\n",
    "        min_val_index = self.find_min(nums)      \n",
    "        self.reverse(nums, 0, min_val_index - 1)\n",
    "        self.reverse(nums, min_val_index, len(nums) - 1)\n",
    "        self.reverse(nums, 0, len(nums) - 1)        \n",
    "        return nums\n",
    "        \n"
   ]
  }
 ],
 "metadata": {
  "kernelspec": {
   "display_name": "Python 3",
   "language": "python",
   "name": "python3"
  },
  "language_info": {
   "codemirror_mode": {
    "name": "ipython",
    "version": 3
   },
   "file_extension": ".py",
   "mimetype": "text/x-python",
   "name": "python",
   "nbconvert_exporter": "python",
   "pygments_lexer": "ipython3",
   "version": "3.7.0"
  }
 },
 "nbformat": 4,
 "nbformat_minor": 2
}
