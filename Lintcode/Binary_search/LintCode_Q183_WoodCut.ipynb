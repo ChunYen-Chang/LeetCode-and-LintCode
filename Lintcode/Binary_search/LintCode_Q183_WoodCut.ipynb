{
 "cells": [
  {
   "cell_type": "code",
   "execution_count": 1,
   "metadata": {},
   "outputs": [],
   "source": [
    "class Solution:\n",
    "    \"\"\"\n",
    "    @param L: Given n pieces of wood with length L[i]\n",
    "    @param k: An integer\n",
    "    @return: The maximum length of the small pieces\n",
    "    \"\"\"\n",
    "    def woodCut(self, L, k):\n",
    "        if L == []:\n",
    "            return 0\n",
    "        \n",
    "        final_result = []\n",
    "        range_max = min(L)\n",
    "    \n",
    "        for cutting_length in range(1,range_max+1):\n",
    "            wood_part_sum = 0\n",
    "            for each_wood in L:\n",
    "                parts = each_wood // cutting_length\n",
    "                wood_part_sum += parts\n",
    "            if wood_part_sum == k:\n",
    "                final_result.append(cutting_length)\n",
    "            \n",
    "        if not final_result:\n",
    "            return 0\n",
    "        else:\n",
    "             return max(final_result) "
   ]
  },
  {
   "cell_type": "code",
   "execution_count": 2,
   "metadata": {},
   "outputs": [],
   "source": [
    "# note: This is answer one. However, the time complexity for this method is O(n^2). We have to find another way to solve this"
   ]
  },
  {
   "cell_type": "code",
   "execution_count": 5,
   "metadata": {},
   "outputs": [],
   "source": [
    "class Solution:\n",
    "    \"\"\"\n",
    "    @param L: Given n pieces of wood with length L[i]\n",
    "    @param k: An integer\n",
    "    @return: The maximum length of the small pieces\n",
    "    \"\"\"\n",
    "\n",
    "    def get_wood_parts_sum(self, L, cutting_length):\n",
    "        wood_part_sum = 0 \n",
    "    \n",
    "        for each_wood in L:\n",
    "            parts = each_wood // cutting_length\n",
    "            wood_part_sum += parts\n",
    "        \n",
    "        return wood_part_sum\n",
    "\n",
    "\n",
    "    def woodCut(self, L, k):\n",
    "        if L == []:\n",
    "            return 0\n",
    "    \n",
    "        start = 1\n",
    "        end = max(L)\n",
    "    \n",
    "        while start+1 < end:\n",
    "            mid = (start+end) // 2\n",
    "            wood_parts = self.get_wood_parts_sum(L, mid)\n",
    "        \n",
    "            if wood_parts >= k:\n",
    "                start = mid\n",
    "            elif wood_parts < k:\n",
    "                end = mid\n",
    "    \n",
    "        if self.get_wood_parts_sum(L, start) >= k:\n",
    "            return start\n",
    "    \n",
    "        if self.get_wood_parts_sum(L, end) >= k:\n",
    "            return end\n",
    "    \n",
    "        return 0"
   ]
  },
  {
   "cell_type": "code",
   "execution_count": 4,
   "metadata": {},
   "outputs": [],
   "source": [
    "# note: This is answer two. By applying the binary search method, we successfully reduce the time complexity from O(n^2) to\n",
    "# O(n*logn)"
   ]
  },
  {
   "cell_type": "code",
   "execution_count": null,
   "metadata": {},
   "outputs": [],
   "source": []
  }
 ],
 "metadata": {
  "kernelspec": {
   "display_name": "Python 3",
   "language": "python",
   "name": "python3"
  },
  "language_info": {
   "codemirror_mode": {
    "name": "ipython",
    "version": 3
   },
   "file_extension": ".py",
   "mimetype": "text/x-python",
   "name": "python",
   "nbconvert_exporter": "python",
   "pygments_lexer": "ipython3",
   "version": "3.7.0"
  }
 },
 "nbformat": 4,
 "nbformat_minor": 2
}
