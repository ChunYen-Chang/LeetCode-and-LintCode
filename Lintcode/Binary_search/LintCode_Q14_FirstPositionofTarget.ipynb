{
 "cells": [
  {
   "cell_type": "code",
   "execution_count": 1,
   "metadata": {},
   "outputs": [],
   "source": [
    "class Solution:\n",
    "    \"\"\"\n",
    "    @param nums: The integer array.\n",
    "    @param target: Target to find.\n",
    "    @return: The first position of target. Position starts from 0.\n",
    "    \"\"\"\n",
    "    def binarySearch(self, nums, target):\n",
    "        if nums == []:\n",
    "            return -1\n",
    "        \n",
    "        start = 0\n",
    "        end = len(nums) - 1\n",
    "        \n",
    "        while start+1 < end:\n",
    "            mid = (start + end) // 2\n",
    "            \n",
    "            if nums[mid] > target:\n",
    "                end = mid\n",
    "            elif nums[mid] < target:\n",
    "                start = mid\n",
    "            else:\n",
    "                end = mid\n",
    "                \n",
    "        if nums[start] == target:\n",
    "            return start\n",
    "        elif nums[end] == target:\n",
    "            return end\n",
    "        else:\n",
    "            return -1"
   ]
  },
  {
   "cell_type": "code",
   "execution_count": 2,
   "metadata": {},
   "outputs": [],
   "source": [
    "# note: please ne aware this question is different than Q457. In Q457, it asks us to return a element without \n",
    "# considering whether it is the first or the last element. However, for this question, we want to find the\n",
    "# first duplicated element. To achieve this, we have to make a little modification. As below\n",
    "# 1. if nums[mid] = target -> start = mid\n",
    "# 2. put \"if nums[start] == target\" before \"elif nums[end] == target\""
   ]
  },
  {
   "cell_type": "code",
   "execution_count": null,
   "metadata": {},
   "outputs": [],
   "source": []
  }
 ],
 "metadata": {
  "kernelspec": {
   "display_name": "Python 3",
   "language": "python",
   "name": "python3"
  },
  "language_info": {
   "codemirror_mode": {
    "name": "ipython",
    "version": 3
   },
   "file_extension": ".py",
   "mimetype": "text/x-python",
   "name": "python",
   "nbconvert_exporter": "python",
   "pygments_lexer": "ipython3",
   "version": "3.7.0"
  }
 },
 "nbformat": 4,
 "nbformat_minor": 2
}
