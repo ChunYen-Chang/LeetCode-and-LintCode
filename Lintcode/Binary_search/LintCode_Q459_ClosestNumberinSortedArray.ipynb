{
 "cells": [
  {
   "cell_type": "code",
   "execution_count": null,
   "metadata": {},
   "outputs": [],
   "source": [
    "class Solution:\n",
    "    \"\"\"\n",
    "    @param A: an integer array sorted in ascending order\n",
    "    @param target: An integer\n",
    "    @return: an integer\n",
    "    \"\"\"\n",
    "    def closestNumber(self, A, target):\n",
    "        start = 0\n",
    "        end = len(A) - 1\n",
    "        \n",
    "        while start + 1 < end:\n",
    "            mid = (start + end) // 2\n",
    "            if A[mid] < target:\n",
    "                start = mid\n",
    "            elif A[mid] >= target:\n",
    "                end = mid\n",
    "                \n",
    "        if A[start] == target:\n",
    "            return start\n",
    "        elif A[end] == target:\n",
    "            return end\n",
    "            \n",
    "        if abs(A[start] - target) < abs(A[end] - target):\n",
    "            return start\n",
    "        elif abs(A[start] - target) >= abs(A[end] - target):\n",
    "            return end\n",
    "        "
   ]
  }
 ],
 "metadata": {
  "kernelspec": {
   "display_name": "Python 3",
   "language": "python",
   "name": "python3"
  },
  "language_info": {
   "codemirror_mode": {
    "name": "ipython",
    "version": 3
   },
   "file_extension": ".py",
   "mimetype": "text/x-python",
   "name": "python",
   "nbconvert_exporter": "python",
   "pygments_lexer": "ipython3",
   "version": "3.7.0"
  }
 },
 "nbformat": 4,
 "nbformat_minor": 2
}
