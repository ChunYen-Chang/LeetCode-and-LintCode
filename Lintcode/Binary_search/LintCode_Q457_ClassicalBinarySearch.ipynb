{
 "cells": [
  {
   "cell_type": "code",
   "execution_count": 1,
   "metadata": {},
   "outputs": [],
   "source": [
    "class Solution:\n",
    "    \"\"\"\n",
    "    @param nums: An integer array sorted in ascending order\n",
    "    @param target: An integer\n",
    "    @return: An integer\n",
    "    \"\"\"\n",
    "    def findPosition(self, nums, target):\n",
    "        if nums == []:\n",
    "            return -1\n",
    "        \n",
    "        start = 0\n",
    "        end = len(nums) - 1\n",
    "        \n",
    "        while start+1 < end:\n",
    "            mid = (start + end) // 2\n",
    "            \n",
    "            if nums[mid] > target:\n",
    "                end = mid\n",
    "            elif nums[mid] < target:\n",
    "                start = mid\n",
    "            else:\n",
    "                start = mid\n",
    "                \n",
    "        if nums[start] == target:\n",
    "            return start\n",
    "        elif nums[end] == target:\n",
    "            return end\n",
    "        else:\n",
    "            return -1"
   ]
  },
  {
   "cell_type": "code",
   "execution_count": null,
   "metadata": {},
   "outputs": [],
   "source": [
    "[3,4,5,8,8,8,8,10,13,14]"
   ]
  }
 ],
 "metadata": {
  "kernelspec": {
   "display_name": "Python 3",
   "language": "python",
   "name": "python3"
  },
  "language_info": {
   "codemirror_mode": {
    "name": "ipython",
    "version": 3
   },
   "file_extension": ".py",
   "mimetype": "text/x-python",
   "name": "python",
   "nbconvert_exporter": "python",
   "pygments_lexer": "ipython3",
   "version": "3.7.0"
  }
 },
 "nbformat": 4,
 "nbformat_minor": 2
}
