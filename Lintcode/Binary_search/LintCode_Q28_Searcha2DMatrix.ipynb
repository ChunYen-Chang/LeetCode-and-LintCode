{
 "cells": [
  {
   "cell_type": "code",
   "execution_count": 1,
   "metadata": {},
   "outputs": [],
   "source": [
    "class Solution:\n",
    "    \"\"\"\n",
    "    @param matrix: matrix, a list of lists of integers\n",
    "    @param target: An integer\n",
    "    @return: a boolean, indicate whether matrix contains target\n",
    "    \"\"\"\n",
    "    def searchMatrix(self, matrix, target):\n",
    "        if len(matrix) == 0:\n",
    "            return False\n",
    "        \n",
    "        row_length = len(matrix)\n",
    "        column_length = len(matrix[0])\n",
    "        \n",
    "        start = 0\n",
    "        end = (row_length*column_length)-1\n",
    "        \n",
    "        while start+1 < end:\n",
    "            mid = (start+end) // 2\n",
    "            row = mid // column_length\n",
    "            column = mid % column_length\n",
    "            \n",
    "            if matrix[row][column] > target:\n",
    "                end = mid\n",
    "            elif matrix[row][column] <= target:\n",
    "                start = mid\n",
    "        \n",
    "        if matrix[start // column_length][start % column_length] == target:\n",
    "            return True\n",
    "        if matrix[end // column_length][end % column_length] == target:\n",
    "            return True\n",
    "        return False"
   ]
  },
  {
   "cell_type": "code",
   "execution_count": 2,
   "metadata": {},
   "outputs": [],
   "source": [
    "# note: This is an interesting question. The key point for this question is how we can make a matrix into a \"fiction list\"\n",
    "# The way to achieve this is by applying \"position // column_length\" and \"position % column_length\"."
   ]
  },
  {
   "cell_type": "code",
   "execution_count": null,
   "metadata": {},
   "outputs": [],
   "source": []
  }
 ],
 "metadata": {
  "kernelspec": {
   "display_name": "Python 3",
   "language": "python",
   "name": "python3"
  },
  "language_info": {
   "codemirror_mode": {
    "name": "ipython",
    "version": 3
   },
   "file_extension": ".py",
   "mimetype": "text/x-python",
   "name": "python",
   "nbconvert_exporter": "python",
   "pygments_lexer": "ipython3",
   "version": "3.7.0"
  }
 },
 "nbformat": 4,
 "nbformat_minor": 2
}
