{
 "cells": [
  {
   "cell_type": "code",
   "execution_count": 1,
   "metadata": {},
   "outputs": [],
   "source": [
    "class Solution:\n",
    "    \"\"\"\n",
    "    @param nums: a rotated sorted array\n",
    "    @return: the minimum number in the array\n",
    "    \"\"\"\n",
    "    def findMin(self, nums):\n",
    "        if nums == []:\n",
    "            return -1\n",
    "        \n",
    "        indicator = nums[-1]\n",
    "        start = 0\n",
    "        end = len(nums)-1\n",
    "        \n",
    "        while start+1 < end:\n",
    "            mid = (start+end) // 2\n",
    "            if nums[mid] > indicator:\n",
    "                start = mid\n",
    "            elif nums[mid] < indicator:\n",
    "                end = mid\n",
    "        \n",
    "        return min(nums[start], nums[end])"
   ]
  },
  {
   "cell_type": "code",
   "execution_count": null,
   "metadata": {},
   "outputs": [],
   "source": [
    "# note: please check this question carefully. According to the question, the arrat is rotated at some points \n",
    "# we do not know. Based on this, we can find that the last element in this array can be the indicator.\n",
    "# if we find the mid is higher than the indicator, then we move the start pointer to mid pointer position\n",
    "# if we find the mid is lower than the indicator, then we move the end pointer to mid pointer position"
   ]
  }
 ],
 "metadata": {
  "kernelspec": {
   "display_name": "Python 3",
   "language": "python",
   "name": "python3"
  },
  "language_info": {
   "codemirror_mode": {
    "name": "ipython",
    "version": 3
   },
   "file_extension": ".py",
   "mimetype": "text/x-python",
   "name": "python",
   "nbconvert_exporter": "python",
   "pygments_lexer": "ipython3",
   "version": "3.7.0"
  }
 },
 "nbformat": 4,
 "nbformat_minor": 2
}
