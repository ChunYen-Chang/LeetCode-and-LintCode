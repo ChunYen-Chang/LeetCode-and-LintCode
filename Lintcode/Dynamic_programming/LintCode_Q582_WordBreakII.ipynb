{
 "cells": [
  {
   "cell_type": "markdown",
   "metadata": {},
   "source": [
    "# ANSWER ONE - dfs(back tracking)"
   ]
  },
  {
   "cell_type": "code",
   "execution_count": 32,
   "metadata": {},
   "outputs": [],
   "source": [
    "def wordBreak(s, wordDict):\n",
    "    # corner case detection\n",
    "    if (s == \"\") or (wordDict == [\"\"]):\n",
    "        return []\n",
    "        \n",
    "    # initialization\n",
    "    subset = []\n",
    "    result = []\n",
    "    dfs(s, wordDict, subset, result)\n",
    "    return result\n",
    "\n",
    "\n",
    "def dfs(string, wordDict, subset, result):\n",
    "    if len(string) == 0:\n",
    "        found_result = \" \".join(list(subset))\n",
    "        result.append(found_result)\n",
    "        return\n",
    "        \n",
    "    for i in range(len(string) + 1):\n",
    "        left_part = string[:i]\n",
    "        if left_part in wordDict:\n",
    "            subset.append(left_part)\n",
    "            right_part = string[i:]\n",
    "            dfs(right_part, wordDict, subset, result)\n",
    "            subset.pop()"
   ]
  },
  {
   "cell_type": "code",
   "execution_count": 33,
   "metadata": {},
   "outputs": [
    {
     "data": {
      "text/plain": [
       "['lint co de', 'lint code']"
      ]
     },
     "execution_count": 33,
     "metadata": {},
     "output_type": "execute_result"
    }
   ],
   "source": [
    "s = \"lintcode\"\n",
    "wordDict = [\"de\",\"ding\",\"co\",\"code\",\"lint\"]\n",
    "wordBreak(s, wordDict)"
   ]
  },
  {
   "cell_type": "markdown",
   "metadata": {},
   "source": [
    "# ANSWER TWO - dfs + cache"
   ]
  },
  {
   "cell_type": "code",
   "execution_count": 88,
   "metadata": {},
   "outputs": [],
   "source": [
    "# not the correct answer, will fix in the future\n",
    "def wordBreak(s, wordDict):\n",
    "    # corner case detection\n",
    "    if (s == \"\") or (wordDict == [\"\"]):\n",
    "        return []\n",
    "        \n",
    "    # initialization\n",
    "    cache = {}\n",
    "    return dfs(s, wordDict, cache)\n",
    "\n",
    "\n",
    "def dfs(string, wordDict, cache):\n",
    "    # when string is '', return []\n",
    "    if len(string) == 0:\n",
    "        return []\n",
    "    \n",
    "    # if this string is searched before, we don't have to do it again\n",
    "    if string in cache:\n",
    "        return cache[string]\n",
    "    \n",
    "    partitions = []    \n",
    "    for i in range(len(string) + 1):\n",
    "        left_part = string[:i]\n",
    "        if left_part in wordDict:\n",
    "            right_part = string[i:]\n",
    "            sub_partition = dfs(right_part, wordDict, cache)\n",
    "            for j in sub_partition:\n",
    "                partitions.append(left_part + \" \" +j)\n",
    "    \n",
    "    # for the last case\n",
    "    if string in wordDict:\n",
    "        partitions.append(string)\n",
    "    \n",
    "    # put result into the cache\n",
    "    cache[string] = partitions\n",
    "    return partitions\n"
   ]
  },
  {
   "cell_type": "code",
   "execution_count": 89,
   "metadata": {},
   "outputs": [
    {
     "data": {
      "text/plain": [
       "['li nt c od e']"
      ]
     },
     "execution_count": 89,
     "metadata": {},
     "output_type": "execute_result"
    }
   ],
   "source": [
    "s = \"lintcode\"\n",
    "wordDict = [\"li\", \"nt\", \"c\", \"od\", \"e\"]\n",
    "wordBreak(s, wordDict)"
   ]
  },
  {
   "cell_type": "code",
   "execution_count": null,
   "metadata": {},
   "outputs": [],
   "source": []
  }
 ],
 "metadata": {
  "kernelspec": {
   "display_name": "Python 3",
   "language": "python",
   "name": "python3"
  },
  "language_info": {
   "codemirror_mode": {
    "name": "ipython",
    "version": 3
   },
   "file_extension": ".py",
   "mimetype": "text/x-python",
   "name": "python",
   "nbconvert_exporter": "python",
   "pygments_lexer": "ipython3",
   "version": "3.7.0"
  }
 },
 "nbformat": 4,
 "nbformat_minor": 2
}
