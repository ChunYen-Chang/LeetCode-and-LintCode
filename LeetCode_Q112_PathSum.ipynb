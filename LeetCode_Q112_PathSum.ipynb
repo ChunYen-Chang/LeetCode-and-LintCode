{
 "cells": [
  {
   "cell_type": "markdown",
   "metadata": {},
   "source": [
    "# ANSWER - using two contaniers"
   ]
  },
  {
   "cell_type": "code",
   "execution_count": null,
   "metadata": {},
   "outputs": [],
   "source": [
    "# Definition for a binary tree node.\n",
    "# class TreeNode(object):\n",
    "#     def __init__(self, x):\n",
    "#         self.val = x\n",
    "#         self.left = None\n",
    "#         self.right = None\n",
    "\n",
    "class Solution(object):\n",
    "    def hasPathSum(self, root, target_sum):\n",
    "        \"\"\"\n",
    "        :type root: TreeNode\n",
    "        :type sum: int\n",
    "        :rtype: bool\n",
    "        \"\"\"\n",
    "                \n",
    "        def helper(root, target_sum, tmp_contanier, res_count):\n",
    "            \n",
    "            if root:\n",
    "                tmp_contanier.append(root.val)\n",
    "            \n",
    "                helper(root.left, target_sum, tmp_contanier, res_count)\n",
    "                helper(root.right, target_sum, tmp_contanier, res_count)\n",
    "            \n",
    "                if not root.left and not root.right:\n",
    "                    if sum(tmp_contanier) == target_sum:\n",
    "                        res_count.append(1)\n",
    "            \n",
    "                tmp_contanier.pop()\n",
    "        \n",
    "        tmp_contanier = []\n",
    "        res_count = []\n",
    "        helper(root, target_sum, tmp_contanier, res_count)\n",
    "        \n",
    "        if len(res_count) > 0:\n",
    "            return True\n",
    "        else:\n",
    "            return False"
   ]
  }
 ],
 "metadata": {
  "kernelspec": {
   "display_name": "Python 3",
   "language": "python",
   "name": "python3"
  },
  "language_info": {
   "codemirror_mode": {
    "name": "ipython",
    "version": 3
   },
   "file_extension": ".py",
   "mimetype": "text/x-python",
   "name": "python",
   "nbconvert_exporter": "python",
   "pygments_lexer": "ipython3",
   "version": "3.7.0"
  }
 },
 "nbformat": 4,
 "nbformat_minor": 2
}
