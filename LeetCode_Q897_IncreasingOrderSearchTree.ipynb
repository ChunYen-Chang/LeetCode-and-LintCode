{
 "cells": [
  {
   "cell_type": "code",
   "execution_count": 107,
   "metadata": {},
   "outputs": [],
   "source": [
    "class TreeNode(object):\n",
    "    def __init__(self, x):\n",
    "        self.val = x\n",
    "        self.left = None\n",
    "        self.right = None"
   ]
  },
  {
   "cell_type": "code",
   "execution_count": 108,
   "metadata": {},
   "outputs": [],
   "source": [
    "# make a tree\n",
    "node1 = TreeNode(5)\n",
    "node2 = TreeNode(3)\n",
    "node3 = TreeNode(6)\n",
    "node4 = TreeNode(2)\n",
    "node5 = TreeNode(4)\n",
    "node6 = TreeNode(8)\n",
    "node7 = TreeNode(1)\n",
    "node8 = TreeNode(7)\n",
    "node9 = TreeNode(9)\n",
    "\n",
    "node1.left = node2\n",
    "node1.right = node3\n",
    "node2.left = node4\n",
    "node2.right = node5\n",
    "node3.right = node6\n",
    "node4.left = node7\n",
    "node6.left = node8\n",
    "node6.right = node9\n"
   ]
  },
  {
   "cell_type": "code",
   "execution_count": 109,
   "metadata": {},
   "outputs": [],
   "source": [
    "# ----------Answer---------\n",
    "def increasingBST(root):\n",
    "    \"\"\"\n",
    "    :type root: TreeNode\n",
    "    :rtype: TreeNode\n",
    "     \"\"\"\n",
    "    # ----------pre-setting----------\n",
    "    # define the dfs function\n",
    "    def dfs(tree, temp):\n",
    "        if not tree:\n",
    "            pass\n",
    "        else:\n",
    "            temp.append(tree.val)\n",
    "            dfs(tree.left, temp)\n",
    "            dfs(tree.right, temp)\n",
    "        return temp\n",
    "\n",
    "    # ----------execute the pregram----------\n",
    "    # traversal the tree and get a list whicj is called temp\n",
    "    if not root:\n",
    "        return False\n",
    "    else:\n",
    "        temp = []\n",
    "        dfs(root, temp)\n",
    "        \n",
    "    # sort the temp list\n",
    "    temp.sort()\n",
    "    \n",
    "    # put list elements into a new tree\n",
    "    result_tree = TreeNode(temp[0])\n",
    "    node = result_tree\n",
    "    \n",
    "    for i in temp[1:]:\n",
    "        node.right = TreeNode(i)\n",
    "        node = result_tree.right\n",
    "        \n",
    "    return result_tree\n",
    "        \n",
    "        \n",
    "        \n"
   ]
  },
  {
   "cell_type": "code",
   "execution_count": 110,
   "metadata": {},
   "outputs": [],
   "source": [
    "# ----------Execute---------\n",
    "result = increasingBST(node1)"
   ]
  },
  {
   "cell_type": "code",
   "execution_count": null,
   "metadata": {},
   "outputs": [],
   "source": []
  }
 ],
 "metadata": {
  "kernelspec": {
   "display_name": "Python 3",
   "language": "python",
   "name": "python3"
  },
  "language_info": {
   "codemirror_mode": {
    "name": "ipython",
    "version": 3
   },
   "file_extension": ".py",
   "mimetype": "text/x-python",
   "name": "python",
   "nbconvert_exporter": "python",
   "pygments_lexer": "ipython3",
   "version": "3.7.0"
  }
 },
 "nbformat": 4,
 "nbformat_minor": 2
}
