{
 "cells": [
  {
   "cell_type": "markdown",
   "metadata": {},
   "source": [
    "# ANSWER ONE"
   ]
  },
  {
   "cell_type": "code",
   "execution_count": null,
   "metadata": {},
   "outputs": [],
   "source": [
    "# Definition for a binary tree node.\n",
    "# class TreeNode(object):\n",
    "#     def __init__(self, x):\n",
    "#         self.val = x\n",
    "#         self.left = None\n",
    "#         self.right = None\n",
    "\n",
    "class Solution(object):\n",
    "    def __init__(self):\n",
    "        self.longest_diameter = 0\n",
    "        \n",
    "            \n",
    "    def diameterOfBinaryTree(self, root):\n",
    "        \"\"\"\n",
    "        :type root: TreeNode\n",
    "        :rtype: int\n",
    "        \"\"\"\n",
    "        \n",
    "        def get_depth(root):\n",
    "            if not root:\n",
    "                return 0\n",
    "            elif root:\n",
    "                left = get_depth(root.left)\n",
    "                right = get_depth(root.right)\n",
    "    \n",
    "                return max(left, right) + 1\n",
    "    \n",
    "        def get_diameter(root):\n",
    "            if root:\n",
    "                return (get_depth(root.left)+get_depth(root.right))\n",
    "        \n",
    "        if not root:\n",
    "            return 0\n",
    "        \n",
    "        if root:  \n",
    "            result = max(self.longest_diameter, get_diameter(root))\n",
    "            self.diameterOfBinaryTree(root.left)\n",
    "            self.diameterOfBinaryTree(root.right)\n",
    "            \n",
    "            return result\n",
    "        \n",
    "        "
   ]
  }
 ],
 "metadata": {
  "kernelspec": {
   "display_name": "Python 3",
   "language": "python",
   "name": "python3"
  },
  "language_info": {
   "codemirror_mode": {
    "name": "ipython",
    "version": 3
   },
   "file_extension": ".py",
   "mimetype": "text/x-python",
   "name": "python",
   "nbconvert_exporter": "python",
   "pygments_lexer": "ipython3",
   "version": "3.7.0"
  }
 },
 "nbformat": 4,
 "nbformat_minor": 2
}
