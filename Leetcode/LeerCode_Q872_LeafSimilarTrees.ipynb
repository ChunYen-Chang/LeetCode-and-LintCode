{
 "cells": [
  {
   "cell_type": "code",
   "execution_count": 21,
   "metadata": {},
   "outputs": [],
   "source": [
    "# Definition for a binary tree node.\n",
    "class TreeNode(object):\n",
    "    def __init__(self, x):\n",
    "        self.val = x\n",
    "        self.left = None\n",
    "        self.right = None"
   ]
  },
  {
   "cell_type": "code",
   "execution_count": 22,
   "metadata": {},
   "outputs": [],
   "source": [
    "# make two trees\n",
    "# tree1\n",
    "node1 = TreeNode(3)\n",
    "node2 = TreeNode(5)\n",
    "node3 = TreeNode(1)\n",
    "node4 = TreeNode(6)\n",
    "node5 = TreeNode(2)\n",
    "node6 = TreeNode(9)\n",
    "node7 = TreeNode(8)\n",
    "node8 = TreeNode(7)\n",
    "node9 = TreeNode(4)\n",
    "\n",
    "node1.left = node2\n",
    "node1.right = node3\n",
    "node2.left = node4\n",
    "node2.right = node5\n",
    "node3.left = node6\n",
    "node3.right = node7\n",
    "node5.left = node8\n",
    "node5.right = node9\n",
    "\n",
    "# tree2\n",
    "node_1 = TreeNode(3)\n",
    "node_2 = TreeNode(5)\n",
    "node_3 = TreeNode(1)\n",
    "node_4 = TreeNode(6)\n",
    "node_5 = TreeNode(2)\n",
    "node_6 = TreeNode(9)\n",
    "node_7 = TreeNode(8)\n",
    "node_8 = TreeNode(7)\n",
    "node_9 = TreeNode(4)\n",
    "\n",
    "node_1.left = node_2\n",
    "node_1.right = node_3\n",
    "node_2.left = node_4\n",
    "node_2.right = node_5\n",
    "node_3.left = node_6\n",
    "node_3.right = node_7\n",
    "node_5.left = node_8\n",
    "node_5.right = node_9"
   ]
  },
  {
   "cell_type": "code",
   "execution_count": 23,
   "metadata": {},
   "outputs": [],
   "source": [
    "# ----------Answer---------\n",
    "def leafSimilar(root1, root2):\n",
    "    \"\"\"\n",
    "    :type root1: TreeNode\n",
    "    :type root2: TreeNode\n",
    "    :rtype: bool\n",
    "    \"\"\"\n",
    "    # ----------pre-setting----------\n",
    "    # define the dfs function\n",
    "    def dfs(root, result):\n",
    "        if not root:\n",
    "            pass\n",
    "        else:\n",
    "            if root.left == None and root.right == None:\n",
    "                result.append(root.val)\n",
    "            dfs(root.left, result)\n",
    "            dfs(root.right, result)\n",
    "            return result\n",
    "\n",
    "    # ----------execute the pregram----------\n",
    "    # traversal the tree and get a list whicj is called temp\n",
    "    if root1 == None and root2 == None:\n",
    "        return True\n",
    "    else:\n",
    "        root1_res = []\n",
    "        root2_res = []\n",
    "        dfs(root1, root1_res)\n",
    "        dfs(root2, root2_res)\n",
    "        \n",
    "    if root1_res == root2_res:\n",
    "        return True\n",
    "    else:\n",
    "        return False"
   ]
  },
  {
   "cell_type": "code",
   "execution_count": 24,
   "metadata": {},
   "outputs": [
    {
     "data": {
      "text/plain": [
       "True"
      ]
     },
     "execution_count": 24,
     "metadata": {},
     "output_type": "execute_result"
    }
   ],
   "source": [
    "# ----------Execute---------\n",
    "leafSimilar(node1, node_1)"
   ]
  },
  {
   "cell_type": "code",
   "execution_count": null,
   "metadata": {},
   "outputs": [],
   "source": []
  }
 ],
 "metadata": {
  "kernelspec": {
   "display_name": "Python 3",
   "language": "python",
   "name": "python3"
  },
  "language_info": {
   "codemirror_mode": {
    "name": "ipython",
    "version": 3
   },
   "file_extension": ".py",
   "mimetype": "text/x-python",
   "name": "python",
   "nbconvert_exporter": "python",
   "pygments_lexer": "ipython3",
   "version": "3.7.0"
  }
 },
 "nbformat": 4,
 "nbformat_minor": 2
}
