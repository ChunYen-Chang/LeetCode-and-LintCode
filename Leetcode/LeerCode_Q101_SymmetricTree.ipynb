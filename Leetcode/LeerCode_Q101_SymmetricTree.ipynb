{
 "cells": [
  {
   "cell_type": "code",
   "execution_count": 14,
   "metadata": {},
   "outputs": [],
   "source": [
    "# Definition for a binary tree node.\n",
    "class TreeNode(object):\n",
    "    def __init__(self, x):\n",
    "        self.val = x\n",
    "        self.left = None\n",
    "        self.right = None"
   ]
  },
  {
   "cell_type": "code",
   "execution_count": 15,
   "metadata": {},
   "outputs": [],
   "source": [
    "# make a tree\n",
    "node1 = TreeNode(1)\n",
    "node2 = TreeNode(2)\n",
    "node3 = TreeNode(2)\n",
    "node4 = TreeNode(3)\n",
    "node5 = TreeNode(4)\n",
    "node6 = TreeNode(4)\n",
    "node7 = TreeNode(3)\n",
    "\n",
    "node1.left = node2\n",
    "node1.right = node3\n",
    "node2.left = node4\n",
    "node2.right = node5\n",
    "node3.left = node6\n",
    "node3.right = node7"
   ]
  },
  {
   "cell_type": "markdown",
   "metadata": {},
   "source": [
    "# Answer version one - using DFS"
   ]
  },
  {
   "cell_type": "code",
   "execution_count": 57,
   "metadata": {},
   "outputs": [],
   "source": [
    "def isSymmetric(root):\n",
    "    \"\"\"\n",
    "    :type root: TreeNode\n",
    "    :rtype: bool\n",
    "    \"\"\"\n",
    "    # ----------pre-setting----------\n",
    "    # define the dfs function\n",
    "    def isSymmetricHelper(l, r):\n",
    "        if l == None and r == None:\n",
    "            return l == r\n",
    "        elif l.val != r.val:\n",
    "            return False\n",
    "        else:\n",
    "            return isSymmetricHelper(l.left, r.right)\n",
    "\n",
    "    # ----------execute the pregram----------\n",
    "    if not root:\n",
    "        return True\n",
    "    else:\n",
    "        return isSymmetricHelper(root.left, root.right) and isSymmetricHelper(root.right, root.left)\n",
    "    "
   ]
  },
  {
   "cell_type": "code",
   "execution_count": 58,
   "metadata": {},
   "outputs": [
    {
     "data": {
      "text/plain": [
       "True"
      ]
     },
     "execution_count": 58,
     "metadata": {},
     "output_type": "execute_result"
    }
   ],
   "source": [
    "isSymmetric(node1)"
   ]
  },
  {
   "cell_type": "markdown",
   "metadata": {},
   "source": [
    "# Answer version two - using DFS"
   ]
  },
  {
   "cell_type": "code",
   "execution_count": 127,
   "metadata": {},
   "outputs": [],
   "source": [
    "def isSymmetric(root):\n",
    "    \"\"\"\n",
    "    :type root: TreeNode\n",
    "    :rtype: bool\n",
    "    \"\"\"\n",
    "    # ----------pre-setting----------\n",
    "    # define the dfs function\n",
    "    def isSymmetricHelper(l, r):\n",
    "        if l == None and r == None:\n",
    "            return\n",
    "\n",
    "        else:\n",
    "            isSymmetricHelper(l.left, r.right)\n",
    "            isSymmetricHelper(l.right, r.left)\n",
    "            if l.val != r.val:\n",
    "                return False\n",
    "            else:\n",
    "                return True\n",
    "            \n",
    "    # ----------execute the pregram----------\n",
    "    if not root:\n",
    "        return True\n",
    "    else:\n",
    "        return isSymmetricHelper(root.left, root.right)\n",
    "    "
   ]
  },
  {
   "cell_type": "code",
   "execution_count": 128,
   "metadata": {},
   "outputs": [
    {
     "name": "stdout",
     "output_type": "stream",
     "text": [
      "3 3\n",
      "4 4\n",
      "2 2\n"
     ]
    },
    {
     "data": {
      "text/plain": [
       "True"
      ]
     },
     "execution_count": 128,
     "metadata": {},
     "output_type": "execute_result"
    }
   ],
   "source": [
    "isSymmetric(node1)"
   ]
  },
  {
   "cell_type": "markdown",
   "metadata": {},
   "source": [
    "# Answer version 3 - using BFS"
   ]
  },
  {
   "cell_type": "code",
   "execution_count": 117,
   "metadata": {},
   "outputs": [],
   "source": [
    "from collections import deque\n",
    "def isSymmetric(root):\n",
    "    \"\"\"\n",
    "    :type root: TreeNode\n",
    "    :rtype: bool\n",
    "    \"\"\"\n",
    "    # ----------pre-setting----------\n",
    "    # define the dfs function\n",
    "    def _check(left, right):\n",
    "        if (left == None and right == None):\n",
    "            return left == right\n",
    "        elif left.val == right.val:\n",
    "            return True\n",
    "        elif left.val != right.val:\n",
    "            return False\n",
    "    \n",
    "    # ----------execute the pregram---------- \n",
    "    if not root:\n",
    "        return True\n",
    "    \n",
    "    working_queue = deque([(root.left, root.right)])\n",
    "    while working_queue:\n",
    "        left_node, right_node = working_queue.popleft()\n",
    "        comparison_result = _check(left_node, right_node)\n",
    "        \n",
    "        if comparison_result == False:\n",
    "            return False\n",
    "        \n",
    "        if left_node and right_node:\n",
    "            working_queue.append([left_node.left, right_node.right])\n",
    "            working_queue.append([left_node.right, right_node.left])\n",
    "        \n",
    "    return True"
   ]
  },
  {
   "cell_type": "code",
   "execution_count": 118,
   "metadata": {},
   "outputs": [
    {
     "data": {
      "text/plain": [
       "True"
      ]
     },
     "execution_count": 118,
     "metadata": {},
     "output_type": "execute_result"
    }
   ],
   "source": [
    "isSymmetric(node1)"
   ]
  }
 ],
 "metadata": {
  "kernelspec": {
   "display_name": "Python 3",
   "language": "python",
   "name": "python3"
  },
  "language_info": {
   "codemirror_mode": {
    "name": "ipython",
    "version": 3
   },
   "file_extension": ".py",
   "mimetype": "text/x-python",
   "name": "python",
   "nbconvert_exporter": "python",
   "pygments_lexer": "ipython3",
   "version": "3.7.0"
  }
 },
 "nbformat": 4,
 "nbformat_minor": 2
}
