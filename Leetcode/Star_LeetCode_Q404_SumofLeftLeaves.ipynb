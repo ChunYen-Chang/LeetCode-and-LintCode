{
 "cells": [
  {
   "cell_type": "markdown",
   "metadata": {},
   "source": [
    "# ANSWER ONE - using a tmp list"
   ]
  },
  {
   "cell_type": "code",
   "execution_count": 1,
   "metadata": {},
   "outputs": [],
   "source": [
    "# class TreeNode(object):\n",
    "#     def __init__(self, x):\n",
    "#         self.val = x\n",
    "#         self.left = None\n",
    "#         self.right = None\n",
    "\n",
    "class Solution(object):\n",
    "    def sumOfLeftLeaves(self, root):\n",
    "        \"\"\"\n",
    "        :type root: TreeNode\n",
    "        :rtype: int\n",
    "        \"\"\"\n",
    "        \n",
    "        # define the helper function       \n",
    "        def helper(root, tmp):\n",
    "            if root:\n",
    "                \n",
    "                if root.left:\n",
    "                    if not root.left.left and not root.left.right:\n",
    "                        tmp.append(root.left.val)\n",
    "                    else:\n",
    "                        helper(root.left, tmp)\n",
    "                \n",
    "                if root.right:\n",
    "                    helper(root.right, tmp)\n",
    "            \n",
    "        # execute the main part\n",
    "        tmp = []\n",
    "        helper(root, tmp)\n",
    "        return sum(tmp)"
   ]
  },
  {
   "cell_type": "markdown",
   "metadata": {},
   "source": [
    "# ANSWER TWO - using self.ans variable"
   ]
  },
  {
   "cell_type": "code",
   "execution_count": null,
   "metadata": {},
   "outputs": [],
   "source": [
    "# class TreeNode(object):\n",
    "#     def __init__(self, x):\n",
    "#         self.val = x\n",
    "#         self.left = None\n",
    "#         self.right = None\n",
    "\n",
    "class Solution(object):\n",
    "    def __init__(self):\n",
    "        self.ans = 0\n",
    "    \n",
    "    def sumOfLeftLeaves(self, root):\n",
    "        \"\"\"\n",
    "        :type root: TreeNode\n",
    "        :rtype: int\n",
    "        \"\"\"\n",
    "        \n",
    "        # define the helper function       \n",
    "        def helper(root):\n",
    "            if root:\n",
    "                \n",
    "                if root.left:\n",
    "                    if not root.left.left and not root.left.right:\n",
    "                        self.ans += root.left.val\n",
    "                    else:\n",
    "                        helper(root.left)\n",
    "                \n",
    "                if root.right:\n",
    "                    helper(root.right)\n",
    "            \n",
    "        # execute the main part\n",
    "        helper(root)\n",
    "        return self.ans"
   ]
  },
  {
   "cell_type": "markdown",
   "metadata": {},
   "source": [
    "# ANSWER TWO - using self.ans variable"
   ]
  },
  {
   "cell_type": "code",
   "execution_count": null,
   "metadata": {},
   "outputs": [],
   "source": [
    "# class TreeNode(object):\n",
    "#     def __init__(self, x):\n",
    "#         self.val = x\n",
    "#         self.left = None\n",
    "#         self.right = None\n",
    "\n",
    "class Solution(object):\n",
    "    def __init__(self):\n",
    "        self.ans = 0\n",
    "    \n",
    "    def sumOfLeftLeaves(self, root):\n",
    "        \"\"\"\n",
    "        :type root: TreeNode\n",
    "        :rtype: int\n",
    "        \"\"\"\n",
    "        \n",
    "        # define the helper function       \n",
    "        def helper(root):\n",
    "            if root:\n",
    "                \n",
    "                if root.left:\n",
    "                    if not root.left.left and not root.left.right:\n",
    "                        self.ans += root.left.val\n",
    "                    else:\n",
    "                        helper(root.left)\n",
    "                \n",
    "                if root.right:\n",
    "                    helper(root.right)\n",
    "            \n",
    "        # execute the main part\n",
    "        helper(root)\n",
    "        return self.ans"
   ]
  }
 ],
 "metadata": {
  "kernelspec": {
   "display_name": "Python 3",
   "language": "python",
   "name": "python3"
  },
  "language_info": {
   "codemirror_mode": {
    "name": "ipython",
    "version": 3
   },
   "file_extension": ".py",
   "mimetype": "text/x-python",
   "name": "python",
   "nbconvert_exporter": "python",
   "pygments_lexer": "ipython3",
   "version": "3.7.0"
  }
 },
 "nbformat": 4,
 "nbformat_minor": 2
}
