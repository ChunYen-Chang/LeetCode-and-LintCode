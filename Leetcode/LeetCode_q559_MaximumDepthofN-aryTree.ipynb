{
 "cells": [
  {
   "cell_type": "code",
   "execution_count": 32,
   "metadata": {},
   "outputs": [],
   "source": [
    "# Definition Node class\n",
    "class Node():\n",
    "    def __init__(self, val=None, children=None):\n",
    "        self.val = val\n",
    "        self.children = children"
   ]
  },
  {
   "cell_type": "code",
   "execution_count": 33,
   "metadata": {},
   "outputs": [],
   "source": [
    "# ----------make a tree----------\n",
    "# create nodes\n",
    "node1 = Node(1, [])\n",
    "node2 = Node(3, [])\n",
    "node3 = Node(2)\n",
    "node4 = Node(4)\n",
    "node5 = Node(5)\n",
    "node6 = Node(6)\n",
    "\n",
    "# create a tree\n",
    "node1.children.append(node2)\n",
    "node1.children.append(node3)\n",
    "node1.children.append(node4)\n",
    "node2.children.append(node5)\n",
    "node2.children.append(node6)"
   ]
  },
  {
   "cell_type": "code",
   "execution_count": 49,
   "metadata": {},
   "outputs": [],
   "source": [
    "# ----------Answer---------\n",
    "def dfs(tree):\n",
    "    if not tree:\n",
    "        return 0\n",
    "    \n",
    "    if not tree.children:\n",
    "        return 1\n",
    "    \n",
    "    else:        \n",
    "        return max([dfs(each_child_node) for each_child_node in tree.children]) + 1"
   ]
  },
  {
   "cell_type": "code",
   "execution_count": 50,
   "metadata": {},
   "outputs": [
    {
     "data": {
      "text/plain": [
       "3"
      ]
     },
     "execution_count": 50,
     "metadata": {},
     "output_type": "execute_result"
    }
   ],
   "source": [
    "# ----------Execute---------\n",
    "dfs(node1)"
   ]
  }
 ],
 "metadata": {
  "kernelspec": {
   "display_name": "Python 3",
   "language": "python",
   "name": "python3"
  },
  "language_info": {
   "codemirror_mode": {
    "name": "ipython",
    "version": 3
   },
   "file_extension": ".py",
   "mimetype": "text/x-python",
   "name": "python",
   "nbconvert_exporter": "python",
   "pygments_lexer": "ipython3",
   "version": "3.7.0"
  }
 },
 "nbformat": 4,
 "nbformat_minor": 2
}
