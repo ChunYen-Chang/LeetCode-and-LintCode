{
 "cells": [
  {
   "cell_type": "markdown",
   "metadata": {},
   "source": [
    "# ANSWER"
   ]
  },
  {
   "cell_type": "code",
   "execution_count": null,
   "metadata": {},
   "outputs": [],
   "source": [
    "from collections import deque\n",
    "def orangesRotting(grid):\n",
    "    \"\"\"\n",
    "    :type grid: List[List[int]]\n",
    "    :rtype: int\n",
    "    \"\"\"\n",
    "\n",
    "    rotten_orange_xy = []\n",
    "    fresh_orange_num = 0\n",
    "\n",
    "    \n",
    "    for column_index in range(len(grid[0])):\n",
    "        for row_index in range(len(grid)):\n",
    "            if grid[column_index][row_index] == 2:\n",
    "                rotten_orange_xy.append([column_index, row_index])\n",
    "            if grid[column_index][row_index] == 1:\n",
    "                fresh_orange_num = fresh_orange_num+1\n",
    "                \n",
    "\n",
    "    queue = deque(rotten_orange_xy)\n",
    "    new_queue = deque()    \n",
    "    time = 0\n",
    "    \n",
    "    while queue:\n",
    "        rotten_orange_position = queue.popleft()\n",
    "\n",
    "        adjancent_postion = [[rotten_orange_position[0], rotten_orange_position[1]-1], \\\n",
    "                            [rotten_orange_position[0]+1, rotten_orange_position[1]], \\\n",
    "                            [rotten_orange_position[0], rotten_orange_position[1]+1], \\\n",
    "                            [rotten_orange_position[0]-1, rotten_orange_position[1]]]\n",
    "        \n",
    "        for i, j in adjancent_postion:\n",
    "            if 0 <= i < len(grid[0]) and 0 <= j < len(grid) and grid[i][j] == 1:\n",
    "                grid[i][j] = 2\n",
    "                new_queue.append([i,j])\n",
    "                fresh_orange_num = fresh_orange_num-1\n",
    "        \n",
    "        if len(queue) == 0 and len(new_queue) > 0:\n",
    "                time = time+1\n",
    "                queue = new_queue\n",
    "                new_queue = deque()\n",
    "            \n",
    "    return time if fresh_orange_num == 0 else -1             \n"
   ]
  },
  {
   "cell_type": "code",
   "execution_count": 68,
   "metadata": {},
   "outputs": [
    {
     "data": {
      "text/plain": [
       "4"
      ]
     },
     "execution_count": 68,
     "metadata": {},
     "output_type": "execute_result"
    }
   ],
   "source": [
    "orangesRotting([[2,1,1],[1,1,0],[0,1,1]])"
   ]
  },
  {
   "cell_type": "code",
   "execution_count": null,
   "metadata": {},
   "outputs": [],
   "source": []
  }
 ],
 "metadata": {
  "kernelspec": {
   "display_name": "Python 3",
   "language": "python",
   "name": "python3"
  },
  "language_info": {
   "codemirror_mode": {
    "name": "ipython",
    "version": 3
   },
   "file_extension": ".py",
   "mimetype": "text/x-python",
   "name": "python",
   "nbconvert_exporter": "python",
   "pygments_lexer": "ipython3",
   "version": "3.7.0"
  }
 },
 "nbformat": 4,
 "nbformat_minor": 2
}
