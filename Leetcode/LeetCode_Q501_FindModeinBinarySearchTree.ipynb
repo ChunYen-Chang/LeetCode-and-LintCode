{
 "cells": [
  {
   "cell_type": "markdown",
   "metadata": {},
   "source": [
    "# ANSWER ONE - using dictionary"
   ]
  },
  {
   "cell_type": "code",
   "execution_count": null,
   "metadata": {},
   "outputs": [],
   "source": [
    "# Definition for a binary tree node.\n",
    "# class TreeNode(object):\n",
    "#     def __init__(self, x):\n",
    "#         self.val = x\n",
    "#         self.left = None\n",
    "#         self.right = None\n",
    "\n",
    "class Solution(object):\n",
    "    def findMode(self, root):\n",
    "        \"\"\"\n",
    "        :type root: TreeNode\n",
    "        :rtype: List[int]\n",
    "        \"\"\"\n",
    "        \n",
    "        # define a helper function\n",
    "        def helper(root, dic):\n",
    "            if root:\n",
    "                if root.val in dic:\n",
    "                    dic[root.val] += 1\n",
    "                else:\n",
    "                    dic[root.val] = 1\n",
    "                \n",
    "                helper(root.left, dic)\n",
    "                helper(root.right, dic)\n",
    "        \n",
    "        # start the main part\n",
    "        # deal with the [] situation\n",
    "        if not root:\n",
    "            return []\n",
    "        \n",
    "        ans_dic = {}\n",
    "        helper(root, ans_dic)\n",
    "        mode_ans_dic = max(ans_dic.values())\n",
    "        result = [key for key, count in ans_dic.items() if count == mode_ans_dic]\n",
    "        \n",
    "        return result\n",
    "        \n",
    "        "
   ]
  }
 ],
 "metadata": {
  "kernelspec": {
   "display_name": "Python 3",
   "language": "python",
   "name": "python3"
  },
  "language_info": {
   "codemirror_mode": {
    "name": "ipython",
    "version": 3
   },
   "file_extension": ".py",
   "mimetype": "text/x-python",
   "name": "python",
   "nbconvert_exporter": "python",
   "pygments_lexer": "ipython3",
   "version": "3.7.0"
  }
 },
 "nbformat": 4,
 "nbformat_minor": 2
}
