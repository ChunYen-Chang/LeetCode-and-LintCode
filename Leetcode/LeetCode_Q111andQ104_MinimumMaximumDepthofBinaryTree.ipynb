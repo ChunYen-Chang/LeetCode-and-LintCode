{
 "cells": [
  {
   "cell_type": "code",
   "execution_count": 5,
   "metadata": {},
   "outputs": [],
   "source": [
    "# Definition for a binary tree node.\n",
    "class TreeNode(object):\n",
    "    def __init__(self, x):\n",
    "        self.val = x\n",
    "        self.left = None\n",
    "        self.right = None"
   ]
  },
  {
   "cell_type": "code",
   "execution_count": 6,
   "metadata": {},
   "outputs": [],
   "source": [
    "# make a tree\n",
    "node1 = TreeNode(3)\n",
    "node2 = TreeNode(9)\n",
    "node3 = TreeNode(20)\n",
    "node4 = TreeNode(15)\n",
    "node5 = TreeNode(7)\n",
    "\n",
    "node1.left = node2\n",
    "node1.right = node3\n",
    "node3.left = node4\n",
    "node3.right = node5"
   ]
  },
  {
   "cell_type": "markdown",
   "metadata": {},
   "source": [
    "# ANSWER ONE - using BFS"
   ]
  },
  {
   "cell_type": "code",
   "execution_count": 15,
   "metadata": {},
   "outputs": [],
   "source": [
    "from collections import deque\n",
    "def maxDepth(root):\n",
    "    \"\"\"\n",
    "    :type root: TreeNode\n",
    "    :rtype: int\n",
    "    \"\"\"\n",
    "    if not root:\n",
    "        return 0\n",
    "    \n",
    "    container = deque([root])\n",
    "    depth = 0\n",
    "    \n",
    "    while container:\n",
    "        for i in range(len(container)):\n",
    "            \n",
    "            current_root = container.popleft()\n",
    "            \n",
    "            if current_root.left:\n",
    "                container.append(current_root.left)\n",
    "                \n",
    "            if current_root.right:\n",
    "                container.append(current_root.right)\n",
    "                \n",
    "        depth = depth+1\n",
    "        \n",
    "    return depth\n",
    "        "
   ]
  },
  {
   "cell_type": "code",
   "execution_count": 16,
   "metadata": {},
   "outputs": [
    {
     "data": {
      "text/plain": [
       "3"
      ]
     },
     "execution_count": 16,
     "metadata": {},
     "output_type": "execute_result"
    }
   ],
   "source": [
    "maxDepth(node1)"
   ]
  },
  {
   "cell_type": "code",
   "execution_count": 18,
   "metadata": {},
   "outputs": [],
   "source": [
    "from collections import deque\n",
    "def minDepth(root):\n",
    "    \"\"\"\n",
    "    :type root: TreeNode\n",
    "    :rtype: int\n",
    "    \"\"\"\n",
    "    if not root:\n",
    "        return 0\n",
    "    \n",
    "    container = deque([root])\n",
    "    depth = 1\n",
    "    \n",
    "    while container:\n",
    "        for i in range(len(container)):\n",
    "            \n",
    "            current_root = container.popleft()\n",
    "            \n",
    "            if not current_root.left and not current_root.right:\n",
    "                return depth\n",
    "            \n",
    "            if current_root.left:\n",
    "                container.append(current_root.left)\n",
    "                \n",
    "            if current_root.right:\n",
    "                container.append(current_root.right)\n",
    "            \n",
    "        depth = depth+1\n",
    "        \n",
    "  "
   ]
  },
  {
   "cell_type": "code",
   "execution_count": 19,
   "metadata": {},
   "outputs": [
    {
     "data": {
      "text/plain": [
       "2"
      ]
     },
     "execution_count": 19,
     "metadata": {},
     "output_type": "execute_result"
    }
   ],
   "source": [
    "minDepth(node1)"
   ]
  },
  {
   "cell_type": "markdown",
   "metadata": {},
   "source": [
    "# ANSWER TWO - using DFS"
   ]
  },
  {
   "cell_type": "code",
   "execution_count": 32,
   "metadata": {},
   "outputs": [],
   "source": [
    "def maxDepth_style1(root):\n",
    "    \"\"\"\n",
    "    :type root: TreeNode\n",
    "    :rtype: int\n",
    "    \"\"\"\n",
    "    if not root:\n",
    "        return 0\n",
    "    \n",
    "    else:\n",
    "        return max(maxDepth(root.left), maxDepth(root.right))+1\n",
    "    \n",
    "    \n",
    "def maxDepth_style2(root):\n",
    "    \"\"\"\n",
    "    :type root: TreeNode\n",
    "    :rtype: int\n",
    "    \"\"\"\n",
    "    if not root:\n",
    "        return 0\n",
    "    \n",
    "    else:\n",
    "        res_left = maxDepth(root.left)\n",
    "        res_right = maxDepth(root.right)\n",
    "        res = max(res_left, res_right)+1\n",
    "        return res"
   ]
  },
  {
   "cell_type": "code",
   "execution_count": 34,
   "metadata": {},
   "outputs": [
    {
     "name": "stdout",
     "output_type": "stream",
     "text": [
      "3\n",
      "3\n"
     ]
    }
   ],
   "source": [
    "print(maxDepth_style1(node1))\n",
    "print(maxDepth_style2(node1))"
   ]
  },
  {
   "cell_type": "code",
   "execution_count": 29,
   "metadata": {},
   "outputs": [],
   "source": [
    "def minDepth_style1(root):\n",
    "    \"\"\"\n",
    "    :type root: TreeNode\n",
    "    :rtype: int\n",
    "    \"\"\"\n",
    "    if not root:\n",
    "        return 0\n",
    "    \n",
    "    else:\n",
    "        return min(maxDepth(root.left), maxDepth(root.right))+1\n",
    "    \n",
    "    \n",
    "def minDepth_style2(root):\n",
    "    \"\"\"\n",
    "    :type root: TreeNode\n",
    "    :rtype: int\n",
    "    \"\"\"\n",
    "    if not root:\n",
    "        return 0\n",
    "    \n",
    "    else:\n",
    "        res_left = maxDepth(root.left)\n",
    "        res_right = maxDepth(root.right)\n",
    "        res = min(res_left, res_right)+1\n",
    "        return res"
   ]
  },
  {
   "cell_type": "code",
   "execution_count": 30,
   "metadata": {},
   "outputs": [
    {
     "name": "stdout",
     "output_type": "stream",
     "text": [
      "2\n",
      "2\n"
     ]
    }
   ],
   "source": [
    "print(minDepth_style1(node1))\n",
    "print(minDepth_style2(node1))"
   ]
  },
  {
   "cell_type": "code",
   "execution_count": 28,
   "metadata": {},
   "outputs": [
    {
     "data": {
      "text/plain": [
       "2"
      ]
     },
     "execution_count": 28,
     "metadata": {},
     "output_type": "execute_result"
    }
   ],
   "source": [
    "minDepth(node1)"
   ]
  }
 ],
 "metadata": {
  "kernelspec": {
   "display_name": "Python 3",
   "language": "python",
   "name": "python3"
  },
  "language_info": {
   "codemirror_mode": {
    "name": "ipython",
    "version": 3
   },
   "file_extension": ".py",
   "mimetype": "text/x-python",
   "name": "python",
   "nbconvert_exporter": "python",
   "pygments_lexer": "ipython3",
   "version": "3.7.0"
  }
 },
 "nbformat": 4,
 "nbformat_minor": 2
}
