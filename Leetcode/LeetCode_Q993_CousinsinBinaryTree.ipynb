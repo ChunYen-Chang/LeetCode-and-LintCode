{
 "cells": [
  {
   "cell_type": "markdown",
   "metadata": {},
   "source": [
    "# QUESTION"
   ]
  },
  {
   "cell_type": "code",
   "execution_count": 1,
   "metadata": {},
   "outputs": [],
   "source": [
    "#Definition for a binary tree node.\n",
    "class TreeNode(object):\n",
    "    def __init__(self, x):\n",
    "        self.val = x\n",
    "        self.left = None\n",
    "        self.right = None"
   ]
  },
  {
   "cell_type": "code",
   "execution_count": 2,
   "metadata": {},
   "outputs": [],
   "source": [
    "# make two trees\n",
    "# tree1\n",
    "node1 = TreeNode(1)\n",
    "node2 = TreeNode(3)\n",
    "node3 = TreeNode(2)\n",
    "node4 = TreeNode(4)\n",
    "\n",
    "node1.left = node2\n",
    "node1.right = node3\n",
    "node2.left = node4\n",
    "\n",
    "# tree2\n",
    "node_1 = TreeNode(1)\n",
    "node_2 = TreeNode(2)\n",
    "node_3 = TreeNode(3)\n",
    "node_4 = TreeNode(4)\n",
    "node_5 = TreeNode(5)\n",
    "\n",
    "node_1.left = node_2\n",
    "node_1.right = node_3\n",
    "node_2.right = node_4\n",
    "node_3.right = node_5"
   ]
  },
  {
   "cell_type": "markdown",
   "metadata": {},
   "source": [
    "# ANSWER - using BFS"
   ]
  },
  {
   "cell_type": "code",
   "execution_count": 3,
   "metadata": {},
   "outputs": [],
   "source": [
    "from collections import deque\n",
    "def isCousins(root, x, y):\n",
    "    \"\"\"\n",
    "    :type root: TreeNode\n",
    "    :type x: int\n",
    "    :type y: int\n",
    "    :rtype: bool\n",
    "    \"\"\"\n",
    "    # ----------pre-setting----------\n",
    "    # define the _check function\n",
    "    def _check(root, target):\n",
    "    \n",
    "        queue = deque([root])\n",
    "        depth = 1\n",
    "    \n",
    "        while queue:\n",
    "            for level in range(len(queue)):\n",
    "                current_node = queue.popleft()\n",
    "\n",
    "                if current_node.left:\n",
    "                    if current_node.left.val == target:\n",
    "                        return [current_node, depth+1]\n",
    "\n",
    "                    queue.append(current_node.left)\n",
    "                \n",
    "                if current_node.right:\n",
    "                    if current_node.right.val == target:\n",
    "                        return [current_node, depth+1]\n",
    "                \n",
    "                    queue.append(current_node.right)\n",
    "        \n",
    "            depth = depth+1\n",
    "    \n",
    "    # ----------execute the pregram----------       \n",
    "    if not root:\n",
    "        return False\n",
    "        \n",
    "    res1 = _check(root, x)\n",
    "    res2 = _check(root, y)\n",
    "        \n",
    "    if (res1 and res2) and ((res1[0] != res2[0]) and (res1[1] == res2[1])):\n",
    "        return True\n",
    "    else:\n",
    "        return False\n",
    "    "
   ]
  },
  {
   "cell_type": "code",
   "execution_count": 4,
   "metadata": {},
   "outputs": [
    {
     "data": {
      "text/plain": [
       "False"
      ]
     },
     "execution_count": 4,
     "metadata": {},
     "output_type": "execute_result"
    }
   ],
   "source": [
    "isCousins(node1,4,3)"
   ]
  },
  {
   "cell_type": "code",
   "execution_count": 5,
   "metadata": {},
   "outputs": [
    {
     "data": {
      "text/plain": [
       "True"
      ]
     },
     "execution_count": 5,
     "metadata": {},
     "output_type": "execute_result"
    }
   ],
   "source": [
    "isCousins(node_1,5,4)"
   ]
  },
  {
   "cell_type": "code",
   "execution_count": 6,
   "metadata": {},
   "outputs": [
    {
     "data": {
      "text/plain": [
       "False"
      ]
     },
     "execution_count": 6,
     "metadata": {},
     "output_type": "execute_result"
    }
   ],
   "source": [
    "isCousins(node_1,5,99)"
   ]
  },
  {
   "cell_type": "code",
   "execution_count": null,
   "metadata": {},
   "outputs": [],
   "source": []
  }
 ],
 "metadata": {
  "kernelspec": {
   "display_name": "Python 3",
   "language": "python",
   "name": "python3"
  },
  "language_info": {
   "codemirror_mode": {
    "name": "ipython",
    "version": 3
   },
   "file_extension": ".py",
   "mimetype": "text/x-python",
   "name": "python",
   "nbconvert_exporter": "python",
   "pygments_lexer": "ipython3",
   "version": "3.7.0"
  }
 },
 "nbformat": 4,
 "nbformat_minor": 2
}
